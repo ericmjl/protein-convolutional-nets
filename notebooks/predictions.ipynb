{
 "cells": [
  {
   "cell_type": "markdown",
   "metadata": {},
   "source": [
    "We have some models that are trained on a subset of the data (e.g. the one that was trained on 100 proteases for 100,000 iterations). Let's check the generalization error on those."
   ]
  },
  {
   "cell_type": "code",
   "execution_count": 1,
   "metadata": {
    "collapsed": false
   },
   "outputs": [
    {
     "name": "stderr",
     "output_type": "stream",
     "text": [
      "/Users/ericmjl/anaconda/lib/python3.5/site-packages/sklearn/preprocessing/data.py:583: DeprecationWarning: Passing 1d arrays as data is deprecated in 0.17 and will raise ValueError in 0.19. Reshape your data either using X.reshape(-1, 1) if your data has a single feature or X.reshape(1, -1) if it contains a single sample.\n",
      "  warnings.warn(DEPRECATION_MSG_1D, DeprecationWarning)\n",
      "/Users/ericmjl/anaconda/lib/python3.5/site-packages/sklearn/preprocessing/data.py:583: DeprecationWarning: Passing 1d arrays as data is deprecated in 0.17 and will raise ValueError in 0.19. Reshape your data either using X.reshape(-1, 1) if your data has a single feature or X.reshape(1, -1) if it contains a single sample.\n",
      "  warnings.warn(DEPRECATION_MSG_1D, DeprecationWarning)\n"
     ]
    }
   ],
   "source": [
    "from pin import pin\n",
    "import pandas as pd\n",
    "import json\n",
    "import pickle as pkl\n",
    "\n"
   ]
  },
  {
   "cell_type": "code",
   "execution_count": 15,
   "metadata": {
    "collapsed": true
   },
   "outputs": [],
   "source": [
    "with open('../experiments/outputs/100-graphs_10000-iters_wbs.pkl', 'rb') as f:\n",
    "    wb = pkl.load(f)"
   ]
  },
  {
   "cell_type": "code",
   "execution_count": 16,
   "metadata": {
    "collapsed": false
   },
   "outputs": [
    {
     "data": {
      "text/plain": [
       "-1.0994781577520054"
      ]
     },
     "execution_count": 16,
     "metadata": {},
     "output_type": "execute_result"
    }
   ],
   "source": [
    "wb['layer0_GraphConvLayer']['weights'].min()"
   ]
  },
  {
   "cell_type": "code",
   "execution_count": 17,
   "metadata": {
    "collapsed": false
   },
   "outputs": [
    {
     "data": {
      "text/html": [
       "<div>\n",
       "<table border=\"1\" class=\"dataframe\">\n",
       "  <thead>\n",
       "    <tr style=\"text-align: right;\">\n",
       "      <th></th>\n",
       "      <th>ATV</th>\n",
       "      <th>DRV</th>\n",
       "      <th>FPV</th>\n",
       "      <th>IDV</th>\n",
       "      <th>LPV</th>\n",
       "      <th>NFV</th>\n",
       "      <th>SQV</th>\n",
       "      <th>SeqID</th>\n",
       "      <th>TPV</th>\n",
       "      <th>seqid</th>\n",
       "      <th>sequence</th>\n",
       "      <th>sequence_object</th>\n",
       "      <th>weight</th>\n",
       "    </tr>\n",
       "  </thead>\n",
       "  <tbody>\n",
       "    <tr>\n",
       "      <th>0</th>\n",
       "      <td>NaN</td>\n",
       "      <td>NaN</td>\n",
       "      <td>2.5</td>\n",
       "      <td>16.3</td>\n",
       "      <td>NaN</td>\n",
       "      <td>38.6</td>\n",
       "      <td>16.1</td>\n",
       "      <td>2996</td>\n",
       "      <td>NaN</td>\n",
       "      <td>2996-0</td>\n",
       "      <td>PQITLWQRPIVTIKIGGQLKEALLDTGADDTVLEDVNLPGRWKPKM...</td>\n",
       "      <td>ID: 2996-0\\nName: &lt;unknown name&gt;\\nDescription:...</td>\n",
       "      <td>0.50</td>\n",
       "    </tr>\n",
       "    <tr>\n",
       "      <th>1</th>\n",
       "      <td>NaN</td>\n",
       "      <td>NaN</td>\n",
       "      <td>2.5</td>\n",
       "      <td>16.3</td>\n",
       "      <td>NaN</td>\n",
       "      <td>38.6</td>\n",
       "      <td>16.1</td>\n",
       "      <td>2996</td>\n",
       "      <td>NaN</td>\n",
       "      <td>2996-1</td>\n",
       "      <td>PQITLWQRPIVTIKIGGQLKEALLDTGADDTVLEDVNLPGRWKPKM...</td>\n",
       "      <td>ID: 2996-1\\nName: &lt;unknown name&gt;\\nDescription:...</td>\n",
       "      <td>0.50</td>\n",
       "    </tr>\n",
       "    <tr>\n",
       "      <th>2</th>\n",
       "      <td>NaN</td>\n",
       "      <td>NaN</td>\n",
       "      <td>0.7</td>\n",
       "      <td>0.8</td>\n",
       "      <td>NaN</td>\n",
       "      <td>0.8</td>\n",
       "      <td>1.1</td>\n",
       "      <td>4387</td>\n",
       "      <td>NaN</td>\n",
       "      <td>4387-0</td>\n",
       "      <td>PQITLWQRPLVTIKVGGQLKEALLDTGADDTVLEDMELPGRWKPKM...</td>\n",
       "      <td>ID: 4387-0\\nName: &lt;unknown name&gt;\\nDescription:...</td>\n",
       "      <td>0.25</td>\n",
       "    </tr>\n",
       "    <tr>\n",
       "      <th>3</th>\n",
       "      <td>NaN</td>\n",
       "      <td>NaN</td>\n",
       "      <td>0.7</td>\n",
       "      <td>0.8</td>\n",
       "      <td>NaN</td>\n",
       "      <td>0.8</td>\n",
       "      <td>1.1</td>\n",
       "      <td>4387</td>\n",
       "      <td>NaN</td>\n",
       "      <td>4387-1</td>\n",
       "      <td>PQITLWQRPLVTIKVGGQLKEALLDTGADDTVLEDMELPGRWKPKM...</td>\n",
       "      <td>ID: 4387-1\\nName: &lt;unknown name&gt;\\nDescription:...</td>\n",
       "      <td>0.25</td>\n",
       "    </tr>\n",
       "    <tr>\n",
       "      <th>4</th>\n",
       "      <td>NaN</td>\n",
       "      <td>NaN</td>\n",
       "      <td>0.7</td>\n",
       "      <td>0.8</td>\n",
       "      <td>NaN</td>\n",
       "      <td>0.8</td>\n",
       "      <td>1.1</td>\n",
       "      <td>4387</td>\n",
       "      <td>NaN</td>\n",
       "      <td>4387-2</td>\n",
       "      <td>PQITLWQRPLVTIKVGGQLKEALLDTGADDTVLEDMELPGRWKPKM...</td>\n",
       "      <td>ID: 4387-2\\nName: &lt;unknown name&gt;\\nDescription:...</td>\n",
       "      <td>0.25</td>\n",
       "    </tr>\n",
       "  </tbody>\n",
       "</table>\n",
       "</div>"
      ],
      "text/plain": [
       "   ATV  DRV  FPV   IDV  LPV   NFV   SQV  SeqID  TPV   seqid  \\\n",
       "0  NaN  NaN  2.5  16.3  NaN  38.6  16.1   2996  NaN  2996-0   \n",
       "1  NaN  NaN  2.5  16.3  NaN  38.6  16.1   2996  NaN  2996-1   \n",
       "2  NaN  NaN  0.7   0.8  NaN   0.8   1.1   4387  NaN  4387-0   \n",
       "3  NaN  NaN  0.7   0.8  NaN   0.8   1.1   4387  NaN  4387-1   \n",
       "4  NaN  NaN  0.7   0.8  NaN   0.8   1.1   4387  NaN  4387-2   \n",
       "\n",
       "                                            sequence  \\\n",
       "0  PQITLWQRPIVTIKIGGQLKEALLDTGADDTVLEDVNLPGRWKPKM...   \n",
       "1  PQITLWQRPIVTIKIGGQLKEALLDTGADDTVLEDVNLPGRWKPKM...   \n",
       "2  PQITLWQRPLVTIKVGGQLKEALLDTGADDTVLEDMELPGRWKPKM...   \n",
       "3  PQITLWQRPLVTIKVGGQLKEALLDTGADDTVLEDMELPGRWKPKM...   \n",
       "4  PQITLWQRPLVTIKVGGQLKEALLDTGADDTVLEDMELPGRWKPKM...   \n",
       "\n",
       "                                     sequence_object  weight  \n",
       "0  ID: 2996-0\\nName: <unknown name>\\nDescription:...    0.50  \n",
       "1  ID: 2996-1\\nName: <unknown name>\\nDescription:...    0.50  \n",
       "2  ID: 4387-0\\nName: <unknown name>\\nDescription:...    0.25  \n",
       "3  ID: 4387-1\\nName: <unknown name>\\nDescription:...    0.25  \n",
       "4  ID: 4387-2\\nName: <unknown name>\\nDescription:...    0.25  "
      ]
     },
     "execution_count": 17,
     "metadata": {},
     "output_type": "execute_result"
    }
   ],
   "source": [
    "data = pd.read_csv('../data/hiv_data/hiv-protease-data-expanded.csv', index_col=0)\n",
    "data.head()"
   ]
  },
  {
   "cell_type": "code",
   "execution_count": 18,
   "metadata": {
    "collapsed": true
   },
   "outputs": [],
   "source": [
    "with open('../data/batch_summary.json') as f:\n",
    "    model_data = json.load(f)"
   ]
  },
  {
   "cell_type": "code",
   "execution_count": 23,
   "metadata": {
    "collapsed": false,
    "scrolled": true
   },
   "outputs": [
    {
     "data": {
      "text/plain": [
       "{'code': 'wJ9TDy',\n",
       " 'created': '2016-01-02',\n",
       " 'models': [{'GMQE': 0.9800000191,\n",
       "   'id': '01',\n",
       "   'oligo_state': 'homo-dimer',\n",
       "   'qmean': 0.3202740713,\n",
       "   'seq_coverage': 1.0,\n",
       "   'seq_id': 91.9191894531,\n",
       "   'seq_sim': 0.5824936032,\n",
       "   'status': 'COMPLETED',\n",
       "   'template': '4ll3.1.B',\n",
       "   'tpl_seq': 'PQITLWQRPLVTIKIGGQLKEALLDTGADDTVLEEMNLPGRWKPKMIGGIGGFIKVRQYDQILIEICGHKAIGTVLVGPTPVNIIGRNLLTQIGCTLNF',\n",
       "   'trg_seq': 'PQITLWQRPLVTIKIEGQLKEALLDTGADDTVLEEINLSGKWKPKMIGGIGGFIKVGQYDQITIEICGHKVIGTVLVGPTPVNIIGRNLLTQLGCTLNF'},\n",
       "  {'GMQE': 0.9800000191,\n",
       "   'id': '02',\n",
       "   'oligo_state': 'homo-dimer',\n",
       "   'qmean': -0.9170268789,\n",
       "   'seq_coverage': 1.0,\n",
       "   'seq_id': 91.9191894531,\n",
       "   'seq_sim': 0.5824936032,\n",
       "   'status': 'COMPLETED',\n",
       "   'template': '1a8g.1.A',\n",
       "   'tpl_seq': 'PQITLWQRPLVTIKIGGQLKEALLDTGADDTVLEEMNLPGRWKPKMIGGIGGFIKVRQYDQILIEICGHKAIGTVLVGPTPVNIIGRNLLTQIGCTLNF',\n",
       "   'trg_seq': 'PQITLWQRPLVTIKIEGQLKEALLDTGADDTVLEEINLSGKWKPKMIGGIGGFIKVGQYDQITIEICGHKVIGTVLVGPTPVNIIGRNLLTQLGCTLNF'},\n",
       "  {'GMQE': 0.9800000191,\n",
       "   'id': '03',\n",
       "   'oligo_state': 'homo-dimer',\n",
       "   'qmean': -0.5994937920000001,\n",
       "   'seq_coverage': 1.0,\n",
       "   'seq_id': 91.9191894531,\n",
       "   'seq_sim': 0.5824936032,\n",
       "   'status': 'COMPLETED',\n",
       "   'template': '1vik.1.A',\n",
       "   'tpl_seq': 'PQITLWQRPLVTIKIGGQLKEALLDTGADDTVLEEMNLPGRWKPKMIGGIGGFIKVRQYDQILIEICGHKAIGTVLVGPTPVNIIGRNLLTQIGCTLNF',\n",
       "   'trg_seq': 'PQITLWQRPLVTIKIEGQLKEALLDTGADDTVLEEINLSGKWKPKMIGGIGGFIKVGQYDQITIEICGHKVIGTVLVGPTPVNIIGRNLLTQLGCTLNF'}],\n",
       " 'target': 'PQITLWQRPLVTIKIEGQLKEALLDTGADDTVLEEINLSGKWKPKMIGGIGGFIKVGQYDQITIEICGHKVIGTVLVGPTPVNIIGRNLLTQLGCTLNF',\n",
       " 'title': '259265-1',\n",
       " 'type': 'TARGET_SEQUENCE'}"
      ]
     },
     "execution_count": 23,
     "metadata": {},
     "output_type": "execute_result"
    }
   ],
   "source": [
    "model_data['projects'][0]"
   ]
  },
  {
   "cell_type": "code",
   "execution_count": 86,
   "metadata": {
    "collapsed": false
   },
   "outputs": [],
   "source": [
    "# Make the model.\n",
    "\n",
    "n_graphs = 8\n",
    "\n",
    "def make_protein_graphs(project, seqid):\n",
    "    \"\"\"\n",
    "    Custom function for this script to parallelize the making of protein\n",
    "    graphs over individual cores.\n",
    "    \"\"\"\n",
    "    p = pin.ProteinInteractionNetwork('../data/batch_models/{0}/model_01.pdb'\n",
    "                                      .format(project))\n",
    "    p.graph['project'] = project\n",
    "    p.graph['input_shape'] = p.nodes(data=True)[0][1]['features'].shape\n",
    "    p.graph['seqid'] = seqid\n",
    "    return p\n",
    "\n",
    "project_id = 10  # change this number to play around with it.\n",
    "\n",
    "project = model_data['projects'][project_id]['code']\n",
    "p = pin.ProteinInteractionNetwork('../data/batch_models/{0}/model_01.pdb'.format(project))\n",
    "p.graph['project'] = project\n",
    "p.graph['input_shape'] = p.nodes(data=True)[project_id][1]['features'].shape\n",
    "p.graph['seqid'] = model_data['projects'][project_id]['title']\n"
   ]
  },
  {
   "cell_type": "code",
   "execution_count": 79,
   "metadata": {
    "collapsed": false
   },
   "outputs": [
    {
     "data": {
      "text/plain": [
       "{'input_shape': (1, 36), 'project': 'rGXLEm', 'seqid': '259241-1'}"
      ]
     },
     "execution_count": 79,
     "metadata": {},
     "output_type": "execute_result"
    }
   ],
   "source": [
    "p.graph"
   ]
  },
  {
   "cell_type": "code",
   "execution_count": 80,
   "metadata": {
    "collapsed": false
   },
   "outputs": [],
   "source": [
    "from graphfp.layers import GraphConvLayer, FingerprintLayer, LinearRegressionLayer\n",
    "from graphfp.flatten import flatten\n",
    "from graphfp.utils import batch_sample"
   ]
  },
  {
   "cell_type": "code",
   "execution_count": 81,
   "metadata": {
    "collapsed": false
   },
   "outputs": [],
   "source": [
    "input_shape = p.graph['input_shape']\n",
    "\n",
    "layers = [GraphConvLayer(kernel_shape=(input_shape[1], input_shape[1])),\n",
    "          FingerprintLayer(shape=(input_shape)),\n",
    "          LinearRegressionLayer(shape=(input_shape, 1)),\n",
    "         ]"
   ]
  },
  {
   "cell_type": "code",
   "execution_count": 82,
   "metadata": {
    "collapsed": true
   },
   "outputs": [],
   "source": [
    "graphs = [p]\n",
    "batch_size = 1\n",
    "samp_graphs, samp_inputs = batch_sample(graphs, input_shape, batch_size)\n"
   ]
  },
  {
   "cell_type": "code",
   "execution_count": 83,
   "metadata": {
    "collapsed": true
   },
   "outputs": [],
   "source": [
    "def predict(wb_struct, inputs, graphs):\n",
    "    \"\"\"\n",
    "    Makes predictions by running the forward pass over all of the layers.\n",
    "\n",
    "    Parameters:\n",
    "    ===========\n",
    "    - wb_struct: a dictionary of weights and biases stored for each layer.\n",
    "    - inputs: the input data matrix. should be one row per graph.\n",
    "    - graphs: a list of all graphs.\n",
    "    \"\"\"\n",
    "    curr_inputs = inputs\n",
    "\n",
    "    for i, layer in enumerate(layers):\n",
    "        # print(type(wb_struct))\n",
    "        wb = wb_struct['layer{0}_{1}'.format(i, layer)]\n",
    "        curr_inputs = layer.forward_pass(wb, curr_inputs, graphs)\n",
    "    return curr_inputs\n"
   ]
  },
  {
   "cell_type": "code",
   "execution_count": 84,
   "metadata": {
    "collapsed": false
   },
   "outputs": [
    {
     "data": {
      "text/plain": [
       "array([[-0.42684438]])"
      ]
     },
     "execution_count": 84,
     "metadata": {},
     "output_type": "execute_result"
    }
   ],
   "source": [
    "preds = predict(wb, samp_inputs, samp_graphs)\n",
    "preds"
   ]
  },
  {
   "cell_type": "code",
   "execution_count": 85,
   "metadata": {
    "collapsed": false
   },
   "outputs": [
    {
     "data": {
      "text/plain": [
       "6936    0.8\n",
       "Name: FPV, dtype: float64"
      ]
     },
     "execution_count": 85,
     "metadata": {},
     "output_type": "execute_result"
    }
   ],
   "source": [
    "data[data.seqid == p.graph['seqid']]['FPV']"
   ]
  },
  {
   "cell_type": "markdown",
   "metadata": {},
   "source": [
    "Clearly there is overfitting going on."
   ]
  },
  {
   "cell_type": "code",
   "execution_count": null,
   "metadata": {
    "collapsed": true
   },
   "outputs": [],
   "source": []
  }
 ],
 "metadata": {
  "kernelspec": {
   "display_name": "Python 3",
   "language": "python",
   "name": "python3"
  },
  "language_info": {
   "codemirror_mode": {
    "name": "ipython",
    "version": 3
   },
   "file_extension": ".py",
   "mimetype": "text/x-python",
   "name": "python",
   "nbconvert_exporter": "python",
   "pygments_lexer": "ipython3",
   "version": "3.5.1"
  },
  "widgets": {
   "state": {},
   "version": "1.1.1"
  }
 },
 "nbformat": 4,
 "nbformat_minor": 0
}
