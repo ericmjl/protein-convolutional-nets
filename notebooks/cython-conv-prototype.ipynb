{
 "cells": [
  {
   "cell_type": "code",
   "execution_count": 2,
   "metadata": {
    "collapsed": false
   },
   "outputs": [],
   "source": [
    "from autograd import grad\n",
    "\n",
    "import autograd.numpy as np\n",
    "import pickle as pkl\n",
    "import json\n",
    "import pandas as pd\n",
    "import matplotlib.pyplot as plt\n",
    "\n",
    "%matplotlib inline\n",
    "%load_ext autoreload\n",
    "%autoreload 2\n",
    "%load_ext cython"
   ]
  },
  {
   "cell_type": "code",
   "execution_count": 3,
   "metadata": {
    "collapsed": false
   },
   "outputs": [
    {
     "data": {
      "text/html": [
       "<div>\n",
       "<table border=\"1\" class=\"dataframe\">\n",
       "  <thead>\n",
       "    <tr style=\"text-align: right;\">\n",
       "      <th></th>\n",
       "      <th>ATV</th>\n",
       "      <th>DRV</th>\n",
       "      <th>FPV</th>\n",
       "      <th>IDV</th>\n",
       "      <th>LPV</th>\n",
       "      <th>NFV</th>\n",
       "      <th>SQV</th>\n",
       "      <th>SeqID</th>\n",
       "      <th>TPV</th>\n",
       "      <th>seqid</th>\n",
       "      <th>sequence</th>\n",
       "      <th>sequence_object</th>\n",
       "      <th>weight</th>\n",
       "    </tr>\n",
       "  </thead>\n",
       "  <tbody>\n",
       "    <tr>\n",
       "      <th>0</th>\n",
       "      <td>NaN</td>\n",
       "      <td>NaN</td>\n",
       "      <td>2.5</td>\n",
       "      <td>16.3</td>\n",
       "      <td>NaN</td>\n",
       "      <td>38.6</td>\n",
       "      <td>16.1</td>\n",
       "      <td>2996</td>\n",
       "      <td>NaN</td>\n",
       "      <td>2996-0</td>\n",
       "      <td>PQITLWQRPIVTIKIGGQLKEALLDTGADDTVLEDVNLPGRWKPKM...</td>\n",
       "      <td>ID: 2996-0\\nName: &lt;unknown name&gt;\\nDescription:...</td>\n",
       "      <td>0.50</td>\n",
       "    </tr>\n",
       "    <tr>\n",
       "      <th>1</th>\n",
       "      <td>NaN</td>\n",
       "      <td>NaN</td>\n",
       "      <td>2.5</td>\n",
       "      <td>16.3</td>\n",
       "      <td>NaN</td>\n",
       "      <td>38.6</td>\n",
       "      <td>16.1</td>\n",
       "      <td>2996</td>\n",
       "      <td>NaN</td>\n",
       "      <td>2996-1</td>\n",
       "      <td>PQITLWQRPIVTIKIGGQLKEALLDTGADDTVLEDVNLPGRWKPKM...</td>\n",
       "      <td>ID: 2996-1\\nName: &lt;unknown name&gt;\\nDescription:...</td>\n",
       "      <td>0.50</td>\n",
       "    </tr>\n",
       "    <tr>\n",
       "      <th>2</th>\n",
       "      <td>NaN</td>\n",
       "      <td>NaN</td>\n",
       "      <td>0.7</td>\n",
       "      <td>0.8</td>\n",
       "      <td>NaN</td>\n",
       "      <td>0.8</td>\n",
       "      <td>1.1</td>\n",
       "      <td>4387</td>\n",
       "      <td>NaN</td>\n",
       "      <td>4387-0</td>\n",
       "      <td>PQITLWQRPLVTIKVGGQLKEALLDTGADDTVLEDMELPGRWKPKM...</td>\n",
       "      <td>ID: 4387-0\\nName: &lt;unknown name&gt;\\nDescription:...</td>\n",
       "      <td>0.25</td>\n",
       "    </tr>\n",
       "    <tr>\n",
       "      <th>3</th>\n",
       "      <td>NaN</td>\n",
       "      <td>NaN</td>\n",
       "      <td>0.7</td>\n",
       "      <td>0.8</td>\n",
       "      <td>NaN</td>\n",
       "      <td>0.8</td>\n",
       "      <td>1.1</td>\n",
       "      <td>4387</td>\n",
       "      <td>NaN</td>\n",
       "      <td>4387-1</td>\n",
       "      <td>PQITLWQRPLVTIKVGGQLKEALLDTGADDTVLEDMELPGRWKPKM...</td>\n",
       "      <td>ID: 4387-1\\nName: &lt;unknown name&gt;\\nDescription:...</td>\n",
       "      <td>0.25</td>\n",
       "    </tr>\n",
       "    <tr>\n",
       "      <th>4</th>\n",
       "      <td>NaN</td>\n",
       "      <td>NaN</td>\n",
       "      <td>0.7</td>\n",
       "      <td>0.8</td>\n",
       "      <td>NaN</td>\n",
       "      <td>0.8</td>\n",
       "      <td>1.1</td>\n",
       "      <td>4387</td>\n",
       "      <td>NaN</td>\n",
       "      <td>4387-2</td>\n",
       "      <td>PQITLWQRPLVTIKVGGQLKEALLDTGADDTVLEDMELPGRWKPKM...</td>\n",
       "      <td>ID: 4387-2\\nName: &lt;unknown name&gt;\\nDescription:...</td>\n",
       "      <td>0.25</td>\n",
       "    </tr>\n",
       "  </tbody>\n",
       "</table>\n",
       "</div>"
      ],
      "text/plain": [
       "   ATV  DRV  FPV   IDV  LPV   NFV   SQV  SeqID  TPV   seqid  \\\n",
       "0  NaN  NaN  2.5  16.3  NaN  38.6  16.1   2996  NaN  2996-0   \n",
       "1  NaN  NaN  2.5  16.3  NaN  38.6  16.1   2996  NaN  2996-1   \n",
       "2  NaN  NaN  0.7   0.8  NaN   0.8   1.1   4387  NaN  4387-0   \n",
       "3  NaN  NaN  0.7   0.8  NaN   0.8   1.1   4387  NaN  4387-1   \n",
       "4  NaN  NaN  0.7   0.8  NaN   0.8   1.1   4387  NaN  4387-2   \n",
       "\n",
       "                                            sequence  \\\n",
       "0  PQITLWQRPIVTIKIGGQLKEALLDTGADDTVLEDVNLPGRWKPKM...   \n",
       "1  PQITLWQRPIVTIKIGGQLKEALLDTGADDTVLEDVNLPGRWKPKM...   \n",
       "2  PQITLWQRPLVTIKVGGQLKEALLDTGADDTVLEDMELPGRWKPKM...   \n",
       "3  PQITLWQRPLVTIKVGGQLKEALLDTGADDTVLEDMELPGRWKPKM...   \n",
       "4  PQITLWQRPLVTIKVGGQLKEALLDTGADDTVLEDMELPGRWKPKM...   \n",
       "\n",
       "                                     sequence_object  weight  \n",
       "0  ID: 2996-0\\nName: <unknown name>\\nDescription:...    0.50  \n",
       "1  ID: 2996-1\\nName: <unknown name>\\nDescription:...    0.50  \n",
       "2  ID: 4387-0\\nName: <unknown name>\\nDescription:...    0.25  \n",
       "3  ID: 4387-1\\nName: <unknown name>\\nDescription:...    0.25  \n",
       "4  ID: 4387-2\\nName: <unknown name>\\nDescription:...    0.25  "
      ]
     },
     "execution_count": 3,
     "metadata": {},
     "output_type": "execute_result"
    }
   ],
   "source": [
    "# Open the data file that contains the HIV protease data\n",
    "\n",
    "df = pd.read_csv('../data/hiv_data/hiv-protease-data-expanded.csv', index_col=0)\n",
    "df = df.dropna(subset=['FPV'])\n",
    "df.head()"
   ]
  },
  {
   "cell_type": "code",
   "execution_count": 4,
   "metadata": {
    "collapsed": false
   },
   "outputs": [],
   "source": [
    "# Open the numpy array of all graphs' data.\n",
    "graph_arr = np.load('../data/feat_array.npy')"
   ]
  },
  {
   "cell_type": "code",
   "execution_count": 5,
   "metadata": {
    "collapsed": false
   },
   "outputs": [],
   "source": [
    "# Open the pickles that contain the graph information and node-nbr information.\n",
    "def unpickle_data(path):\n",
    "    with open(path, 'rb') as f:\n",
    "        data = pkl.load(f)\n",
    "    return data\n",
    "\n",
    "graph_idxs = unpickle_data('../data/graph_idxs.pkl')\n",
    "graph_nodes = unpickle_data('../data/graph_nodes.pkl')\n",
    "nodes_nbrs = unpickle_data('../data/nodes_nbrs.pkl')"
   ]
  },
  {
   "cell_type": "code",
   "execution_count": 6,
   "metadata": {
    "collapsed": false
   },
   "outputs": [
    {
     "data": {
      "text/plain": [
       "['7415-0', '257959-6', '90004-1', '112542-3', '60082-0']"
      ]
     },
     "execution_count": 6,
     "metadata": {},
     "output_type": "execute_result"
    }
   ],
   "source": [
    "list(graph_idxs.keys())[0:5]\n",
    "# len(graph_idxs.keys())"
   ]
  },
  {
   "cell_type": "code",
   "execution_count": 7,
   "metadata": {
    "collapsed": false
   },
   "outputs": [
    {
     "data": {
      "text/plain": [
       "('7415-0',\n",
       " {648015: 'A70LYS',\n",
       "  648016: 'A19LEU',\n",
       "  648017: 'B73GLY',\n",
       "  648018: 'A36MET',\n",
       "  648019: 'B41ARG',\n",
       "  648020: 'A12THR',\n",
       "  648021: 'A24LEU',\n",
       "  648022: 'B68GLY',\n",
       "  648023: 'B4THR',\n",
       "  648024: 'A88ASN',\n",
       "  648025: 'A37ASN',\n",
       "  648026: 'B2GLN',\n",
       "  648027: 'A29ASP',\n",
       "  648028: 'A6TRP',\n",
       "  648029: 'A32VAL',\n",
       "  648030: 'A3ILE',\n",
       "  648031: 'B16GLY',\n",
       "  648032: 'B75VAL',\n",
       "  648033: 'A42TRP',\n",
       "  648034: 'A34GLU',\n",
       "  648035: 'A65GLU',\n",
       "  648036: 'A53PHE',\n",
       "  648037: 'A85ILE',\n",
       "  648038: 'B6TRP',\n",
       "  648039: 'A94GLY',\n",
       "  648040: 'A93ILE',\n",
       "  648041: 'A52GLY',\n",
       "  648042: 'B66ILE',\n",
       "  648043: 'A7GLN',\n",
       "  648044: 'B70LYS',\n",
       "  648045: 'B32VAL',\n",
       "  648046: 'A2GLN',\n",
       "  648047: 'B79PRO',\n",
       "  648048: 'A44PRO',\n",
       "  648049: 'A22ALA',\n",
       "  648050: 'A82VAL',\n",
       "  648051: 'B28ALA',\n",
       "  648052: 'B94GLY',\n",
       "  648053: 'B22ALA',\n",
       "  648054: 'B40GLY',\n",
       "  648055: 'B49GLY',\n",
       "  648056: 'B76LEU',\n",
       "  648057: 'B15ILE',\n",
       "  648058: 'A28ALA',\n",
       "  648059: 'A71VAL',\n",
       "  648060: 'B84VAL',\n",
       "  648061: 'B57LYS',\n",
       "  648062: 'B71VAL',\n",
       "  648063: 'B78GLY',\n",
       "  648064: 'A20LYS',\n",
       "  648065: 'A59TYR',\n",
       "  648066: 'A13ILE',\n",
       "  648067: 'B19LEU',\n",
       "  648068: 'B18GLN',\n",
       "  648069: 'A21GLU',\n",
       "  648070: 'A96THR',\n",
       "  648071: 'B13ILE',\n",
       "  648072: 'A39PRO',\n",
       "  648073: 'B55LYS',\n",
       "  648074: 'B9PRO',\n",
       "  648075: 'A55LYS',\n",
       "  648076: 'B7GLN',\n",
       "  648077: 'B10LEU',\n",
       "  648078: 'B38LEU',\n",
       "  648079: 'A17GLY',\n",
       "  648080: 'B42TRP',\n",
       "  648081: 'B54ILE',\n",
       "  648082: 'A43LYS',\n",
       "  648083: 'A5LEU',\n",
       "  648084: 'B58GLN',\n",
       "  648085: 'B47ILE',\n",
       "  648086: 'A73GLY',\n",
       "  648087: 'B24LEU',\n",
       "  648088: 'B21GLU',\n",
       "  648089: 'A35GLU',\n",
       "  648090: 'A66ILE',\n",
       "  648091: 'B51GLY',\n",
       "  648092: 'A46MET',\n",
       "  648093: 'B63PRO',\n",
       "  648094: 'B81PRO',\n",
       "  648095: 'A89LEU',\n",
       "  648096: 'A56VAL',\n",
       "  648097: 'A78GLY',\n",
       "  648098: 'A69HIS',\n",
       "  648099: 'B89LEU',\n",
       "  648100: 'A77VAL',\n",
       "  648101: 'B61GLN',\n",
       "  648102: 'B17GLY',\n",
       "  648103: 'B97LEU',\n",
       "  648104: 'A60ASP',\n",
       "  648105: 'B74THR',\n",
       "  648106: 'B43LYS',\n",
       "  648107: 'B69HIS',\n",
       "  648108: 'B72ILE',\n",
       "  648109: 'B3ILE',\n",
       "  648110: 'A23LEU',\n",
       "  648111: 'A68GLY',\n",
       "  648112: 'A18GLN',\n",
       "  648113: 'A9PRO',\n",
       "  648114: 'B96THR',\n",
       "  648115: 'A61GLN',\n",
       "  648116: 'A1PRO',\n",
       "  648117: 'A83ASN',\n",
       "  648118: 'A11VAL',\n",
       "  648119: 'A27GLY',\n",
       "  648120: 'A10LEU',\n",
       "  648121: 'B23LEU',\n",
       "  648122: 'B77VAL',\n",
       "  648123: 'B44PRO',\n",
       "  648124: 'A33LEU',\n",
       "  648125: 'A63PRO',\n",
       "  648126: 'B95CYS',\n",
       "  648127: 'B67CYS',\n",
       "  648128: 'A91THR',\n",
       "  648129: 'A92GLN',\n",
       "  648130: 'A8ARG',\n",
       "  648131: 'A79PRO',\n",
       "  648132: 'A87ARG',\n",
       "  648133: 'B86GLY',\n",
       "  648134: 'B48GLY',\n",
       "  648135: 'A47ILE',\n",
       "  648136: 'A75VAL',\n",
       "  648137: 'A90MET',\n",
       "  648138: 'A50ILE',\n",
       "  648139: 'B36MET',\n",
       "  648140: 'A16GLY',\n",
       "  648141: 'B34GLU',\n",
       "  648142: 'B33LEU',\n",
       "  648143: 'A14LYS',\n",
       "  648144: 'B14LYS',\n",
       "  648145: 'B11VAL',\n",
       "  648146: 'B87ARG',\n",
       "  648147: 'A67CYS',\n",
       "  648148: 'A72ILE',\n",
       "  648149: 'B93ILE',\n",
       "  648150: 'B98ASN',\n",
       "  648151: 'A25ASP',\n",
       "  648152: 'A41ARG',\n",
       "  648153: 'B80THR',\n",
       "  648154: 'B60ASP',\n",
       "  648155: 'B30ASP',\n",
       "  648156: 'A64ILE',\n",
       "  648157: 'B82VAL',\n",
       "  648158: 'A31THR',\n",
       "  648159: 'A99PHE',\n",
       "  648160: 'A98ASN',\n",
       "  648161: 'A45LYS',\n",
       "  648162: 'B83ASN',\n",
       "  648163: 'B65GLU',\n",
       "  648164: 'B46MET',\n",
       "  648165: 'A74THR',\n",
       "  648166: 'B20LYS',\n",
       "  648167: 'B35GLU',\n",
       "  648168: 'B12THR',\n",
       "  648169: 'B90MET',\n",
       "  648170: 'A54ILE',\n",
       "  648171: 'B53PHE',\n",
       "  648172: 'A4THR',\n",
       "  648173: 'B45LYS',\n",
       "  648174: 'B85ILE',\n",
       "  648175: 'A76LEU',\n",
       "  648176: 'B59TYR',\n",
       "  648177: 'A58GLN',\n",
       "  648178: 'A62ILE',\n",
       "  648179: 'B27GLY',\n",
       "  648180: 'A49GLY',\n",
       "  648181: 'B52GLY',\n",
       "  648182: 'B37ASN',\n",
       "  648183: 'A26THR',\n",
       "  648184: 'A15ILE',\n",
       "  648185: 'B64ILE',\n",
       "  648186: 'B31THR',\n",
       "  648187: 'B1PRO',\n",
       "  648188: 'A95CYS',\n",
       "  648189: 'B26THR',\n",
       "  648190: 'A40GLY',\n",
       "  648191: 'A30ASP',\n",
       "  648192: 'B29ASP',\n",
       "  648193: 'B62ILE',\n",
       "  648194: 'A51GLY',\n",
       "  648195: 'A84VAL',\n",
       "  648196: 'B99PHE',\n",
       "  648197: 'A80THR',\n",
       "  648198: 'A86GLY',\n",
       "  648199: 'A38LEU',\n",
       "  648200: 'B5LEU',\n",
       "  648201: 'A81PRO',\n",
       "  648202: 'B92GLN',\n",
       "  648203: 'B91THR',\n",
       "  648204: 'B25ASP',\n",
       "  648205: 'A97LEU',\n",
       "  648206: 'B88ASN',\n",
       "  648207: 'A57LYS',\n",
       "  648208: 'B50ILE',\n",
       "  648209: 'B39PRO',\n",
       "  648210: 'A48GLY',\n",
       "  648211: 'B56VAL',\n",
       "  648212: 'B8ARG'})"
      ]
     },
     "execution_count": 7,
     "metadata": {},
     "output_type": "execute_result"
    }
   ],
   "source": [
    "list(graph_nodes.items())[0]"
   ]
  },
  {
   "cell_type": "code",
   "execution_count": 8,
   "metadata": {
    "collapsed": false
   },
   "outputs": [
    {
     "data": {
      "text/plain": [
       "(0, [0, 23, 46])"
      ]
     },
     "execution_count": 8,
     "metadata": {},
     "output_type": "execute_result"
    }
   ],
   "source": [
    "list(nodes_nbrs.items())[0]"
   ]
  },
  {
   "cell_type": "code",
   "execution_count": 9,
   "metadata": {
    "collapsed": false
   },
   "outputs": [
    {
     "data": {
      "text/plain": [
       "3200"
      ]
     },
     "execution_count": 9,
     "metadata": {},
     "output_type": "execute_result"
    }
   ],
   "source": [
    "# Keep track of only those that are in both the graph_idxs and in the df['seqid']\n",
    "intersect = set(df['seqid'].values).intersection(graph_idxs.keys())\n",
    "len(intersect)"
   ]
  },
  {
   "cell_type": "code",
   "execution_count": 10,
   "metadata": {
    "collapsed": false
   },
   "outputs": [],
   "source": [
    "# Get a reduced list of graph_idxs.\n",
    "graph_idxs_red = dict()\n",
    "graph_nodes_red = dict()\n",
    "for g in intersect:\n",
    "    graph_idxs_red[g] = graph_idxs[g]\n",
    "    graph_nodes_red[g] = graph_nodes[g]"
   ]
  },
  {
   "cell_type": "code",
   "execution_count": 11,
   "metadata": {
    "collapsed": false
   },
   "outputs": [
    {
     "data": {
      "text/plain": [
       "[535066,\n",
       " 535067,\n",
       " 535068,\n",
       " 535069,\n",
       " 535070,\n",
       " 535071,\n",
       " 535072,\n",
       " 535073,\n",
       " 535074,\n",
       " 535075,\n",
       " 535076,\n",
       " 535077,\n",
       " 535078,\n",
       " 535079,\n",
       " 535080,\n",
       " 535081,\n",
       " 535082,\n",
       " 535083,\n",
       " 535084,\n",
       " 535085,\n",
       " 535086,\n",
       " 535087,\n",
       " 535088,\n",
       " 535089,\n",
       " 535090,\n",
       " 535091,\n",
       " 535092,\n",
       " 535093,\n",
       " 535094,\n",
       " 535095,\n",
       " 535096,\n",
       " 535097,\n",
       " 535098,\n",
       " 535099,\n",
       " 535100,\n",
       " 535101,\n",
       " 535102,\n",
       " 535103,\n",
       " 535104,\n",
       " 535105,\n",
       " 535106,\n",
       " 535107,\n",
       " 535108,\n",
       " 535109,\n",
       " 535110,\n",
       " 535111,\n",
       " 535112,\n",
       " 535113,\n",
       " 535114,\n",
       " 535115,\n",
       " 535116,\n",
       " 535117,\n",
       " 535118,\n",
       " 535119,\n",
       " 535120,\n",
       " 535121,\n",
       " 535122,\n",
       " 535123,\n",
       " 535124,\n",
       " 535125,\n",
       " 535126,\n",
       " 535127,\n",
       " 535128,\n",
       " 535129,\n",
       " 535130,\n",
       " 535131,\n",
       " 535132,\n",
       " 535133,\n",
       " 535134,\n",
       " 535135,\n",
       " 535136,\n",
       " 535137,\n",
       " 535138,\n",
       " 535139,\n",
       " 535140,\n",
       " 535141,\n",
       " 535142,\n",
       " 535143,\n",
       " 535144,\n",
       " 535145,\n",
       " 535146,\n",
       " 535147,\n",
       " 535148,\n",
       " 535149,\n",
       " 535150,\n",
       " 535151,\n",
       " 535152,\n",
       " 535153,\n",
       " 535154,\n",
       " 535155,\n",
       " 535156,\n",
       " 535157,\n",
       " 535158,\n",
       " 535159,\n",
       " 535160,\n",
       " 535161,\n",
       " 535162,\n",
       " 535163,\n",
       " 535164,\n",
       " 535165,\n",
       " 535166,\n",
       " 535167,\n",
       " 535168,\n",
       " 535169,\n",
       " 535170,\n",
       " 535171,\n",
       " 535172,\n",
       " 535173,\n",
       " 535174,\n",
       " 535175,\n",
       " 535176,\n",
       " 535177,\n",
       " 535178,\n",
       " 535179,\n",
       " 535180,\n",
       " 535181,\n",
       " 535182,\n",
       " 535183,\n",
       " 535184,\n",
       " 535185,\n",
       " 535186,\n",
       " 535187,\n",
       " 535188,\n",
       " 535189,\n",
       " 535190,\n",
       " 535191,\n",
       " 535192,\n",
       " 535193,\n",
       " 535194,\n",
       " 535195,\n",
       " 535196,\n",
       " 535197,\n",
       " 535198,\n",
       " 535199,\n",
       " 535200,\n",
       " 535201,\n",
       " 535202,\n",
       " 535203,\n",
       " 535204,\n",
       " 535205,\n",
       " 535206,\n",
       " 535207,\n",
       " 535208,\n",
       " 535209,\n",
       " 535210,\n",
       " 535211,\n",
       " 535212,\n",
       " 535213,\n",
       " 535214,\n",
       " 535215,\n",
       " 535216,\n",
       " 535217,\n",
       " 535218,\n",
       " 535219,\n",
       " 535220,\n",
       " 535221,\n",
       " 535222,\n",
       " 535223,\n",
       " 535224,\n",
       " 535225,\n",
       " 535226,\n",
       " 535227,\n",
       " 535228,\n",
       " 535229,\n",
       " 535230,\n",
       " 535231,\n",
       " 535232,\n",
       " 535233,\n",
       " 535234,\n",
       " 535235,\n",
       " 535236,\n",
       " 535237,\n",
       " 535238,\n",
       " 535239,\n",
       " 535240,\n",
       " 535241,\n",
       " 535242,\n",
       " 535243,\n",
       " 535244,\n",
       " 535245,\n",
       " 535246,\n",
       " 535247,\n",
       " 535248,\n",
       " 535249,\n",
       " 535250,\n",
       " 535251,\n",
       " 535252,\n",
       " 535253,\n",
       " 535254,\n",
       " 535255,\n",
       " 535256,\n",
       " 535257,\n",
       " 535258,\n",
       " 535259,\n",
       " 535260,\n",
       " 535261,\n",
       " 535262,\n",
       " 535263]"
      ]
     },
     "execution_count": 11,
     "metadata": {},
     "output_type": "execute_result"
    }
   ],
   "source": [
    "graph_idxs_red['46213-0']"
   ]
  },
  {
   "cell_type": "code",
   "execution_count": 12,
   "metadata": {
    "collapsed": false,
    "scrolled": true
   },
   "outputs": [
    {
     "data": {
      "text/plain": [
       "(659895, 36)"
      ]
     },
     "execution_count": 12,
     "metadata": {},
     "output_type": "execute_result"
    }
   ],
   "source": [
    "graph_arr.shape"
   ]
  },
  {
   "cell_type": "code",
   "execution_count": 13,
   "metadata": {
    "collapsed": false,
    "scrolled": true
   },
   "outputs": [],
   "source": [
    "# Make one pass over the data to get the old/new index mapping, and\n",
    "# make the final graph_array that gets passed in as an input.\n",
    "\n",
    "def reindex_data_matrix(graph_idxs_red, graph_arr):\n",
    "    \"\"\"\n",
    "    Parameters:\n",
    "    ===========\n",
    "    - graph_idxs_red: reduced graph indices\n",
    "    - graph_arr: the original matrix of (nodes by node_features)\n",
    "    \n",
    "    Returns:\n",
    "    ========\n",
    "    - graph_arr_fin: a reduced matrix of (nodes by node_features)\n",
    "    - nodes_oldnew, nodes_newold: mapping of new and old indices.\n",
    "    \"\"\"\n",
    "    # Initialize a zero-matrix. \n",
    "    idxs = np.concatenate([i for i in graph_idxs_red.values()])\n",
    "    graph_arr_fin = np.zeros(shape=graph_arr[idxs].shape)\n",
    "\n",
    "    # Initialize empty maps of graph indices from the old to the new.\n",
    "    nodes_oldnew = dict()  # {old_idx: new_idx}.\n",
    "    nodes_newold = dict()  # {new_idx: old_idx}\n",
    "\n",
    "    # Re-assign reduced graphs to the zero-matrix.\n",
    "    curr_idx = 0\n",
    "    for seqid, idxs in sorted(graph_idxs_red.items()):\n",
    "        for idx in idxs:\n",
    "            nodes_oldnew[idx] = curr_idx\n",
    "            nodes_newold[curr_idx] = idx\n",
    "            graph_arr_fin[curr_idx] = graph_arr[idx]\n",
    "            curr_idx += 1\n",
    "    return graph_arr_fin, nodes_oldnew, nodes_newold\n",
    "\n",
    "graph_arr_fin, nodes_oldnew, nodes_newold = reindex_data_matrix(graph_idxs_red, graph_arr)"
   ]
  },
  {
   "cell_type": "code",
   "execution_count": 14,
   "metadata": {
    "collapsed": false
   },
   "outputs": [
    {
     "data": {
      "text/plain": [
       "(622671, 36)"
      ]
     },
     "execution_count": 14,
     "metadata": {},
     "output_type": "execute_result"
    }
   ],
   "source": [
    "graph_arr_fin.shape"
   ]
  },
  {
   "cell_type": "code",
   "execution_count": 15,
   "metadata": {
    "collapsed": false
   },
   "outputs": [
    {
     "data": {
      "text/plain": [
       "622671"
      ]
     },
     "execution_count": 15,
     "metadata": {},
     "output_type": "execute_result"
    }
   ],
   "source": [
    "len(nodes_oldnew)"
   ]
  },
  {
   "cell_type": "code",
   "execution_count": 16,
   "metadata": {
    "collapsed": false
   },
   "outputs": [
    {
     "data": {
      "text/plain": [
       "622671"
      ]
     },
     "execution_count": 16,
     "metadata": {},
     "output_type": "execute_result"
    }
   ],
   "source": [
    "len(nodes_newold)"
   ]
  },
  {
   "cell_type": "code",
   "execution_count": 17,
   "metadata": {
    "collapsed": false,
    "scrolled": true
   },
   "outputs": [],
   "source": [
    "# Check a random sample of the indices to make sure that they are sampled correctly.\n",
    "from random import sample\n",
    "\n",
    "n_samples = 10000\n",
    "rnd_idxs = sample([i for i in range(graph_arr_fin.shape[0])], n_samples)\n",
    "for new_idx in rnd_idxs:\n",
    "    assert np.all(np.equal(graph_arr_fin[new_idx], graph_arr[nodes_newold[new_idx]]))"
   ]
  },
  {
   "cell_type": "code",
   "execution_count": 18,
   "metadata": {
    "collapsed": false
   },
   "outputs": [
    {
     "data": {
      "text/plain": [
       "(622671, 36)"
      ]
     },
     "execution_count": 18,
     "metadata": {},
     "output_type": "execute_result"
    }
   ],
   "source": [
    "graph_arr_fin.shape"
   ]
  },
  {
   "cell_type": "code",
   "execution_count": 19,
   "metadata": {
    "collapsed": false
   },
   "outputs": [],
   "source": [
    "# Finally, rework the nodes_nbrs, graph_idxs, and graph_nodes dictionaries with the corrected idxs.\n",
    "# THIS IS THE KEY STEP! MUST ENCAPSULATE IN A FUNCTION!\n",
    "from collections import defaultdict\n",
    "\n",
    "def filter_and_reindex_nodes_and_neighbors(nodes_nbrs, nodes_oldnew):\n",
    "    \"\"\"\n",
    "    - nodes_nbrs: a dictionary of nodes and their neighbors.\n",
    "    - nodes_oldnew: a dictionary mapping old node indices to their new node indices.\n",
    "    \"\"\"\n",
    "    nodes_nbrs_fin = defaultdict(list)\n",
    "    \n",
    "    for node, nbrs in sorted(nodes_nbrs.items()):\n",
    "        if node in nodes_oldnew.keys():  # \n",
    "            for nbr in nbrs:\n",
    "                nodes_nbrs_fin[nodes_oldnew[node]].append(nodes_oldnew[nbr])\n",
    "    return nodes_nbrs_fin\n",
    "\n",
    "nodes_nbrs_fin = filter_and_reindex_nodes_and_neighbors(nodes_nbrs, nodes_oldnew)"
   ]
  },
  {
   "cell_type": "code",
   "execution_count": 20,
   "metadata": {
    "collapsed": false
   },
   "outputs": [],
   "source": [
    "# Try writing the un_reindexer:\n",
    "# nodes_nbrs_old = filter_and_reindex_nodes_and_neighbors(nodes_nbrs_fin, nodes_newold)"
   ]
  },
  {
   "cell_type": "code",
   "execution_count": 21,
   "metadata": {
    "collapsed": false
   },
   "outputs": [],
   "source": [
    "# for k, v in nodes_nbrs.items():\n",
    "# #     assert v == nodes_nbrs_old[k], print(v, nodes_nbrs_old[k])"
   ]
  },
  {
   "cell_type": "code",
   "execution_count": 22,
   "metadata": {
    "collapsed": false
   },
   "outputs": [],
   "source": [
    "def filter_and_reindex_graph_idxs(graph_idxs, nodes_oldnew):\n",
    "    \"\"\"\n",
    "    - graph_idxs: a dictionary of graphs and their original indices.\n",
    "    - nodes_oldnew: a dictionary mapping old node indices to their new node indices.\n",
    "    \"\"\"\n",
    "    graph_idxs_fin = defaultdict(list)\n",
    "    for seqid, nodes in sorted(graph_idxs.items()):\n",
    "        for node in nodes:\n",
    "            if node in nodes_oldnew.keys():\n",
    "                graph_idxs_fin[seqid].append(nodes_oldnew[node])\n",
    "    return graph_idxs_fin\n",
    "\n",
    "graph_idxs_fin = filter_and_reindex_graph_idxs(graph_idxs, nodes_oldnew)"
   ]
  },
  {
   "cell_type": "code",
   "execution_count": 23,
   "metadata": {
    "collapsed": false
   },
   "outputs": [],
   "source": [
    "def filter_and_reindex_graph_nodes(graph_nodes, nodes_oldnew):\n",
    "    \"\"\"\n",
    "    - graph_nodes: a dictionary mapping graphs to their dictionary mapping indices to node names.\n",
    "    - nodes_oldnew: a dictionary mapping old node indices to their new node indices.\n",
    "    \"\"\"    \n",
    "    graph_nodes_fin = defaultdict(dict)\n",
    "    for seqid, idx_node in sorted(graph_nodes.items()):\n",
    "        for old_idx, node_name in idx_node.items():\n",
    "            if old_idx in nodes_oldnew.keys():\n",
    "                graph_nodes_fin[seqid][nodes_oldnew[old_idx]] = node_name\n",
    "    return graph_nodes_fin\n",
    "\n",
    "graph_nodes_fin = filter_and_reindex_graph_nodes(graph_nodes, nodes_oldnew)"
   ]
  },
  {
   "cell_type": "code",
   "execution_count": null,
   "metadata": {
    "collapsed": false
   },
   "outputs": [],
   "source": []
  },
  {
   "cell_type": "code",
   "execution_count": 24,
   "metadata": {
    "collapsed": false,
    "scrolled": false
   },
   "outputs": [],
   "source": [
    "%%cython\n",
    "\n",
    "import cython\n",
    "cimport numpy as np\n",
    "import numpy as np\n",
    "\n",
    "ctypedef np.float64_t DTYPE_t\n",
    "\n",
    "def new_activations(inputs, nodes_nbrs):\n",
    "    nodes_nbrs = dict(nodes_nbrs)\n",
    "    return new_activations_(inputs, nodes_nbrs)\n",
    "\n",
    "cdef new_activations_(inputs, nodes_nbrs):\n",
    "    cdef np.ndarray[DTYPE_t, ndim=2] activations = np.zeros(shape=inputs.shape)\n",
    "    cdef int n\n",
    "    cdef list nbrs\n",
    "    # cdef npsum = np.add.reduce\n",
    "    cdef npsum = np.sum\n",
    "    for n, nbrs in sorted(nodes_nbrs.items()):\n",
    "        activations[n] = npsum(inputs[nbrs], axis=0)\n",
    "        # activations[n] = node_nbr_acts_(inputs, nbrs)\n",
    "        # activations[n] = axis_zero_sum(inputs[nbrs])\n",
    "    return activations\n",
    "\n",
    "#### TRY IMPLEMENTING NUMPY SUM HERE ####\n",
    "cdef np.ndarray axis_zero_sum(input_arr):\n",
    "    \"\"\"\n",
    "    Worth a shot? Let's see if this works better than calling np.sum all the time.\n",
    "    \"\"\"\n",
    "    shape = input_arr.shape\n",
    "    cdef int cols = input_arr.shape[1]\n",
    "    cdef int col\n",
    "    cdef float SUM\n",
    "    cdef np.ndarray output = np.zeros(shape=(1, cols))\n",
    "\n",
    "    for j in range(cols):\n",
    "        output[col] = sum(input_arr[col])\n",
    "    return output\n",
    "\n",
    "\n",
    "#### TRYING SOMETHING DIFFERENT HERE ####\n",
    "\n",
    "def dict_to_dense_array(dict_vals):\n",
    "    return dict_to_dense_array_(dict_vals)\n",
    "\n",
    "cdef np.ndarray dict_to_dense_array_(dict dict_vals):\n",
    "    \"\"\"\n",
    "    Converts dictionary to dense array.\n",
    "    \"\"\"\n",
    "    cdef np.ndarray array = np.zeros(shape=(len(dict_vals), len(dict_vals)))\n",
    "    cdef int k\n",
    "    cdef list v\n",
    "    for k, v in dict_vals.items():\n",
    "        array[k, v] = 1\n",
    "        \n",
    "    return array\n",
    "\n",
    "def new_activations_dot(inputs, nodes_nbrs):\n",
    "    idx_mat = dict_to_dense_array(dict(nodes_nbrs))\n",
    "    \n",
    "    return np.dot(idx_mat, inputs)"
   ]
  },
  {
   "cell_type": "code",
   "execution_count": 25,
   "metadata": {
    "collapsed": false
   },
   "outputs": [
    {
     "data": {
      "text/plain": [
       "array([[ 0.89292931,  0.0272049 ,  0.28087526, ...,  0.35710826,\n",
       "         0.03640007,  0.3262148 ],\n",
       "       [ 3.12934883,  2.15908094,  3.86484089, ...,  3.90431393,\n",
       "         5.19899145,  3.3422633 ],\n",
       "       [ 3.31507919,  1.74025707,  4.37031848, ...,  2.75468566,\n",
       "         2.5451117 ,  2.44405025],\n",
       "       ..., \n",
       "       [ 1.25589857,  0.96534215,  1.69595138, ...,  1.89097902,\n",
       "         1.54034847,  2.02348804],\n",
       "       [ 2.77034719,  2.65180809,  2.67253074, ...,  2.98856057,\n",
       "         2.9870072 ,  1.98191582],\n",
       "       [ 4.26843477,  3.00766774,  5.13847833, ...,  3.8176885 ,\n",
       "         3.1330377 ,  4.17118155]])"
      ]
     },
     "execution_count": 25,
     "metadata": {},
     "output_type": "execute_result"
    }
   ],
   "source": [
    "# %%prun\n",
    "from random import sample, choice\n",
    "all_nodes = [i for i in range(100)]\n",
    "num_nbrs = [n for n in range(1, 10)]\n",
    "arr = np.random.random(size=(len(all_nodes),len(all_nodes)))\n",
    "\n",
    "node_nbrs = {i:sample(all_nodes, choice(num_nbrs)) for i in all_nodes}\n",
    "# dict_vals = {0: [1, 2, 5], \n",
    "#              1: [2, 1, 3],\n",
    "#              2: [3, 1, 5, 2],\n",
    "#              3: [4, 3, 1],\n",
    "#              4: [1, 2],\n",
    "#              5: [3]}\n",
    "# arr = dict_to_dense_array(dict_vals)\n",
    "new_activations(arr, node_nbrs)"
   ]
  },
  {
   "cell_type": "code",
   "execution_count": null,
   "metadata": {
    "collapsed": true
   },
   "outputs": [],
   "source": []
  },
  {
   "cell_type": "code",
   "execution_count": 26,
   "metadata": {
    "collapsed": false
   },
   "outputs": [],
   "source": [
    "from graphfp.wb import WeightsAndBiases\n",
    "import autograd.numpy as np\n",
    "from graphfp.nonlinearity import relu\n",
    "from autograd.numpy.numpy_extra import take\n",
    "\n",
    "class GraphConvLayer(object):\n",
    "    \"\"\"\n",
    "    A graph convolution layer. Convolution operation is:\n",
    "\n",
    "        [self + nbrs] (shape=(1row x n_feats)) @ weights + bias\n",
    "    \"\"\"\n",
    "    def __init__(self, weights_shape, biases_shape):\n",
    "        \"\"\"\n",
    "        Parameters:\n",
    "        ===========\n",
    "        \"\"\"\n",
    "        self.weights_shape = weights_shape\n",
    "        self.biases_shape = biases_shape\n",
    "        self.wb = WeightsAndBiases()\n",
    "\n",
    "    def __repr__(self):\n",
    "        return \"GraphConvLayer\"\n",
    "\n",
    "    def forward_pass(self, wb, inputs, nodes_nbrs, graph_idxs):\n",
    "        \"\"\"\n",
    "        Parameters:\n",
    "        ===========\n",
    "        - inputs: (np.array) the output from the previous layer.\n",
    "        - nodes_nbrs: (dict) keys=node_idxs, values=[self_idxs + nbr_idxs]\n",
    "        - graph_idxs: (dict) keys=graph seqids, values=[node_idxs]\n",
    "        \"\"\"\n",
    "\n",
    "        weights = wb['weights']\n",
    "        biases = wb['biases']\n",
    "        #--------------------------------#\n",
    "        # activations = new_activations(inputs, nodes_nbrs)\n",
    "        # print(activations.dtype)\n",
    "        #--------------------------------#\n",
    "        # ## This is the original\n",
    "        # activations = np.zeros(shape=inputs.shape)\n",
    "        # for n, nbrs in sorted(nodes_nbrs.items()):\n",
    "        #     activations[n] = np.sum(getval(inputs[nbrs]), axis=0)\n",
    "        #--------------------------------#\n",
    "        # ## This is BAD!!! DO NOT UNCOMMENT\n",
    "        # activations = new_activations_dot(inputs, nodes_nbrs)\n",
    "        #--------------------------------#\n",
    "        ## Courtesey of Jake Vanderplas, UW eScience Institute\n",
    "        new_nbrs = np.full((inputs.shape[0], max(map(len, nodes_nbrs.values()))), -1, dtype=int)\n",
    "        for i, v in nodes_nbrs.items():\n",
    "            new_nbrs[i, :len(v)] = v\n",
    "        # add a row of zeros to X\n",
    "        new_inputs = np.vstack([inputs, 0 * inputs[0]])\n",
    "        activations = new_inputs.take(new_nbrs, 0).sum(1)\n",
    "        # activations = take(new_inputs, new_nbrs).sum(1)\n",
    "        #--------------------------------#\n",
    "        ## Trying a different version using scipy.sparse matrices. \n",
    "        \n",
    "        return relu(np.dot(activations, weights) + biases)\n",
    "\n",
    "    def build_weights(self):\n",
    "        \"\"\"\n",
    "        Parameters:\n",
    "        ===========\n",
    "        - input_shape: (2-tuple) of integers.\n",
    "\n",
    "        Returns:\n",
    "        ========\n",
    "        - output_shape: (2-tuple) of integers specifying the output shape.\n",
    "        \"\"\"\n",
    "        self.wb.add(name='weights', shape=self.weights_shape)\n",
    "        # self.wb.add(name='nbr_weights', shape=self.kernel_shape)\n",
    "        self.wb.add(name='biases', shape=self.biases_shape)\n",
    "\n",
    "        return self.wb"
   ]
  },
  {
   "cell_type": "code",
   "execution_count": 27,
   "metadata": {
    "collapsed": false
   },
   "outputs": [],
   "source": [
    "import operator as op\n",
    "\n",
    "\n",
    "def to_sparse_format(dct):\n",
    "    rows, cols = zip(*sorted(dct.items(), key=op.itemgetter(0)))\n",
    "    rows = np.repeat(rows, list(map(len, cols)))\n",
    "    cols = np.concatenate(cols)\n",
    "    return rows.astype('int32'), cols.astype('int32')\n",
    "\n",
    "\n",
    "node_nbrs_rows, node_nbrs_cols = to_sparse_format(nodes_nbrs_fin)"
   ]
  },
  {
   "cell_type": "code",
   "execution_count": 42,
   "metadata": {
    "collapsed": false
   },
   "outputs": [],
   "source": [
    "%%cython\n",
    "\n",
    "import numpy as np\n",
    "cimport numpy as np\n",
    "from cython.parallel import prange\n",
    "from cython import boundscheck, nonecheck, wraparound\n",
    "\n",
    "def csr_binary_dot_left(rows, cols, inputs):\n",
    "    out = np.zeros_like(inputs)\n",
    "    _csr_binary_dot_left(rows, cols, inputs, out)\n",
    "    return out\n",
    "\n",
    "@nonecheck(False)\n",
    "@wraparound(False)\n",
    "@boundscheck(False)\n",
    "cdef inline void _csr_binary_dot_left(int[::1] rows, int[::1] cols, double[:,::1] B, double[:,::1] out):\n",
    "    cdef int idx, i, j, k\n",
    "    print(B.shape)\n",
    "    print(cols.shape)\n",
    "    print(rows.shape)\n",
    "    for idx in range(rows.shape[0]):\n",
    "        i = rows[idx]\n",
    "        k = cols[idx]\n",
    "        for j in range(B.shape[1]):\n",
    "            out[i,j] += B[k,j]"
   ]
  },
  {
   "cell_type": "code",
   "execution_count": 52,
   "metadata": {
    "collapsed": false,
    "scrolled": false
   },
   "outputs": [
    {
     "data": {
      "text/html": [
       "<!DOCTYPE html>\n",
       "<!-- Generated by Cython 0.23.4 -->\n",
       "<html>\n",
       "<head>\n",
       "    <meta http-equiv=\"Content-Type\" content=\"text/html; charset=utf-8\" />\n",
       "    <title>Cython: _cython_magic_8703053e1b3def7d5630a257bc8b2692.pyx</title>\n",
       "    <style type=\"text/css\">\n",
       "    \n",
       "body.cython { font-family: courier; font-size: 12; }\n",
       "\n",
       ".cython.tag  {  }\n",
       ".cython.line { margin: 0em }\n",
       ".cython.code { font-size: 9; color: #444444; display: none; margin: 0px 0px 0px 8px; border-left: 8px none; }\n",
       "\n",
       ".cython.line .run { background-color: #B0FFB0; }\n",
       ".cython.line .mis { background-color: #FFB0B0; }\n",
       ".cython.code.run  { border-left: 8px solid #B0FFB0; }\n",
       ".cython.code.mis  { border-left: 8px solid #FFB0B0; }\n",
       "\n",
       ".cython.code .py_c_api  { color: red; }\n",
       ".cython.code .py_macro_api  { color: #FF7000; }\n",
       ".cython.code .pyx_c_api  { color: #FF3000; }\n",
       ".cython.code .pyx_macro_api  { color: #FF7000; }\n",
       ".cython.code .refnanny  { color: #FFA000; }\n",
       ".cython.code .trace  { color: #FFA000; }\n",
       ".cython.code .error_goto  { color: #FFA000; }\n",
       "\n",
       ".cython.code .coerce  { color: #008000; border: 1px dotted #008000 }\n",
       ".cython.code .py_attr { color: #FF0000; font-weight: bold; }\n",
       ".cython.code .c_attr  { color: #0000FF; }\n",
       ".cython.code .py_call { color: #FF0000; font-weight: bold; }\n",
       ".cython.code .c_call  { color: #0000FF; }\n",
       "\n",
       ".cython.score-0 {background-color: #FFFFff;}\n",
       ".cython.score-1 {background-color: #FFFFe7;}\n",
       ".cython.score-2 {background-color: #FFFFd4;}\n",
       ".cython.score-3 {background-color: #FFFFc4;}\n",
       ".cython.score-4 {background-color: #FFFFb6;}\n",
       ".cython.score-5 {background-color: #FFFFaa;}\n",
       ".cython.score-6 {background-color: #FFFF9f;}\n",
       ".cython.score-7 {background-color: #FFFF96;}\n",
       ".cython.score-8 {background-color: #FFFF8d;}\n",
       ".cython.score-9 {background-color: #FFFF86;}\n",
       ".cython.score-10 {background-color: #FFFF7f;}\n",
       ".cython.score-11 {background-color: #FFFF79;}\n",
       ".cython.score-12 {background-color: #FFFF73;}\n",
       ".cython.score-13 {background-color: #FFFF6e;}\n",
       ".cython.score-14 {background-color: #FFFF6a;}\n",
       ".cython.score-15 {background-color: #FFFF66;}\n",
       ".cython.score-16 {background-color: #FFFF62;}\n",
       ".cython.score-17 {background-color: #FFFF5e;}\n",
       ".cython.score-18 {background-color: #FFFF5b;}\n",
       ".cython.score-19 {background-color: #FFFF57;}\n",
       ".cython.score-20 {background-color: #FFFF55;}\n",
       ".cython.score-21 {background-color: #FFFF52;}\n",
       ".cython.score-22 {background-color: #FFFF4f;}\n",
       ".cython.score-23 {background-color: #FFFF4d;}\n",
       ".cython.score-24 {background-color: #FFFF4b;}\n",
       ".cython.score-25 {background-color: #FFFF48;}\n",
       ".cython.score-26 {background-color: #FFFF46;}\n",
       ".cython.score-27 {background-color: #FFFF44;}\n",
       ".cython.score-28 {background-color: #FFFF43;}\n",
       ".cython.score-29 {background-color: #FFFF41;}\n",
       ".cython.score-30 {background-color: #FFFF3f;}\n",
       ".cython.score-31 {background-color: #FFFF3e;}\n",
       ".cython.score-32 {background-color: #FFFF3c;}\n",
       ".cython.score-33 {background-color: #FFFF3b;}\n",
       ".cython.score-34 {background-color: #FFFF39;}\n",
       ".cython.score-35 {background-color: #FFFF38;}\n",
       ".cython.score-36 {background-color: #FFFF37;}\n",
       ".cython.score-37 {background-color: #FFFF36;}\n",
       ".cython.score-38 {background-color: #FFFF35;}\n",
       ".cython.score-39 {background-color: #FFFF34;}\n",
       ".cython.score-40 {background-color: #FFFF33;}\n",
       ".cython.score-41 {background-color: #FFFF32;}\n",
       ".cython.score-42 {background-color: #FFFF31;}\n",
       ".cython.score-43 {background-color: #FFFF30;}\n",
       ".cython.score-44 {background-color: #FFFF2f;}\n",
       ".cython.score-45 {background-color: #FFFF2e;}\n",
       ".cython.score-46 {background-color: #FFFF2d;}\n",
       ".cython.score-47 {background-color: #FFFF2c;}\n",
       ".cython.score-48 {background-color: #FFFF2b;}\n",
       ".cython.score-49 {background-color: #FFFF2b;}\n",
       ".cython.score-50 {background-color: #FFFF2a;}\n",
       ".cython.score-51 {background-color: #FFFF29;}\n",
       ".cython.score-52 {background-color: #FFFF29;}\n",
       ".cython.score-53 {background-color: #FFFF28;}\n",
       ".cython.score-54 {background-color: #FFFF27;}\n",
       ".cython.score-55 {background-color: #FFFF27;}\n",
       ".cython.score-56 {background-color: #FFFF26;}\n",
       ".cython.score-57 {background-color: #FFFF26;}\n",
       ".cython.score-58 {background-color: #FFFF25;}\n",
       ".cython.score-59 {background-color: #FFFF24;}\n",
       ".cython.score-60 {background-color: #FFFF24;}\n",
       ".cython.score-61 {background-color: #FFFF23;}\n",
       ".cython.score-62 {background-color: #FFFF23;}\n",
       ".cython.score-63 {background-color: #FFFF22;}\n",
       ".cython.score-64 {background-color: #FFFF22;}\n",
       ".cython.score-65 {background-color: #FFFF22;}\n",
       ".cython.score-66 {background-color: #FFFF21;}\n",
       ".cython.score-67 {background-color: #FFFF21;}\n",
       ".cython.score-68 {background-color: #FFFF20;}\n",
       ".cython.score-69 {background-color: #FFFF20;}\n",
       ".cython.score-70 {background-color: #FFFF1f;}\n",
       ".cython.score-71 {background-color: #FFFF1f;}\n",
       ".cython.score-72 {background-color: #FFFF1f;}\n",
       ".cython.score-73 {background-color: #FFFF1e;}\n",
       ".cython.score-74 {background-color: #FFFF1e;}\n",
       ".cython.score-75 {background-color: #FFFF1e;}\n",
       ".cython.score-76 {background-color: #FFFF1d;}\n",
       ".cython.score-77 {background-color: #FFFF1d;}\n",
       ".cython.score-78 {background-color: #FFFF1c;}\n",
       ".cython.score-79 {background-color: #FFFF1c;}\n",
       ".cython.score-80 {background-color: #FFFF1c;}\n",
       ".cython.score-81 {background-color: #FFFF1c;}\n",
       ".cython.score-82 {background-color: #FFFF1b;}\n",
       ".cython.score-83 {background-color: #FFFF1b;}\n",
       ".cython.score-84 {background-color: #FFFF1b;}\n",
       ".cython.score-85 {background-color: #FFFF1a;}\n",
       ".cython.score-86 {background-color: #FFFF1a;}\n",
       ".cython.score-87 {background-color: #FFFF1a;}\n",
       ".cython.score-88 {background-color: #FFFF1a;}\n",
       ".cython.score-89 {background-color: #FFFF19;}\n",
       ".cython.score-90 {background-color: #FFFF19;}\n",
       ".cython.score-91 {background-color: #FFFF19;}\n",
       ".cython.score-92 {background-color: #FFFF19;}\n",
       ".cython.score-93 {background-color: #FFFF18;}\n",
       ".cython.score-94 {background-color: #FFFF18;}\n",
       ".cython.score-95 {background-color: #FFFF18;}\n",
       ".cython.score-96 {background-color: #FFFF18;}\n",
       ".cython.score-97 {background-color: #FFFF17;}\n",
       ".cython.score-98 {background-color: #FFFF17;}\n",
       ".cython.score-99 {background-color: #FFFF17;}\n",
       ".cython.score-100 {background-color: #FFFF17;}\n",
       ".cython.score-101 {background-color: #FFFF16;}\n",
       ".cython.score-102 {background-color: #FFFF16;}\n",
       ".cython.score-103 {background-color: #FFFF16;}\n",
       ".cython.score-104 {background-color: #FFFF16;}\n",
       ".cython.score-105 {background-color: #FFFF16;}\n",
       ".cython.score-106 {background-color: #FFFF15;}\n",
       ".cython.score-107 {background-color: #FFFF15;}\n",
       ".cython.score-108 {background-color: #FFFF15;}\n",
       ".cython.score-109 {background-color: #FFFF15;}\n",
       ".cython.score-110 {background-color: #FFFF15;}\n",
       ".cython.score-111 {background-color: #FFFF15;}\n",
       ".cython.score-112 {background-color: #FFFF14;}\n",
       ".cython.score-113 {background-color: #FFFF14;}\n",
       ".cython.score-114 {background-color: #FFFF14;}\n",
       ".cython.score-115 {background-color: #FFFF14;}\n",
       ".cython.score-116 {background-color: #FFFF14;}\n",
       ".cython.score-117 {background-color: #FFFF14;}\n",
       ".cython.score-118 {background-color: #FFFF13;}\n",
       ".cython.score-119 {background-color: #FFFF13;}\n",
       ".cython.score-120 {background-color: #FFFF13;}\n",
       ".cython.score-121 {background-color: #FFFF13;}\n",
       ".cython.score-122 {background-color: #FFFF13;}\n",
       ".cython.score-123 {background-color: #FFFF13;}\n",
       ".cython.score-124 {background-color: #FFFF13;}\n",
       ".cython.score-125 {background-color: #FFFF12;}\n",
       ".cython.score-126 {background-color: #FFFF12;}\n",
       ".cython.score-127 {background-color: #FFFF12;}\n",
       ".cython.score-128 {background-color: #FFFF12;}\n",
       ".cython.score-129 {background-color: #FFFF12;}\n",
       ".cython.score-130 {background-color: #FFFF12;}\n",
       ".cython.score-131 {background-color: #FFFF12;}\n",
       ".cython.score-132 {background-color: #FFFF11;}\n",
       ".cython.score-133 {background-color: #FFFF11;}\n",
       ".cython.score-134 {background-color: #FFFF11;}\n",
       ".cython.score-135 {background-color: #FFFF11;}\n",
       ".cython.score-136 {background-color: #FFFF11;}\n",
       ".cython.score-137 {background-color: #FFFF11;}\n",
       ".cython.score-138 {background-color: #FFFF11;}\n",
       ".cython.score-139 {background-color: #FFFF11;}\n",
       ".cython.score-140 {background-color: #FFFF11;}\n",
       ".cython.score-141 {background-color: #FFFF10;}\n",
       ".cython.score-142 {background-color: #FFFF10;}\n",
       ".cython.score-143 {background-color: #FFFF10;}\n",
       ".cython.score-144 {background-color: #FFFF10;}\n",
       ".cython.score-145 {background-color: #FFFF10;}\n",
       ".cython.score-146 {background-color: #FFFF10;}\n",
       ".cython.score-147 {background-color: #FFFF10;}\n",
       ".cython.score-148 {background-color: #FFFF10;}\n",
       ".cython.score-149 {background-color: #FFFF10;}\n",
       ".cython.score-150 {background-color: #FFFF0f;}\n",
       ".cython.score-151 {background-color: #FFFF0f;}\n",
       ".cython.score-152 {background-color: #FFFF0f;}\n",
       ".cython.score-153 {background-color: #FFFF0f;}\n",
       ".cython.score-154 {background-color: #FFFF0f;}\n",
       ".cython.score-155 {background-color: #FFFF0f;}\n",
       ".cython.score-156 {background-color: #FFFF0f;}\n",
       ".cython.score-157 {background-color: #FFFF0f;}\n",
       ".cython.score-158 {background-color: #FFFF0f;}\n",
       ".cython.score-159 {background-color: #FFFF0f;}\n",
       ".cython.score-160 {background-color: #FFFF0f;}\n",
       ".cython.score-161 {background-color: #FFFF0e;}\n",
       ".cython.score-162 {background-color: #FFFF0e;}\n",
       ".cython.score-163 {background-color: #FFFF0e;}\n",
       ".cython.score-164 {background-color: #FFFF0e;}\n",
       ".cython.score-165 {background-color: #FFFF0e;}\n",
       ".cython.score-166 {background-color: #FFFF0e;}\n",
       ".cython.score-167 {background-color: #FFFF0e;}\n",
       ".cython.score-168 {background-color: #FFFF0e;}\n",
       ".cython.score-169 {background-color: #FFFF0e;}\n",
       ".cython.score-170 {background-color: #FFFF0e;}\n",
       ".cython.score-171 {background-color: #FFFF0e;}\n",
       ".cython.score-172 {background-color: #FFFF0e;}\n",
       ".cython.score-173 {background-color: #FFFF0d;}\n",
       ".cython.score-174 {background-color: #FFFF0d;}\n",
       ".cython.score-175 {background-color: #FFFF0d;}\n",
       ".cython.score-176 {background-color: #FFFF0d;}\n",
       ".cython.score-177 {background-color: #FFFF0d;}\n",
       ".cython.score-178 {background-color: #FFFF0d;}\n",
       ".cython.score-179 {background-color: #FFFF0d;}\n",
       ".cython.score-180 {background-color: #FFFF0d;}\n",
       ".cython.score-181 {background-color: #FFFF0d;}\n",
       ".cython.score-182 {background-color: #FFFF0d;}\n",
       ".cython.score-183 {background-color: #FFFF0d;}\n",
       ".cython.score-184 {background-color: #FFFF0d;}\n",
       ".cython.score-185 {background-color: #FFFF0d;}\n",
       ".cython.score-186 {background-color: #FFFF0d;}\n",
       ".cython.score-187 {background-color: #FFFF0c;}\n",
       ".cython.score-188 {background-color: #FFFF0c;}\n",
       ".cython.score-189 {background-color: #FFFF0c;}\n",
       ".cython.score-190 {background-color: #FFFF0c;}\n",
       ".cython.score-191 {background-color: #FFFF0c;}\n",
       ".cython.score-192 {background-color: #FFFF0c;}\n",
       ".cython.score-193 {background-color: #FFFF0c;}\n",
       ".cython.score-194 {background-color: #FFFF0c;}\n",
       ".cython.score-195 {background-color: #FFFF0c;}\n",
       ".cython.score-196 {background-color: #FFFF0c;}\n",
       ".cython.score-197 {background-color: #FFFF0c;}\n",
       ".cython.score-198 {background-color: #FFFF0c;}\n",
       ".cython.score-199 {background-color: #FFFF0c;}\n",
       ".cython.score-200 {background-color: #FFFF0c;}\n",
       ".cython.score-201 {background-color: #FFFF0c;}\n",
       ".cython.score-202 {background-color: #FFFF0c;}\n",
       ".cython.score-203 {background-color: #FFFF0b;}\n",
       ".cython.score-204 {background-color: #FFFF0b;}\n",
       ".cython.score-205 {background-color: #FFFF0b;}\n",
       ".cython.score-206 {background-color: #FFFF0b;}\n",
       ".cython.score-207 {background-color: #FFFF0b;}\n",
       ".cython.score-208 {background-color: #FFFF0b;}\n",
       ".cython.score-209 {background-color: #FFFF0b;}\n",
       ".cython.score-210 {background-color: #FFFF0b;}\n",
       ".cython.score-211 {background-color: #FFFF0b;}\n",
       ".cython.score-212 {background-color: #FFFF0b;}\n",
       ".cython.score-213 {background-color: #FFFF0b;}\n",
       ".cython.score-214 {background-color: #FFFF0b;}\n",
       ".cython.score-215 {background-color: #FFFF0b;}\n",
       ".cython.score-216 {background-color: #FFFF0b;}\n",
       ".cython.score-217 {background-color: #FFFF0b;}\n",
       ".cython.score-218 {background-color: #FFFF0b;}\n",
       ".cython.score-219 {background-color: #FFFF0b;}\n",
       ".cython.score-220 {background-color: #FFFF0b;}\n",
       ".cython.score-221 {background-color: #FFFF0b;}\n",
       ".cython.score-222 {background-color: #FFFF0a;}\n",
       ".cython.score-223 {background-color: #FFFF0a;}\n",
       ".cython.score-224 {background-color: #FFFF0a;}\n",
       ".cython.score-225 {background-color: #FFFF0a;}\n",
       ".cython.score-226 {background-color: #FFFF0a;}\n",
       ".cython.score-227 {background-color: #FFFF0a;}\n",
       ".cython.score-228 {background-color: #FFFF0a;}\n",
       ".cython.score-229 {background-color: #FFFF0a;}\n",
       ".cython.score-230 {background-color: #FFFF0a;}\n",
       ".cython.score-231 {background-color: #FFFF0a;}\n",
       ".cython.score-232 {background-color: #FFFF0a;}\n",
       ".cython.score-233 {background-color: #FFFF0a;}\n",
       ".cython.score-234 {background-color: #FFFF0a;}\n",
       ".cython.score-235 {background-color: #FFFF0a;}\n",
       ".cython.score-236 {background-color: #FFFF0a;}\n",
       ".cython.score-237 {background-color: #FFFF0a;}\n",
       ".cython.score-238 {background-color: #FFFF0a;}\n",
       ".cython.score-239 {background-color: #FFFF0a;}\n",
       ".cython.score-240 {background-color: #FFFF0a;}\n",
       ".cython.score-241 {background-color: #FFFF0a;}\n",
       ".cython.score-242 {background-color: #FFFF0a;}\n",
       ".cython.score-243 {background-color: #FFFF0a;}\n",
       ".cython.score-244 {background-color: #FFFF0a;}\n",
       ".cython.score-245 {background-color: #FFFF0a;}\n",
       ".cython.score-246 {background-color: #FFFF09;}\n",
       ".cython.score-247 {background-color: #FFFF09;}\n",
       ".cython.score-248 {background-color: #FFFF09;}\n",
       ".cython.score-249 {background-color: #FFFF09;}\n",
       ".cython.score-250 {background-color: #FFFF09;}\n",
       ".cython.score-251 {background-color: #FFFF09;}\n",
       ".cython.score-252 {background-color: #FFFF09;}\n",
       ".cython.score-253 {background-color: #FFFF09;}\n",
       ".cython.score-254 {background-color: #FFFF09;}\n",
       ".cython .hll { background-color: #ffffcc }\n",
       ".cython  { background: #f8f8f8; }\n",
       ".cython .c { color: #408080; font-style: italic } /* Comment */\n",
       ".cython .err { border: 1px solid #FF0000 } /* Error */\n",
       ".cython .k { color: #008000; font-weight: bold } /* Keyword */\n",
       ".cython .o { color: #666666 } /* Operator */\n",
       ".cython .ch { color: #408080; font-style: italic } /* Comment.Hashbang */\n",
       ".cython .cm { color: #408080; font-style: italic } /* Comment.Multiline */\n",
       ".cython .cp { color: #BC7A00 } /* Comment.Preproc */\n",
       ".cython .cpf { color: #408080; font-style: italic } /* Comment.PreprocFile */\n",
       ".cython .c1 { color: #408080; font-style: italic } /* Comment.Single */\n",
       ".cython .cs { color: #408080; font-style: italic } /* Comment.Special */\n",
       ".cython .gd { color: #A00000 } /* Generic.Deleted */\n",
       ".cython .ge { font-style: italic } /* Generic.Emph */\n",
       ".cython .gr { color: #FF0000 } /* Generic.Error */\n",
       ".cython .gh { color: #000080; font-weight: bold } /* Generic.Heading */\n",
       ".cython .gi { color: #00A000 } /* Generic.Inserted */\n",
       ".cython .go { color: #888888 } /* Generic.Output */\n",
       ".cython .gp { color: #000080; font-weight: bold } /* Generic.Prompt */\n",
       ".cython .gs { font-weight: bold } /* Generic.Strong */\n",
       ".cython .gu { color: #800080; font-weight: bold } /* Generic.Subheading */\n",
       ".cython .gt { color: #0044DD } /* Generic.Traceback */\n",
       ".cython .kc { color: #008000; font-weight: bold } /* Keyword.Constant */\n",
       ".cython .kd { color: #008000; font-weight: bold } /* Keyword.Declaration */\n",
       ".cython .kn { color: #008000; font-weight: bold } /* Keyword.Namespace */\n",
       ".cython .kp { color: #008000 } /* Keyword.Pseudo */\n",
       ".cython .kr { color: #008000; font-weight: bold } /* Keyword.Reserved */\n",
       ".cython .kt { color: #B00040 } /* Keyword.Type */\n",
       ".cython .m { color: #666666 } /* Literal.Number */\n",
       ".cython .s { color: #BA2121 } /* Literal.String */\n",
       ".cython .na { color: #7D9029 } /* Name.Attribute */\n",
       ".cython .nb { color: #008000 } /* Name.Builtin */\n",
       ".cython .nc { color: #0000FF; font-weight: bold } /* Name.Class */\n",
       ".cython .no { color: #880000 } /* Name.Constant */\n",
       ".cython .nd { color: #AA22FF } /* Name.Decorator */\n",
       ".cython .ni { color: #999999; font-weight: bold } /* Name.Entity */\n",
       ".cython .ne { color: #D2413A; font-weight: bold } /* Name.Exception */\n",
       ".cython .nf { color: #0000FF } /* Name.Function */\n",
       ".cython .nl { color: #A0A000 } /* Name.Label */\n",
       ".cython .nn { color: #0000FF; font-weight: bold } /* Name.Namespace */\n",
       ".cython .nt { color: #008000; font-weight: bold } /* Name.Tag */\n",
       ".cython .nv { color: #19177C } /* Name.Variable */\n",
       ".cython .ow { color: #AA22FF; font-weight: bold } /* Operator.Word */\n",
       ".cython .w { color: #bbbbbb } /* Text.Whitespace */\n",
       ".cython .mb { color: #666666 } /* Literal.Number.Bin */\n",
       ".cython .mf { color: #666666 } /* Literal.Number.Float */\n",
       ".cython .mh { color: #666666 } /* Literal.Number.Hex */\n",
       ".cython .mi { color: #666666 } /* Literal.Number.Integer */\n",
       ".cython .mo { color: #666666 } /* Literal.Number.Oct */\n",
       ".cython .sb { color: #BA2121 } /* Literal.String.Backtick */\n",
       ".cython .sc { color: #BA2121 } /* Literal.String.Char */\n",
       ".cython .sd { color: #BA2121; font-style: italic } /* Literal.String.Doc */\n",
       ".cython .s2 { color: #BA2121 } /* Literal.String.Double */\n",
       ".cython .se { color: #BB6622; font-weight: bold } /* Literal.String.Escape */\n",
       ".cython .sh { color: #BA2121 } /* Literal.String.Heredoc */\n",
       ".cython .si { color: #BB6688; font-weight: bold } /* Literal.String.Interpol */\n",
       ".cython .sx { color: #008000 } /* Literal.String.Other */\n",
       ".cython .sr { color: #BB6688 } /* Literal.String.Regex */\n",
       ".cython .s1 { color: #BA2121 } /* Literal.String.Single */\n",
       ".cython .ss { color: #19177C } /* Literal.String.Symbol */\n",
       ".cython .bp { color: #008000 } /* Name.Builtin.Pseudo */\n",
       ".cython .vc { color: #19177C } /* Name.Variable.Class */\n",
       ".cython .vg { color: #19177C } /* Name.Variable.Global */\n",
       ".cython .vi { color: #19177C } /* Name.Variable.Instance */\n",
       ".cython .il { color: #666666 } /* Literal.Number.Integer.Long */\n",
       "    </style>\n",
       "    <script>\n",
       "    function toggleDiv(id) {\n",
       "        theDiv = id.nextElementSibling\n",
       "        if (theDiv.style.display != 'block') theDiv.style.display = 'block';\n",
       "        else theDiv.style.display = 'none';\n",
       "    }\n",
       "    </script>\n",
       "</head>\n",
       "<body class=\"cython\">\n",
       "<p><span style=\"border-bottom: solid 1px grey;\">Generated by Cython 0.23.4</span></p>\n",
       "<p>\n",
       "    <span style=\"background-color: #FFFF00\">Yellow lines</span> hint at Python interaction.<br />\n",
       "    Click on a line that starts with a \"<code>+</code>\" to see the C code that Cython generated for it.\n",
       "</p>\n",
       "<div class=\"cython\"><pre class=\"cython line score-0\">&#xA0;<span class=\"\">01</span>: </pre>\n",
       "<pre class=\"cython line score-11\" onclick='toggleDiv(this)'>+<span class=\"\">02</span>: <span class=\"k\">cimport</span> <span class=\"nn\">numpy</span> <span class=\"k\">as</span> <span class=\"nn\">np</span></pre>\n",
       "<pre class='cython code score-11 '>  __pyx_t_1 = <span class='py_c_api'>PyDict_New</span>();<span class='error_goto'> if (unlikely(!__pyx_t_1)) {__pyx_filename = __pyx_f[0]; __pyx_lineno = 2; __pyx_clineno = __LINE__; goto __pyx_L1_error;}</span>\n",
       "  <span class='refnanny'>__Pyx_GOTREF</span>(__pyx_t_1);\n",
       "  if (<span class='py_c_api'>PyDict_SetItem</span>(__pyx_d, __pyx_n_s_test, __pyx_t_1) &lt; 0) <span class='error_goto'>{__pyx_filename = __pyx_f[0]; __pyx_lineno = 2; __pyx_clineno = __LINE__; goto __pyx_L1_error;}</span>\n",
       "  <span class='pyx_macro_api'>__Pyx_DECREF</span>(__pyx_t_1); __pyx_t_1 = 0;\n",
       "</pre><pre class=\"cython line score-8\" onclick='toggleDiv(this)'>+<span class=\"\">03</span>: <span class=\"k\">import</span> <span class=\"nn\">numpy</span> <span class=\"k\">as</span> <span class=\"nn\">np</span></pre>\n",
       "<pre class='cython code score-8 '>  __pyx_t_1 = <span class='pyx_c_api'>__Pyx_Import</span>(__pyx_n_s_numpy, 0, -1);<span class='error_goto'> if (unlikely(!__pyx_t_1)) {__pyx_filename = __pyx_f[0]; __pyx_lineno = 3; __pyx_clineno = __LINE__; goto __pyx_L1_error;}</span>\n",
       "  <span class='refnanny'>__Pyx_GOTREF</span>(__pyx_t_1);\n",
       "  if (<span class='py_c_api'>PyDict_SetItem</span>(__pyx_d, __pyx_n_s_np, __pyx_t_1) &lt; 0) <span class='error_goto'>{__pyx_filename = __pyx_f[0]; __pyx_lineno = 3; __pyx_clineno = __LINE__; goto __pyx_L1_error;}</span>\n",
       "  <span class='pyx_macro_api'>__Pyx_DECREF</span>(__pyx_t_1); __pyx_t_1 = 0;\n",
       "</pre><pre class=\"cython line score-0\">&#xA0;<span class=\"\">04</span>: <span class=\"k\">from</span> <span class=\"nn\">cython</span> <span class=\"k\">import</span> <span class=\"n\">boundscheck</span><span class=\"p\">,</span> <span class=\"n\">nonecheck</span><span class=\"p\">,</span> <span class=\"n\">wraparound</span></pre>\n",
       "<pre class=\"cython line score-0\">&#xA0;<span class=\"\">05</span>: </pre>\n",
       "<pre class=\"cython line score-59\" onclick='toggleDiv(this)'>+<span class=\"\">06</span>: <span class=\"k\">def</span> <span class=\"nf\">csr_binary_dot_right</span><span class=\"p\">(</span><span class=\"n\">rows</span><span class=\"p\">,</span> <span class=\"n\">cols</span><span class=\"p\">,</span> <span class=\"n\">inputs</span><span class=\"p\">):</span></pre>\n",
       "<pre class='cython code score-59 '>/* Python wrapper */\n",
       "static PyObject *__pyx_pw_46_cython_magic_8703053e1b3def7d5630a257bc8b2692_1csr_binary_dot_right(PyObject *__pyx_self, PyObject *__pyx_args, PyObject *__pyx_kwds); /*proto*/\n",
       "static PyMethodDef __pyx_mdef_46_cython_magic_8703053e1b3def7d5630a257bc8b2692_1csr_binary_dot_right = {\"csr_binary_dot_right\", (PyCFunction)__pyx_pw_46_cython_magic_8703053e1b3def7d5630a257bc8b2692_1csr_binary_dot_right, METH_VARARGS|METH_KEYWORDS, 0};\n",
       "static PyObject *__pyx_pw_46_cython_magic_8703053e1b3def7d5630a257bc8b2692_1csr_binary_dot_right(PyObject *__pyx_self, PyObject *__pyx_args, PyObject *__pyx_kwds) {\n",
       "  PyObject *__pyx_v_rows = 0;\n",
       "  PyObject *__pyx_v_cols = 0;\n",
       "  PyObject *__pyx_v_inputs = 0;\n",
       "  PyObject *__pyx_r = 0;\n",
       "  <span class='refnanny'>__Pyx_RefNannyDeclarations</span>\n",
       "  <span class='refnanny'>__Pyx_RefNannySetupContext</span>(\"csr_binary_dot_right (wrapper)\", 0);\n",
       "  {\n",
       "    static PyObject **__pyx_pyargnames[] = {&amp;__pyx_n_s_rows,&amp;__pyx_n_s_cols,&amp;__pyx_n_s_inputs,0};\n",
       "    PyObject* values[3] = {0,0,0};\n",
       "    if (unlikely(__pyx_kwds)) {\n",
       "      Py_ssize_t kw_args;\n",
       "      const Py_ssize_t pos_args = <span class='py_macro_api'>PyTuple_GET_SIZE</span>(__pyx_args);\n",
       "      switch (pos_args) {\n",
       "        case  3: values[2] = <span class='py_macro_api'>PyTuple_GET_ITEM</span>(__pyx_args, 2);\n",
       "        case  2: values[1] = <span class='py_macro_api'>PyTuple_GET_ITEM</span>(__pyx_args, 1);\n",
       "        case  1: values[0] = <span class='py_macro_api'>PyTuple_GET_ITEM</span>(__pyx_args, 0);\n",
       "        case  0: break;\n",
       "        default: goto __pyx_L5_argtuple_error;\n",
       "      }\n",
       "      kw_args = <span class='py_c_api'>PyDict_Size</span>(__pyx_kwds);\n",
       "      switch (pos_args) {\n",
       "        case  0:\n",
       "        if (likely((values[0] = <span class='py_c_api'>PyDict_GetItem</span>(__pyx_kwds, __pyx_n_s_rows)) != 0)) kw_args--;\n",
       "        else goto __pyx_L5_argtuple_error;\n",
       "        case  1:\n",
       "        if (likely((values[1] = <span class='py_c_api'>PyDict_GetItem</span>(__pyx_kwds, __pyx_n_s_cols)) != 0)) kw_args--;\n",
       "        else {\n",
       "          <span class='pyx_c_api'>__Pyx_RaiseArgtupleInvalid</span>(\"csr_binary_dot_right\", 1, 3, 3, 1); <span class='error_goto'>{__pyx_filename = __pyx_f[0]; __pyx_lineno = 6; __pyx_clineno = __LINE__; goto __pyx_L3_error;}</span>\n",
       "        }\n",
       "        case  2:\n",
       "        if (likely((values[2] = <span class='py_c_api'>PyDict_GetItem</span>(__pyx_kwds, __pyx_n_s_inputs)) != 0)) kw_args--;\n",
       "        else {\n",
       "          <span class='pyx_c_api'>__Pyx_RaiseArgtupleInvalid</span>(\"csr_binary_dot_right\", 1, 3, 3, 2); <span class='error_goto'>{__pyx_filename = __pyx_f[0]; __pyx_lineno = 6; __pyx_clineno = __LINE__; goto __pyx_L3_error;}</span>\n",
       "        }\n",
       "      }\n",
       "      if (unlikely(kw_args &gt; 0)) {\n",
       "        if (unlikely(<span class='pyx_c_api'>__Pyx_ParseOptionalKeywords</span>(__pyx_kwds, __pyx_pyargnames, 0, values, pos_args, \"csr_binary_dot_right\") &lt; 0)) <span class='error_goto'>{__pyx_filename = __pyx_f[0]; __pyx_lineno = 6; __pyx_clineno = __LINE__; goto __pyx_L3_error;}</span>\n",
       "      }\n",
       "    } else if (<span class='py_macro_api'>PyTuple_GET_SIZE</span>(__pyx_args) != 3) {\n",
       "      goto __pyx_L5_argtuple_error;\n",
       "    } else {\n",
       "      values[0] = <span class='py_macro_api'>PyTuple_GET_ITEM</span>(__pyx_args, 0);\n",
       "      values[1] = <span class='py_macro_api'>PyTuple_GET_ITEM</span>(__pyx_args, 1);\n",
       "      values[2] = <span class='py_macro_api'>PyTuple_GET_ITEM</span>(__pyx_args, 2);\n",
       "    }\n",
       "    __pyx_v_rows = values[0];\n",
       "    __pyx_v_cols = values[1];\n",
       "    __pyx_v_inputs = values[2];\n",
       "  }\n",
       "  goto __pyx_L4_argument_unpacking_done;\n",
       "  __pyx_L5_argtuple_error:;\n",
       "  <span class='pyx_c_api'>__Pyx_RaiseArgtupleInvalid</span>(\"csr_binary_dot_right\", 1, 3, 3, <span class='py_macro_api'>PyTuple_GET_SIZE</span>(__pyx_args)); <span class='error_goto'>{__pyx_filename = __pyx_f[0]; __pyx_lineno = 6; __pyx_clineno = __LINE__; goto __pyx_L3_error;}</span>\n",
       "  __pyx_L3_error:;\n",
       "  <span class='pyx_c_api'>__Pyx_AddTraceback</span>(\"_cython_magic_8703053e1b3def7d5630a257bc8b2692.csr_binary_dot_right\", __pyx_clineno, __pyx_lineno, __pyx_filename);\n",
       "  <span class='refnanny'>__Pyx_RefNannyFinishContext</span>();\n",
       "  return NULL;\n",
       "  __pyx_L4_argument_unpacking_done:;\n",
       "  __pyx_r = __pyx_pf_46_cython_magic_8703053e1b3def7d5630a257bc8b2692_csr_binary_dot_right(__pyx_self, __pyx_v_rows, __pyx_v_cols, __pyx_v_inputs);\n",
       "  int __pyx_lineno = 0;\n",
       "  const char *__pyx_filename = NULL;\n",
       "  int __pyx_clineno = 0;\n",
       "\n",
       "  /* function exit code */\n",
       "  <span class='refnanny'>__Pyx_RefNannyFinishContext</span>();\n",
       "  return __pyx_r;\n",
       "}\n",
       "\n",
       "static PyObject *__pyx_pf_46_cython_magic_8703053e1b3def7d5630a257bc8b2692_csr_binary_dot_right(CYTHON_UNUSED PyObject *__pyx_self, PyObject *__pyx_v_rows, PyObject *__pyx_v_cols, PyObject *__pyx_v_inputs) {\n",
       "  PyObject *__pyx_v_out = NULL;\n",
       "  PyObject *__pyx_r = NULL;\n",
       "  <span class='refnanny'>__Pyx_RefNannyDeclarations</span>\n",
       "  <span class='refnanny'>__Pyx_RefNannySetupContext</span>(\"csr_binary_dot_right\", 0);\n",
       "/* … */\n",
       "  /* function exit code */\n",
       "  __pyx_L1_error:;\n",
       "  <span class='pyx_macro_api'>__Pyx_XDECREF</span>(__pyx_t_1);\n",
       "  <span class='pyx_macro_api'>__Pyx_XDECREF</span>(__pyx_t_2);\n",
       "  <span class='pyx_macro_api'>__Pyx_XDECREF</span>(__pyx_t_3);\n",
       "  <span class='pyx_macro_api'>__Pyx_XDECREF</span>(__pyx_t_4);\n",
       "  __PYX_XDEC_MEMVIEW(&amp;__pyx_t_5, 1);\n",
       "  __PYX_XDEC_MEMVIEW(&amp;__pyx_t_6, 1);\n",
       "  __PYX_XDEC_MEMVIEW(&amp;__pyx_t_7, 1);\n",
       "  __PYX_XDEC_MEMVIEW(&amp;__pyx_t_8, 1);\n",
       "  <span class='pyx_c_api'>__Pyx_AddTraceback</span>(\"_cython_magic_8703053e1b3def7d5630a257bc8b2692.csr_binary_dot_right\", __pyx_clineno, __pyx_lineno, __pyx_filename);\n",
       "  __pyx_r = NULL;\n",
       "  __pyx_L0:;\n",
       "  <span class='pyx_macro_api'>__Pyx_XDECREF</span>(__pyx_v_out);\n",
       "  <span class='refnanny'>__Pyx_XGIVEREF</span>(__pyx_r);\n",
       "  <span class='refnanny'>__Pyx_RefNannyFinishContext</span>();\n",
       "  return __pyx_r;\n",
       "}\n",
       "/* … */\n",
       "  __pyx_tuple__20 = <span class='py_c_api'>PyTuple_Pack</span>(4, __pyx_n_s_rows, __pyx_n_s_cols, __pyx_n_s_inputs, __pyx_n_s_out);<span class='error_goto'> if (unlikely(!__pyx_tuple__20)) {__pyx_filename = __pyx_f[0]; __pyx_lineno = 6; __pyx_clineno = __LINE__; goto __pyx_L1_error;}</span>\n",
       "  <span class='refnanny'>__Pyx_GOTREF</span>(__pyx_tuple__20);\n",
       "  <span class='refnanny'>__Pyx_GIVEREF</span>(__pyx_tuple__20);\n",
       "/* … */\n",
       "  __pyx_t_1 = PyCFunction_NewEx(&amp;__pyx_mdef_46_cython_magic_8703053e1b3def7d5630a257bc8b2692_1csr_binary_dot_right, NULL, __pyx_n_s_cython_magic_8703053e1b3def7d56);<span class='error_goto'> if (unlikely(!__pyx_t_1)) {__pyx_filename = __pyx_f[0]; __pyx_lineno = 6; __pyx_clineno = __LINE__; goto __pyx_L1_error;}</span>\n",
       "  <span class='refnanny'>__Pyx_GOTREF</span>(__pyx_t_1);\n",
       "  if (<span class='py_c_api'>PyDict_SetItem</span>(__pyx_d, __pyx_n_s_csr_binary_dot_right, __pyx_t_1) &lt; 0) <span class='error_goto'>{__pyx_filename = __pyx_f[0]; __pyx_lineno = 6; __pyx_clineno = __LINE__; goto __pyx_L1_error;}</span>\n",
       "  <span class='pyx_macro_api'>__Pyx_DECREF</span>(__pyx_t_1); __pyx_t_1 = 0;\n",
       "  __pyx_codeobj__21 = (PyObject*)<span class='pyx_c_api'>__Pyx_PyCode_New</span>(3, 0, 4, 0, 0, __pyx_empty_bytes, __pyx_empty_tuple, __pyx_empty_tuple, __pyx_tuple__20, __pyx_empty_tuple, __pyx_empty_tuple, __pyx_kp_s_Users_ericmjl_ipython_cython__c, __pyx_n_s_csr_binary_dot_right, 6, __pyx_empty_bytes);<span class='error_goto'> if (unlikely(!__pyx_codeobj__21)) {__pyx_filename = __pyx_f[0]; __pyx_lineno = 6; __pyx_clineno = __LINE__; goto __pyx_L1_error;}</span>\n",
       "</pre><pre class=\"cython line score-29\" onclick='toggleDiv(this)'>+<span class=\"\">07</span>:     <span class=\"n\">out</span> <span class=\"o\">=</span> <span class=\"n\">np</span><span class=\"o\">.</span><span class=\"n\">zeros_like</span><span class=\"p\">(</span><span class=\"n\">inputs</span><span class=\"p\">)</span></pre>\n",
       "<pre class='cython code score-29 '>  __pyx_t_2 = <span class='pyx_c_api'>__Pyx_GetModuleGlobalName</span>(__pyx_n_s_np);<span class='error_goto'> if (unlikely(!__pyx_t_2)) {__pyx_filename = __pyx_f[0]; __pyx_lineno = 7; __pyx_clineno = __LINE__; goto __pyx_L1_error;}</span>\n",
       "  <span class='refnanny'>__Pyx_GOTREF</span>(__pyx_t_2);\n",
       "  __pyx_t_3 = <span class='pyx_c_api'>__Pyx_PyObject_GetAttrStr</span>(__pyx_t_2, __pyx_n_s_zeros_like);<span class='error_goto'> if (unlikely(!__pyx_t_3)) {__pyx_filename = __pyx_f[0]; __pyx_lineno = 7; __pyx_clineno = __LINE__; goto __pyx_L1_error;}</span>\n",
       "  <span class='refnanny'>__Pyx_GOTREF</span>(__pyx_t_3);\n",
       "  <span class='pyx_macro_api'>__Pyx_DECREF</span>(__pyx_t_2); __pyx_t_2 = 0;\n",
       "  __pyx_t_2 = NULL;\n",
       "  if (CYTHON_COMPILING_IN_CPYTHON &amp;&amp; unlikely(<span class='py_c_api'>PyMethod_Check</span>(__pyx_t_3))) {\n",
       "    __pyx_t_2 = <span class='py_macro_api'>PyMethod_GET_SELF</span>(__pyx_t_3);\n",
       "    if (likely(__pyx_t_2)) {\n",
       "      PyObject* function = <span class='py_macro_api'>PyMethod_GET_FUNCTION</span>(__pyx_t_3);\n",
       "      <span class='pyx_macro_api'>__Pyx_INCREF</span>(__pyx_t_2);\n",
       "      <span class='pyx_macro_api'>__Pyx_INCREF</span>(function);\n",
       "      <span class='pyx_macro_api'>__Pyx_DECREF_SET</span>(__pyx_t_3, function);\n",
       "    }\n",
       "  }\n",
       "  if (!__pyx_t_2) {\n",
       "    __pyx_t_1 = <span class='pyx_c_api'>__Pyx_PyObject_CallOneArg</span>(__pyx_t_3, __pyx_v_inputs);<span class='error_goto'> if (unlikely(!__pyx_t_1)) {__pyx_filename = __pyx_f[0]; __pyx_lineno = 7; __pyx_clineno = __LINE__; goto __pyx_L1_error;}</span>\n",
       "    <span class='refnanny'>__Pyx_GOTREF</span>(__pyx_t_1);\n",
       "  } else {\n",
       "    __pyx_t_4 = <span class='py_c_api'>PyTuple_New</span>(1+1);<span class='error_goto'> if (unlikely(!__pyx_t_4)) {__pyx_filename = __pyx_f[0]; __pyx_lineno = 7; __pyx_clineno = __LINE__; goto __pyx_L1_error;}</span>\n",
       "    <span class='refnanny'>__Pyx_GOTREF</span>(__pyx_t_4);\n",
       "    <span class='refnanny'>__Pyx_GIVEREF</span>(__pyx_t_2); <span class='py_macro_api'>PyTuple_SET_ITEM</span>(__pyx_t_4, 0, __pyx_t_2); __pyx_t_2 = NULL;\n",
       "    <span class='pyx_macro_api'>__Pyx_INCREF</span>(__pyx_v_inputs);\n",
       "    <span class='refnanny'>__Pyx_GIVEREF</span>(__pyx_v_inputs);\n",
       "    <span class='py_macro_api'>PyTuple_SET_ITEM</span>(__pyx_t_4, 0+1, __pyx_v_inputs);\n",
       "    __pyx_t_1 = <span class='pyx_c_api'>__Pyx_PyObject_Call</span>(__pyx_t_3, __pyx_t_4, NULL);<span class='error_goto'> if (unlikely(!__pyx_t_1)) {__pyx_filename = __pyx_f[0]; __pyx_lineno = 7; __pyx_clineno = __LINE__; goto __pyx_L1_error;}</span>\n",
       "    <span class='refnanny'>__Pyx_GOTREF</span>(__pyx_t_1);\n",
       "    <span class='pyx_macro_api'>__Pyx_DECREF</span>(__pyx_t_4); __pyx_t_4 = 0;\n",
       "  }\n",
       "  <span class='pyx_macro_api'>__Pyx_DECREF</span>(__pyx_t_3); __pyx_t_3 = 0;\n",
       "  __pyx_v_out = __pyx_t_1;\n",
       "  __pyx_t_1 = 0;\n",
       "</pre><pre class=\"cython line score-8\" onclick='toggleDiv(this)'>+<span class=\"\">08</span>:     <span class=\"n\">_csr_binary_dot_right</span><span class=\"p\">(</span><span class=\"n\">rows</span><span class=\"p\">,</span> <span class=\"n\">cols</span><span class=\"p\">,</span> <span class=\"n\">inputs</span><span class=\"p\">,</span> <span class=\"n\">out</span><span class=\"p\">)</span></pre>\n",
       "<pre class='cython code score-8 '>  __pyx_t_5 = <span class='pyx_c_api'>__Pyx_PyObject_to_MemoryviewSlice_ds_int</span>(__pyx_v_rows);\n",
       "  if (unlikely(!__pyx_t_5.memview)) <span class='error_goto'>{__pyx_filename = __pyx_f[0]; __pyx_lineno = 8; __pyx_clineno = __LINE__; goto __pyx_L1_error;}</span>\n",
       "  __pyx_t_6 = <span class='pyx_c_api'>__Pyx_PyObject_to_MemoryviewSlice_ds_int</span>(__pyx_v_cols);\n",
       "  if (unlikely(!__pyx_t_6.memview)) <span class='error_goto'>{__pyx_filename = __pyx_f[0]; __pyx_lineno = 8; __pyx_clineno = __LINE__; goto __pyx_L1_error;}</span>\n",
       "  __pyx_t_7 = <span class='pyx_c_api'>__Pyx_PyObject_to_MemoryviewSlice_dsds_double</span>(__pyx_v_inputs);\n",
       "  if (unlikely(!__pyx_t_7.memview)) <span class='error_goto'>{__pyx_filename = __pyx_f[0]; __pyx_lineno = 8; __pyx_clineno = __LINE__; goto __pyx_L1_error;}</span>\n",
       "  __pyx_t_8 = <span class='pyx_c_api'>__Pyx_PyObject_to_MemoryviewSlice_dsds_double</span>(__pyx_v_out);\n",
       "  if (unlikely(!__pyx_t_8.memview)) <span class='error_goto'>{__pyx_filename = __pyx_f[0]; __pyx_lineno = 8; __pyx_clineno = __LINE__; goto __pyx_L1_error;}</span>\n",
       "  __pyx_f_46_cython_magic_8703053e1b3def7d5630a257bc8b2692__csr_binary_dot_right(__pyx_t_5, __pyx_t_6, __pyx_t_7, __pyx_t_8);\n",
       "  __PYX_XDEC_MEMVIEW(&amp;__pyx_t_5, 1);\n",
       "  __PYX_XDEC_MEMVIEW(&amp;__pyx_t_6, 1);\n",
       "  __PYX_XDEC_MEMVIEW(&amp;__pyx_t_7, 1);\n",
       "  __PYX_XDEC_MEMVIEW(&amp;__pyx_t_8, 1);\n",
       "</pre><pre class=\"cython line score-2\" onclick='toggleDiv(this)'>+<span class=\"\">09</span>:     <span class=\"k\">return</span> <span class=\"n\">out</span></pre>\n",
       "<pre class='cython code score-2 '>  <span class='pyx_macro_api'>__Pyx_XDECREF</span>(__pyx_r);\n",
       "  <span class='pyx_macro_api'>__Pyx_INCREF</span>(__pyx_v_out);\n",
       "  __pyx_r = __pyx_v_out;\n",
       "  goto __pyx_L0;\n",
       "</pre><pre class=\"cython line score-0\">&#xA0;<span class=\"\">10</span>: </pre>\n",
       "<pre class=\"cython line score-0\">&#xA0;<span class=\"\">11</span>: </pre>\n",
       "<pre class=\"cython line score-0\">&#xA0;<span class=\"\">12</span>: <span class=\"nd\">@nonecheck</span><span class=\"p\">(</span><span class=\"bp\">False</span><span class=\"p\">)</span></pre>\n",
       "<pre class=\"cython line score-0\">&#xA0;<span class=\"\">13</span>: <span class=\"nd\">@wraparound</span><span class=\"p\">(</span><span class=\"bp\">False</span><span class=\"p\">)</span></pre>\n",
       "<pre class=\"cython line score-0\">&#xA0;<span class=\"\">14</span>: <span class=\"nd\">@boundscheck</span><span class=\"p\">(</span><span class=\"bp\">False</span><span class=\"p\">)</span></pre>\n",
       "<pre class=\"cython line score-0\" onclick='toggleDiv(this)'>+<span class=\"\">15</span>: <span class=\"k\">cdef</span> <span class=\"kr\">inline</span> <span class=\"kt\">void</span> <span class=\"nf\">_csr_binary_dot_right</span><span class=\"p\">(</span><span class=\"nb\">int</span><span class=\"p\">[:]</span> <span class=\"n\">rows</span><span class=\"p\">,</span> <span class=\"nb\">int</span><span class=\"p\">[:]</span> <span class=\"n\">cols</span><span class=\"p\">,</span> <span class=\"n\">double</span><span class=\"p\">[:,:]</span> <span class=\"n\">B</span><span class=\"p\">,</span> <span class=\"n\">double</span><span class=\"p\">[:,:]</span> <span class=\"n\">out</span><span class=\"p\">):</span></pre>\n",
       "<pre class='cython code score-0 '>static CYTHON_INLINE void __pyx_f_46_cython_magic_8703053e1b3def7d5630a257bc8b2692__csr_binary_dot_right(__Pyx_memviewslice __pyx_v_rows, __Pyx_memviewslice __pyx_v_cols, __Pyx_memviewslice __pyx_v_B, __Pyx_memviewslice __pyx_v_out) {\n",
       "  int __pyx_v_idx;\n",
       "  int __pyx_v_i;\n",
       "  int __pyx_v_j;\n",
       "  int __pyx_v_k;\n",
       "  <span class='refnanny'>__Pyx_RefNannyDeclarations</span>\n",
       "  <span class='refnanny'>__Pyx_RefNannySetupContext</span>(\"_csr_binary_dot_right\", 0);\n",
       "/* … */\n",
       "  /* function exit code */\n",
       "  <span class='refnanny'>__Pyx_RefNannyFinishContext</span>();\n",
       "}\n",
       "</pre><pre class=\"cython line score-0\">&#xA0;<span class=\"\">16</span>:     <span class=\"k\">cdef</span> <span class=\"kt\">int</span> <span class=\"nf\">idx</span><span class=\"p\">,</span> <span class=\"nf\">i</span><span class=\"p\">,</span> <span class=\"nf\">j</span><span class=\"p\">,</span> <span class=\"nf\">k</span></pre>\n",
       "<pre class=\"cython line score-0\" onclick='toggleDiv(this)'>+<span class=\"\">17</span>:     <span class=\"k\">for</span> <span class=\"n\">idx</span> <span class=\"ow\">in</span> <span class=\"nb\">range</span><span class=\"p\">(</span><span class=\"n\">rows</span><span class=\"o\">.</span><span class=\"n\">shape</span><span class=\"p\">[</span><span class=\"mf\">0</span><span class=\"p\">]):</span></pre>\n",
       "<pre class='cython code score-0 '>  __pyx_t_1 = (__pyx_v_rows.shape[0]);\n",
       "  for (__pyx_t_2 = 0; __pyx_t_2 &lt; __pyx_t_1; __pyx_t_2+=1) {\n",
       "    __pyx_v_idx = __pyx_t_2;\n",
       "</pre><pre class=\"cython line score-0\" onclick='toggleDiv(this)'>+<span class=\"\">18</span>:         <span class=\"n\">j</span> <span class=\"o\">=</span> <span class=\"n\">rows</span><span class=\"p\">[</span><span class=\"n\">idx</span><span class=\"p\">]</span></pre>\n",
       "<pre class='cython code score-0 '>    __pyx_t_3 = __pyx_v_idx;\n",
       "    __pyx_v_j = (*((int *) ( /* dim=0 */ (__pyx_v_rows.data + __pyx_t_3 * __pyx_v_rows.strides[0]) )));\n",
       "</pre><pre class=\"cython line score-0\" onclick='toggleDiv(this)'>+<span class=\"\">19</span>:         <span class=\"n\">k</span> <span class=\"o\">=</span> <span class=\"n\">cols</span><span class=\"p\">[</span><span class=\"n\">idx</span><span class=\"p\">]</span></pre>\n",
       "<pre class='cython code score-0 '>    __pyx_t_4 = __pyx_v_idx;\n",
       "    __pyx_v_k = (*((int *) ( /* dim=0 */ (__pyx_v_cols.data + __pyx_t_4 * __pyx_v_cols.strides[0]) )));\n",
       "</pre><pre class=\"cython line score-0\" onclick='toggleDiv(this)'>+<span class=\"\">20</span>:         <span class=\"k\">for</span> <span class=\"n\">i</span> <span class=\"ow\">in</span> <span class=\"nb\">range</span><span class=\"p\">(</span><span class=\"n\">B</span><span class=\"o\">.</span><span class=\"n\">shape</span><span class=\"p\">[</span><span class=\"mf\">1</span><span class=\"p\">]):</span></pre>\n",
       "<pre class='cython code score-0 '>    __pyx_t_5 = (__pyx_v_B.shape[1]);\n",
       "    for (__pyx_t_6 = 0; __pyx_t_6 &lt; __pyx_t_5; __pyx_t_6+=1) {\n",
       "      __pyx_v_i = __pyx_t_6;\n",
       "</pre><pre class=\"cython line score-0\" onclick='toggleDiv(this)'>+<span class=\"\">21</span>:             <span class=\"n\">out</span><span class=\"p\">[</span><span class=\"n\">j</span><span class=\"p\">,</span> <span class=\"n\">i</span><span class=\"p\">]</span> <span class=\"o\">+=</span> <span class=\"n\">B</span><span class=\"p\">[</span><span class=\"n\">k</span><span class=\"p\">,</span> <span class=\"n\">i</span><span class=\"p\">]</span></pre>\n",
       "<pre class='cython code score-0 '>      __pyx_t_7 = __pyx_v_k;\n",
       "      __pyx_t_8 = __pyx_v_i;\n",
       "      __pyx_t_9 = __pyx_v_j;\n",
       "      __pyx_t_10 = __pyx_v_i;\n",
       "      *((double *) ( /* dim=1 */ (( /* dim=0 */ (__pyx_v_out.data + __pyx_t_9 * __pyx_v_out.strides[0]) ) + __pyx_t_10 * __pyx_v_out.strides[1]) )) += (*((double *) ( /* dim=1 */ (( /* dim=0 */ (__pyx_v_B.data + __pyx_t_7 * __pyx_v_B.strides[0]) ) + __pyx_t_8 * __pyx_v_B.strides[1]) )));\n",
       "    }\n",
       "  }\n",
       "</pre><pre class=\"cython line score-0\">&#xA0;<span class=\"\">22</span>: </pre>\n",
       "<pre class=\"cython line score-0\">&#xA0;<span class=\"\">23</span>: <span class=\"c\"># @nonecheck(False)</span></pre>\n",
       "<pre class=\"cython line score-0\">&#xA0;<span class=\"\">24</span>: <span class=\"c\"># @wraparound(False)</span></pre>\n",
       "<pre class=\"cython line score-0\">&#xA0;<span class=\"\">25</span>: <span class=\"nd\">@boundscheck</span><span class=\"p\">(</span><span class=\"bp\">False</span><span class=\"p\">)</span></pre>\n",
       "<pre class=\"cython line score-0\" onclick='toggleDiv(this)'>+<span class=\"\">26</span>: <span class=\"k\">cdef</span> <span class=\"kr\">inline</span> <span class=\"kt\">void</span> <span class=\"nf\">_transpose</span><span class=\"p\">(</span><span class=\"n\">double</span><span class=\"p\">[:,:]</span> <span class=\"n\">out</span><span class=\"p\">,</span> <span class=\"n\">double</span><span class=\"p\">[:,:]</span> <span class=\"n\">final</span><span class=\"p\">):</span></pre>\n",
       "<pre class='cython code score-0 '>static CYTHON_INLINE void __pyx_f_46_cython_magic_8703053e1b3def7d5630a257bc8b2692__transpose(__Pyx_memviewslice __pyx_v_out, __Pyx_memviewslice __pyx_v_final) {\n",
       "  int __pyx_v_i;\n",
       "  int __pyx_v_j;\n",
       "  <span class='refnanny'>__Pyx_RefNannyDeclarations</span>\n",
       "  <span class='refnanny'>__Pyx_RefNannySetupContext</span>(\"_transpose\", 0);\n",
       "/* … */\n",
       "  /* function exit code */\n",
       "  <span class='refnanny'>__Pyx_RefNannyFinishContext</span>();\n",
       "}\n",
       "</pre><pre class=\"cython line score-0\">&#xA0;<span class=\"\">27</span>:     <span class=\"k\">cdef</span> <span class=\"kt\">int</span> <span class=\"nf\">i</span><span class=\"p\">,</span> <span class=\"nf\">j</span></pre>\n",
       "<pre class=\"cython line score-0\" onclick='toggleDiv(this)'>+<span class=\"\">28</span>:     <span class=\"k\">for</span> <span class=\"n\">i</span> <span class=\"ow\">in</span> <span class=\"nb\">range</span><span class=\"p\">(</span><span class=\"n\">out</span><span class=\"o\">.</span><span class=\"n\">shape</span><span class=\"p\">[</span><span class=\"mf\">0</span><span class=\"p\">]):</span></pre>\n",
       "<pre class='cython code score-0 '>  __pyx_t_1 = (__pyx_v_out.shape[0]);\n",
       "  for (__pyx_t_2 = 0; __pyx_t_2 &lt; __pyx_t_1; __pyx_t_2+=1) {\n",
       "    __pyx_v_i = __pyx_t_2;\n",
       "</pre><pre class=\"cython line score-0\" onclick='toggleDiv(this)'>+<span class=\"\">29</span>:         <span class=\"k\">for</span> <span class=\"n\">j</span> <span class=\"ow\">in</span> <span class=\"nb\">range</span><span class=\"p\">(</span><span class=\"n\">out</span><span class=\"o\">.</span><span class=\"n\">shape</span><span class=\"p\">[</span><span class=\"mf\">1</span><span class=\"p\">]):</span></pre>\n",
       "<pre class='cython code score-0 '>    __pyx_t_3 = (__pyx_v_out.shape[1]);\n",
       "    for (__pyx_t_4 = 0; __pyx_t_4 &lt; __pyx_t_3; __pyx_t_4+=1) {\n",
       "      __pyx_v_j = __pyx_t_4;\n",
       "</pre><pre class=\"cython line score-0\" onclick='toggleDiv(this)'>+<span class=\"\">30</span>:             <span class=\"n\">final</span><span class=\"p\">[</span><span class=\"n\">j</span><span class=\"p\">,</span> <span class=\"n\">i</span><span class=\"p\">]</span> <span class=\"o\">=</span> <span class=\"n\">out</span><span class=\"p\">[</span><span class=\"n\">i</span><span class=\"p\">,</span> <span class=\"n\">j</span><span class=\"p\">]</span></pre>\n",
       "<pre class='cython code score-0 '>      __pyx_t_5 = __pyx_v_i;\n",
       "      __pyx_t_6 = __pyx_v_j;\n",
       "      if (__pyx_t_5 &lt; 0) __pyx_t_5 += __pyx_v_out.shape[0];\n",
       "      if (__pyx_t_6 &lt; 0) __pyx_t_6 += __pyx_v_out.shape[1];\n",
       "      __pyx_t_7 = __pyx_v_j;\n",
       "      __pyx_t_8 = __pyx_v_i;\n",
       "      if (__pyx_t_7 &lt; 0) __pyx_t_7 += __pyx_v_final.shape[0];\n",
       "      if (__pyx_t_8 &lt; 0) __pyx_t_8 += __pyx_v_final.shape[1];\n",
       "      *((double *) ( /* dim=1 */ (( /* dim=0 */ (__pyx_v_final.data + __pyx_t_7 * __pyx_v_final.strides[0]) ) + __pyx_t_8 * __pyx_v_final.strides[1]) )) = (*((double *) ( /* dim=1 */ (( /* dim=0 */ (__pyx_v_out.data + __pyx_t_5 * __pyx_v_out.strides[0]) ) + __pyx_t_6 * __pyx_v_out.strides[1]) )));\n",
       "    }\n",
       "  }\n",
       "</pre><pre class=\"cython line score-0\">&#xA0;<span class=\"\">31</span>: </pre>\n",
       "<pre class=\"cython line score-0\">&#xA0;<span class=\"\">32</span>: </pre>\n",
       "<pre class=\"cython line score-0\">&#xA0;<span class=\"\">33</span>: <span class=\"c\"># def _csr_binary_dot_right(rows, cols, B, out):</span></pre>\n",
       "<pre class=\"cython line score-0\">&#xA0;<span class=\"\">34</span>: <span class=\"c\">#     &quot;&quot;&quot;</span></pre>\n",
       "<pre class=\"cython line score-0\">&#xA0;<span class=\"\">35</span>: <span class=\"c\">#     Pass in the original.</span></pre>\n",
       "<pre class=\"cython line score-0\">&#xA0;<span class=\"\">36</span>: <span class=\"c\">#     &quot;&quot;&quot;</span></pre>\n",
       "<pre class=\"cython line score-0\">&#xA0;<span class=\"\">37</span>: <span class=\"c\">#     for idx in range(rows.shape[0]):</span></pre>\n",
       "<pre class=\"cython line score-0\">&#xA0;<span class=\"\">38</span>: <span class=\"c\">#         j = rows[idx]</span></pre>\n",
       "<pre class=\"cython line score-0\">&#xA0;<span class=\"\">39</span>: <span class=\"c\">#         k = cols[idx]</span></pre>\n",
       "<pre class=\"cython line score-0\">&#xA0;<span class=\"\">40</span>: <span class=\"c\">#         for i in range(B.shape[1]):</span></pre>\n",
       "<pre class=\"cython line score-0\">&#xA0;<span class=\"\">41</span>: <span class=\"c\">#             out[j, i] += B[k, i]</span></pre>\n",
       "</div></body></html>"
      ],
      "text/plain": [
       "<IPython.core.display.HTML object>"
      ]
     },
     "execution_count": 52,
     "metadata": {},
     "output_type": "execute_result"
    }
   ],
   "source": [
    "%%cython -a\n",
    "\n",
    "cimport numpy as np\n",
    "import numpy as np\n",
    "from cython import boundscheck, nonecheck, wraparound\n",
    "\n",
    "def csr_binary_dot_right(rows, cols, inputs):\n",
    "    out = np.zeros_like(inputs)\n",
    "    _csr_binary_dot_right(rows, cols, inputs, out)\n",
    "    return out\n",
    "\n",
    "\n",
    "@nonecheck(False)\n",
    "@wraparound(False)\n",
    "@boundscheck(False)\n",
    "cdef inline void _csr_binary_dot_right(int[:] rows, int[:] cols, double[:,:] B, double[:,:] out):\n",
    "    cdef int idx, i, j, k\n",
    "    for idx in range(rows.shape[0]):\n",
    "        j = rows[idx]\n",
    "        k = cols[idx]\n",
    "        for i in range(B.shape[1]):\n",
    "            out[j, i] += B[k, i]\n",
    "\n",
    "# @nonecheck(False)\n",
    "# @wraparound(False)\n",
    "@boundscheck(False)\n",
    "cdef inline void _transpose(double[:,:] out, double[:,:] final):\n",
    "    cdef int i, j\n",
    "    for i in range(out.shape[0]):\n",
    "        for j in range(out.shape[1]):\n",
    "            final[j, i] = out[i, j]\n",
    "        \n",
    "\n",
    "# def _csr_binary_dot_right(rows, cols, B, out):\n",
    "#     \"\"\"\n",
    "#     Pass in the original.\n",
    "#     \"\"\"\n",
    "#     for idx in range(rows.shape[0]):\n",
    "#         j = rows[idx]\n",
    "#         k = cols[idx]\n",
    "#         for i in range(B.shape[1]):\n",
    "#             out[j, i] += B[k, i]"
   ]
  },
  {
   "cell_type": "code",
   "execution_count": 32,
   "metadata": {
    "collapsed": false
   },
   "outputs": [
    {
     "data": {
      "text/plain": [
       "(622671, 36)"
      ]
     },
     "execution_count": 32,
     "metadata": {},
     "output_type": "execute_result"
    }
   ],
   "source": [
    "graph_arr_fin.shape"
   ]
  },
  {
   "cell_type": "code",
   "execution_count": 33,
   "metadata": {
    "collapsed": false
   },
   "outputs": [
    {
     "data": {
      "text/plain": [
       "array([     0,      0,      0, ..., 622669, 622669, 622670], dtype=int32)"
      ]
     },
     "execution_count": 33,
     "metadata": {},
     "output_type": "execute_result"
    }
   ],
   "source": [
    "node_nbrs_rows"
   ]
  },
  {
   "cell_type": "code",
   "execution_count": 34,
   "metadata": {
    "collapsed": false,
    "scrolled": true
   },
   "outputs": [
    {
     "data": {
      "text/plain": [
       "array([     0,     23,      8, ..., 622527, 622506, 622670], dtype=int32)"
      ]
     },
     "execution_count": 34,
     "metadata": {},
     "output_type": "execute_result"
    }
   ],
   "source": [
    "node_nbrs_cols"
   ]
  },
  {
   "cell_type": "code",
   "execution_count": null,
   "metadata": {
    "collapsed": true
   },
   "outputs": [],
   "source": []
  },
  {
   "cell_type": "code",
   "execution_count": 39,
   "metadata": {
    "collapsed": false
   },
   "outputs": [
    {
     "name": "stdout",
     "output_type": "stream",
     "text": [
      "[622671, 36, 0, 0, 0, 0, 0, 0]\n",
      "[2990113, 0, 0, 0, 0, 0, 0, 0]\n",
      "[2990113, 0, 0, 0, 0, 0, 0, 0]\n",
      "[[ 1.  0.  0. ...,  0.  1.  2.]\n",
      " [ 0.  0.  0. ...,  1.  1.  0.]\n",
      " [ 0.  0.  0. ...,  0.  7.  1.]\n",
      " ..., \n",
      " [ 0.  0.  0. ...,  0.  1.  0.]\n",
      " [ 0.  1.  0. ...,  0.  6.  0.]\n",
      " [ 0.  1.  0. ...,  0.  0.  0.]]\n",
      "(622671, 36)\n",
      " "
     ]
    }
   ],
   "source": [
    "%%prun\n",
    "out1 = csr_binary_dot_left(node_nbrs_rows, node_nbrs_cols, graph_arr_fin)\n",
    "print(out1)\n",
    "print(out1.shape)"
   ]
  },
  {
   "cell_type": "code",
   "execution_count": 40,
   "metadata": {
    "collapsed": false
   },
   "outputs": [
    {
     "name": "stdout",
     "output_type": "stream",
     "text": [
      "[[ 1.  0.  0. ...,  0.  1.  2.]\n",
      " [ 0.  0.  0. ...,  1.  1.  0.]\n",
      " [ 0.  0.  0. ...,  0.  7.  1.]\n",
      " ..., \n",
      " [ 0.  0.  0. ...,  0.  1.  0.]\n",
      " [ 0.  1.  0. ...,  0.  6.  0.]\n",
      " [ 0.  1.  0. ...,  0.  0.  0.]]\n",
      "(622671, 36)\n",
      " "
     ]
    }
   ],
   "source": [
    "%%prun\n",
    "out2 = csr_binary_dot_right(node_nbrs_rows, node_nbrs_cols, graph_arr_fin)\n",
    "print(out2)\n",
    "print(out2.shape)"
   ]
  },
  {
   "cell_type": "code",
   "execution_count": 116,
   "metadata": {
    "collapsed": false,
    "scrolled": true
   },
   "outputs": [
    {
     "name": "stdout",
     "output_type": "stream",
     "text": [
      " "
     ]
    }
   ],
   "source": [
    "%%prun\n",
    "\n",
    "def new_nbrs_func(inputs, nodes_nbrs):\n",
    "    new_nbrs = np.full((inputs.shape[0], max(map(len, nodes_nbrs.values()))), -1, dtype=int)\n",
    "    for i, v in nodes_nbrs.items():\n",
    "        new_nbrs[i, :len(v)] = v    \n",
    "    return new_nbrs\n",
    "\n",
    "new_nbrs = new_nbrs_func(graph_arr_fin, nodes_nbrs_fin)"
   ]
  },
  {
   "cell_type": "code",
   "execution_count": 75,
   "metadata": {
    "collapsed": false
   },
   "outputs": [
    {
     "name": "stdout",
     "output_type": "stream",
     "text": [
      " "
     ]
    }
   ],
   "source": [
    "%%prun\n",
    "def jvdp(inputs, new_nbrs):\n",
    "    # add a row of zeros to X\n",
    "    new_inputs = np.vstack([inputs, 0 * inputs[0]])\n",
    "    activations = new_inputs.take(new_nbrs, 0).sum(1)\n",
    "    \n",
    "jvdp(graph_arr_fin, new_nbrs)"
   ]
  },
  {
   "cell_type": "code",
   "execution_count": 160,
   "metadata": {
    "collapsed": false,
    "scrolled": true
   },
   "outputs": [
    {
     "name": "stdout",
     "output_type": "stream",
     "text": [
      " "
     ]
    }
   ],
   "source": [
    "%%prun\n",
    "import operator as op\n",
    "import numpy as np\n",
    "\n",
    "def to_sparse_format(dct):\n",
    "    rows, cols = zip(*sorted(dct.items(), key=op.itemgetter(0)))\n",
    "    rows = np.repeat(rows, list(map(len, cols)))\n",
    "    cols = np.concatenate(cols)\n",
    "    \n",
    "    return rows, cols\n",
    "\n",
    "to_sparse_format(nodes_nbrs)"
   ]
  },
  {
   "cell_type": "code",
   "execution_count": 86,
   "metadata": {
    "collapsed": false
   },
   "outputs": [],
   "source": [
    "from graphfp.layers import FingerprintLayer, LinearRegressionLayer#, GraphConvLayer\n",
    "from graphfp.utils import initialize_network\n",
    "from pyflatten import flatten\n",
    "\n",
    "layers = [# GraphConvLayer((36, 36)),\n",
    "          GraphConvLayer(weights_shape=(36, 36), biases_shape=(1, 36)),\n",
    "          FingerprintLayer(weights_shape=(36, 36), biases_shape=(1, 36)),\n",
    "          LinearRegressionLayer(weights_shape=(36, 1), biases_shape=(1, 1)),\n",
    "]\n",
    "\n",
    "wb = initialize_network(layers_spec=layers)\n",
    "wb_vect, unflattener = flatten(wb)"
   ]
  },
  {
   "cell_type": "code",
   "execution_count": 87,
   "metadata": {
    "collapsed": false
   },
   "outputs": [
    {
     "name": "stdout",
     "output_type": "stream",
     "text": [
      "(19502, 36)\n",
      "19502\n",
      "100\n"
     ]
    }
   ],
   "source": [
    "from random import sample\n",
    "\n",
    "def batch_sample(inputs, nodes_nbrs, graph_idxs, n_graphs):\n",
    "    \"\"\"\n",
    "    Randomly samples n_graphs from all of the graphs, returns new inputs,\n",
    "    node_nbr dictionary, and graph_idx dictionary.\n",
    "    \"\"\"\n",
    "    samp_graph_idxs = dict(sample(graph_idxs.items(), n_graphs))\n",
    "    assert len(samp_graph_idxs) == n_graphs, \"There was an error in sampling.\"\n",
    "    concat_samp_idxs = np.concatenate([v for k, v in sorted(samp_graph_idxs.items())])\n",
    "    # print('Samp Idxs Shape')\n",
    "    # print(concat_samp_idxs.shape)\n",
    "    samp_nodes_nbrs = {i: nodes_nbrs[i] for i in concat_samp_idxs}\n",
    "    assert len(samp_nodes_nbrs) == len(concat_samp_idxs)\n",
    "\n",
    "    samp_inputs, samp_nodes_oldnew, samp_nodes_newold = reindex_data_matrix(samp_graph_idxs, inputs)\n",
    "    \n",
    "    samp_nodes_nbrs = filter_and_reindex_nodes_and_neighbors(samp_nodes_nbrs, samp_nodes_oldnew)\n",
    "    samp_graph_idxs = filter_and_reindex_graph_idxs(samp_graph_idxs, samp_nodes_oldnew)\n",
    "    \n",
    "    return samp_inputs, samp_nodes_nbrs, samp_graph_idxs\n",
    "\n",
    "\n",
    "samp_inputs, samp_nodes_nbrs, samp_graph_idxs = batch_sample(graph_arr_fin, nodes_nbrs_fin, graph_idxs_fin, 100)\n",
    "\n",
    "print(samp_inputs.shape)\n",
    "print(len(samp_nodes_nbrs))\n",
    "print(len(samp_graph_idxs))"
   ]
  },
  {
   "cell_type": "code",
   "execution_count": 88,
   "metadata": {
    "collapsed": false
   },
   "outputs": [],
   "source": [
    "def predict(wb_struct, inputs, nodes_nbrs, graph_idxs, layers):\n",
    "    curr_inputs = inputs\n",
    "    \n",
    "    for i, layer in enumerate(layers):\n",
    "        wb = wb_struct['layer{0}_{1}'.format(i, layer)]\n",
    "        curr_inputs = layer.forward_pass(wb, curr_inputs, nodes_nbrs, graph_idxs)\n",
    "    return curr_inputs"
   ]
  },
  {
   "cell_type": "code",
   "execution_count": 89,
   "metadata": {
    "collapsed": false
   },
   "outputs": [],
   "source": [
    "# Scratchpad cell\n",
    "samp_graph_idxs = dict(sample(graph_idxs.items(), 10))\n",
    "assert len(samp_graph_idxs) == 10\n",
    "concat_samp_idxs = np.concatenate([i for i in samp_graph_idxs.values()])\n",
    "samp_nodes_nbrs = {i: nodes_nbrs[i] for i in concat_samp_idxs}\n",
    "assert len(samp_nodes_nbrs) == len(concat_samp_idxs)"
   ]
  },
  {
   "cell_type": "code",
   "execution_count": 90,
   "metadata": {
    "collapsed": false
   },
   "outputs": [],
   "source": [
    "# samp_graph_arr, samp_nodes_nbrs, samp_graph_idxs = batch_sample(graph_arr_fin, nodes_nbrs_fin, graph_idxs_fin, 100)\n",
    "# wb_struct = unflattener(wb_vect)"
   ]
  },
  {
   "cell_type": "code",
   "execution_count": 91,
   "metadata": {
    "collapsed": false,
    "scrolled": true
   },
   "outputs": [],
   "source": [
    "# %%prun \n",
    "# preds = predict(wb_struct, samp_graph_arr, samp_nodes_nbrs, samp_graph_idxs, layers)"
   ]
  },
  {
   "cell_type": "code",
   "execution_count": 98,
   "metadata": {
    "collapsed": false
   },
   "outputs": [],
   "source": [
    "# Prototype train_loss function\n",
    "from pyflatten import flatten\n",
    "\n",
    "wb_vect, unflattener = flatten(wb)\n",
    "\n",
    "def get_actual(graph_idxs, df, preds):\n",
    "    sorted_graphs = sorted(graph_idxs.keys())\n",
    "    # print(sorted_graphs)\n",
    "    sorted_resistances = df[df['seqid'].isin(sorted_graphs)].set_index('seqid').ix[sorted_graphs]['FPV'].values\n",
    "    # print(sorted_resistances)\n",
    "    actual = sorted_resistances.reshape(preds.shape)\n",
    "    \n",
    "    return actual\n",
    "\n",
    "train_losses = []\n",
    "preds_iter = []\n",
    "actual_iter = []\n",
    "\n",
    "def train_loss(wb_vect, unflattener):\n",
    "    \n",
    "    samp_graph_arr, samp_nodes_nbrs, samp_graph_idxs = batch_sample(graph_arr_fin, nodes_nbrs_fin, graph_idxs_fin, 3200)\n",
    "    wb_struct = unflattener(wb_vect)\n",
    "    preds = predict(wb_struct, samp_graph_arr, samp_nodes_nbrs, samp_graph_idxs, layers)\n",
    "    \n",
    "    # sorted_graphs = sorted(samp_graph_idxs.keys())\n",
    "    # # print(sorted_graphs)\n",
    "    # sorted_resistances = df[df['seqid'].isin(sorted_graphs)].set_index('seqid').ix[sorted_graphs]['FPV'].values\n",
    "    # # print(sorted_resistances)\n",
    "    # graph_scores = sorted_resistances.reshape(preds.shape)\n",
    "    graph_scores = get_actual(samp_graph_idxs, df, preds)\n",
    "    mse = np.mean(np.power(preds - graph_scores, 2))\n",
    "    \n",
    "    train_losses.append(mse)\n",
    "    preds_iter.append(preds)\n",
    "    actual_iter.append(graph_scores)\n",
    "    print(mse)\n",
    "    return mse"
   ]
  },
  {
   "cell_type": "code",
   "execution_count": 99,
   "metadata": {
    "collapsed": false
   },
   "outputs": [
    {
     "name": "stdout",
     "output_type": "stream",
     "text": [
      "2381.73532415\n",
      " "
     ]
    }
   ],
   "source": [
    "%%prun\n",
    "train_loss(wb_vect, unflattener)"
   ]
  },
  {
   "cell_type": "code",
   "execution_count": 100,
   "metadata": {
    "collapsed": false
   },
   "outputs": [],
   "source": [
    "gradfunc = grad(train_loss)  # how do I pass in kwargs?"
   ]
  },
  {
   "cell_type": "code",
   "execution_count": 101,
   "metadata": {
    "collapsed": true
   },
   "outputs": [],
   "source": [
    "from graphfp.optimizers import adam"
   ]
  },
  {
   "cell_type": "code",
   "execution_count": 102,
   "metadata": {
    "collapsed": true
   },
   "outputs": [],
   "source": [
    "from time import time\n",
    "training_losses = []\n",
    "def callback(wb, i):\n",
    "    start = time()\n",
    "    tl = train_loss(*flatten(wb))\n",
    "    # if i % 10 == 0:\n",
    "    # print(tl, time() - start)\n",
    "    training_losses.append(tl)"
   ]
  },
  {
   "cell_type": "code",
   "execution_count": 103,
   "metadata": {
    "collapsed": false,
    "scrolled": false
   },
   "outputs": [
    {
     "ename": "KeyboardInterrupt",
     "evalue": "",
     "output_type": "error",
     "traceback": [
      "\u001b[0;31m---------------------------------------------------------------------------\u001b[0m",
      "\u001b[0;31mKeyboardInterrupt\u001b[0m                         Traceback (most recent call last)",
      "\u001b[0;32m<ipython-input-103-dcc86a24cca3>\u001b[0m in \u001b[0;36m<module>\u001b[0;34m()\u001b[0m\n\u001b[0;32m----> 1\u001b[0;31m \u001b[0mwb_vect\u001b[0m\u001b[0;34m,\u001b[0m \u001b[0munflattener\u001b[0m \u001b[0;34m=\u001b[0m \u001b[0madam\u001b[0m\u001b[0;34m(\u001b[0m\u001b[0mgradfunc\u001b[0m\u001b[0;34m,\u001b[0m \u001b[0mwb\u001b[0m\u001b[0;34m,\u001b[0m \u001b[0mcallback\u001b[0m\u001b[0;34m=\u001b[0m\u001b[0;32mNone\u001b[0m\u001b[0;34m,\u001b[0m \u001b[0mnum_iters\u001b[0m\u001b[0;34m=\u001b[0m\u001b[0;36m10000\u001b[0m\u001b[0;34m)\u001b[0m\u001b[0;34m\u001b[0m\u001b[0m\n\u001b[0m",
      "\u001b[0;32m/Users/ericmjl/Documents/github/graph-fingerprint/graphfp/optimizers.py\u001b[0m in \u001b[0;36madam\u001b[0;34m(grad, wb, callback, num_iters, step_size, b1, b2, eps)\u001b[0m\n\u001b[1;32m     41\u001b[0m \u001b[0;34m\u001b[0m\u001b[0m\n\u001b[1;32m     42\u001b[0m     \u001b[0;32mfor\u001b[0m \u001b[0mi\u001b[0m \u001b[0;32min\u001b[0m \u001b[0mrange\u001b[0m\u001b[0;34m(\u001b[0m\u001b[0mnum_iters\u001b[0m\u001b[0;34m)\u001b[0m\u001b[0;34m:\u001b[0m\u001b[0;34m\u001b[0m\u001b[0m\n\u001b[0;32m---> 43\u001b[0;31m         \u001b[0mg\u001b[0m \u001b[0;34m=\u001b[0m \u001b[0mgrad\u001b[0m\u001b[0;34m(\u001b[0m\u001b[0mwb_vect\u001b[0m\u001b[0;34m,\u001b[0m \u001b[0mwb_unflattener\u001b[0m\u001b[0;34m)\u001b[0m\u001b[0;34m\u001b[0m\u001b[0m\n\u001b[0m\u001b[1;32m     44\u001b[0m         \u001b[0;32mif\u001b[0m \u001b[0mcallback\u001b[0m\u001b[0;34m:\u001b[0m\u001b[0;34m\u001b[0m\u001b[0m\n\u001b[1;32m     45\u001b[0m             \u001b[0mcallback\u001b[0m\u001b[0;34m(\u001b[0m\u001b[0mwb_unflattener\u001b[0m\u001b[0;34m(\u001b[0m\u001b[0mwb_vect\u001b[0m\u001b[0;34m)\u001b[0m\u001b[0;34m,\u001b[0m \u001b[0mi\u001b[0m\u001b[0;34m)\u001b[0m\u001b[0;34m\u001b[0m\u001b[0m\n",
      "\u001b[0;32m/Users/ericmjl/Documents/github/autograd/autograd/core.py\u001b[0m in \u001b[0;36mgradfun\u001b[0;34m(*args, **kwargs)\u001b[0m\n\u001b[1;32m     20\u001b[0m     \u001b[0;34m@\u001b[0m\u001b[0mattach_name_and_doc\u001b[0m\u001b[0;34m(\u001b[0m\u001b[0mfun\u001b[0m\u001b[0;34m,\u001b[0m \u001b[0margnum\u001b[0m\u001b[0;34m,\u001b[0m \u001b[0;34m'Gradient'\u001b[0m\u001b[0;34m)\u001b[0m\u001b[0;34m\u001b[0m\u001b[0m\n\u001b[1;32m     21\u001b[0m     \u001b[0;32mdef\u001b[0m \u001b[0mgradfun\u001b[0m\u001b[0;34m(\u001b[0m\u001b[0;34m*\u001b[0m\u001b[0margs\u001b[0m\u001b[0;34m,\u001b[0m\u001b[0;34m**\u001b[0m\u001b[0mkwargs\u001b[0m\u001b[0;34m)\u001b[0m\u001b[0;34m:\u001b[0m\u001b[0;34m\u001b[0m\u001b[0m\n\u001b[0;32m---> 22\u001b[0;31m         \u001b[0;32mreturn\u001b[0m \u001b[0mbackward_pass\u001b[0m\u001b[0;34m(\u001b[0m\u001b[0;34m*\u001b[0m\u001b[0mforward_pass\u001b[0m\u001b[0;34m(\u001b[0m\u001b[0mfun\u001b[0m\u001b[0;34m,\u001b[0m\u001b[0margs\u001b[0m\u001b[0;34m,\u001b[0m\u001b[0mkwargs\u001b[0m\u001b[0;34m,\u001b[0m\u001b[0margnum\u001b[0m\u001b[0;34m)\u001b[0m\u001b[0;34m)\u001b[0m\u001b[0;34m\u001b[0m\u001b[0m\n\u001b[0m\u001b[1;32m     23\u001b[0m     \u001b[0;32mreturn\u001b[0m \u001b[0mgradfun\u001b[0m\u001b[0;34m\u001b[0m\u001b[0m\n\u001b[1;32m     24\u001b[0m \u001b[0;34m\u001b[0m\u001b[0m\n",
      "\u001b[0;32m/Users/ericmjl/Documents/github/autograd/autograd/core.py\u001b[0m in \u001b[0;36mforward_pass\u001b[0;34m(fun, args, kwargs, argnum)\u001b[0m\n\u001b[1;32m     29\u001b[0m     \u001b[0margs\u001b[0m \u001b[0;34m=\u001b[0m \u001b[0mlist\u001b[0m\u001b[0;34m(\u001b[0m\u001b[0margs\u001b[0m\u001b[0;34m)\u001b[0m\u001b[0;34m\u001b[0m\u001b[0m\n\u001b[1;32m     30\u001b[0m     \u001b[0margs\u001b[0m\u001b[0;34m[\u001b[0m\u001b[0margnum\u001b[0m\u001b[0;34m]\u001b[0m \u001b[0;34m=\u001b[0m \u001b[0mmerge_tapes\u001b[0m\u001b[0;34m(\u001b[0m\u001b[0mstart_node\u001b[0m\u001b[0;34m,\u001b[0m \u001b[0marg_wrt\u001b[0m\u001b[0;34m)\u001b[0m\u001b[0;34m\u001b[0m\u001b[0m\n\u001b[0;32m---> 31\u001b[0;31m     \u001b[0;32mtry\u001b[0m\u001b[0;34m:\u001b[0m \u001b[0mend_node\u001b[0m \u001b[0;34m=\u001b[0m \u001b[0mfun\u001b[0m\u001b[0;34m(\u001b[0m\u001b[0;34m*\u001b[0m\u001b[0margs\u001b[0m\u001b[0;34m,\u001b[0m \u001b[0;34m**\u001b[0m\u001b[0mkwargs\u001b[0m\u001b[0;34m)\u001b[0m\u001b[0;34m\u001b[0m\u001b[0m\n\u001b[0m\u001b[1;32m     32\u001b[0m     \u001b[0;32mexcept\u001b[0m \u001b[0mException\u001b[0m \u001b[0;32mas\u001b[0m \u001b[0me\u001b[0m\u001b[0;34m:\u001b[0m \u001b[0madd_extra_error_message\u001b[0m\u001b[0;34m(\u001b[0m\u001b[0me\u001b[0m\u001b[0;34m)\u001b[0m\u001b[0;34m\u001b[0m\u001b[0m\n\u001b[1;32m     33\u001b[0m     \u001b[0;32mreturn\u001b[0m \u001b[0mstart_node\u001b[0m\u001b[0;34m,\u001b[0m \u001b[0mend_node\u001b[0m\u001b[0;34m,\u001b[0m \u001b[0mtape\u001b[0m\u001b[0;34m\u001b[0m\u001b[0m\n",
      "\u001b[0;32m<ipython-input-98-53a4838e155d>\u001b[0m in \u001b[0;36mtrain_loss\u001b[0;34m(wb_vect, unflattener)\u001b[0m\n\u001b[1;32m     19\u001b[0m \u001b[0;32mdef\u001b[0m \u001b[0mtrain_loss\u001b[0m\u001b[0;34m(\u001b[0m\u001b[0mwb_vect\u001b[0m\u001b[0;34m,\u001b[0m \u001b[0munflattener\u001b[0m\u001b[0;34m)\u001b[0m\u001b[0;34m:\u001b[0m\u001b[0;34m\u001b[0m\u001b[0m\n\u001b[1;32m     20\u001b[0m \u001b[0;34m\u001b[0m\u001b[0m\n\u001b[0;32m---> 21\u001b[0;31m     \u001b[0msamp_graph_arr\u001b[0m\u001b[0;34m,\u001b[0m \u001b[0msamp_nodes_nbrs\u001b[0m\u001b[0;34m,\u001b[0m \u001b[0msamp_graph_idxs\u001b[0m \u001b[0;34m=\u001b[0m \u001b[0mbatch_sample\u001b[0m\u001b[0;34m(\u001b[0m\u001b[0mgraph_arr_fin\u001b[0m\u001b[0;34m,\u001b[0m \u001b[0mnodes_nbrs_fin\u001b[0m\u001b[0;34m,\u001b[0m \u001b[0mgraph_idxs_fin\u001b[0m\u001b[0;34m,\u001b[0m \u001b[0;36m3200\u001b[0m\u001b[0;34m)\u001b[0m\u001b[0;34m\u001b[0m\u001b[0m\n\u001b[0m\u001b[1;32m     22\u001b[0m     \u001b[0mwb_struct\u001b[0m \u001b[0;34m=\u001b[0m \u001b[0munflattener\u001b[0m\u001b[0;34m(\u001b[0m\u001b[0mwb_vect\u001b[0m\u001b[0;34m)\u001b[0m\u001b[0;34m\u001b[0m\u001b[0m\n\u001b[1;32m     23\u001b[0m     \u001b[0mpreds\u001b[0m \u001b[0;34m=\u001b[0m \u001b[0mpredict\u001b[0m\u001b[0;34m(\u001b[0m\u001b[0mwb_struct\u001b[0m\u001b[0;34m,\u001b[0m \u001b[0msamp_graph_arr\u001b[0m\u001b[0;34m,\u001b[0m \u001b[0msamp_nodes_nbrs\u001b[0m\u001b[0;34m,\u001b[0m \u001b[0msamp_graph_idxs\u001b[0m\u001b[0;34m,\u001b[0m \u001b[0mlayers\u001b[0m\u001b[0;34m)\u001b[0m\u001b[0;34m\u001b[0m\u001b[0m\n",
      "\u001b[0;32m<ipython-input-87-0e6b5e5f3335>\u001b[0m in \u001b[0;36mbatch_sample\u001b[0;34m(inputs, nodes_nbrs, graph_idxs, n_graphs)\u001b[0m\n\u001b[1;32m     17\u001b[0m \u001b[0;34m\u001b[0m\u001b[0m\n\u001b[1;32m     18\u001b[0m     \u001b[0msamp_nodes_nbrs\u001b[0m \u001b[0;34m=\u001b[0m \u001b[0mfilter_and_reindex_nodes_and_neighbors\u001b[0m\u001b[0;34m(\u001b[0m\u001b[0msamp_nodes_nbrs\u001b[0m\u001b[0;34m,\u001b[0m \u001b[0msamp_nodes_oldnew\u001b[0m\u001b[0;34m)\u001b[0m\u001b[0;34m\u001b[0m\u001b[0m\n\u001b[0;32m---> 19\u001b[0;31m     \u001b[0msamp_graph_idxs\u001b[0m \u001b[0;34m=\u001b[0m \u001b[0mfilter_and_reindex_graph_idxs\u001b[0m\u001b[0;34m(\u001b[0m\u001b[0msamp_graph_idxs\u001b[0m\u001b[0;34m,\u001b[0m \u001b[0msamp_nodes_oldnew\u001b[0m\u001b[0;34m)\u001b[0m\u001b[0;34m\u001b[0m\u001b[0m\n\u001b[0m\u001b[1;32m     20\u001b[0m \u001b[0;34m\u001b[0m\u001b[0m\n\u001b[1;32m     21\u001b[0m     \u001b[0;32mreturn\u001b[0m \u001b[0msamp_inputs\u001b[0m\u001b[0;34m,\u001b[0m \u001b[0msamp_nodes_nbrs\u001b[0m\u001b[0;34m,\u001b[0m \u001b[0msamp_graph_idxs\u001b[0m\u001b[0;34m\u001b[0m\u001b[0m\n",
      "\u001b[0;32m<ipython-input-21-91b0c6aad069>\u001b[0m in \u001b[0;36mfilter_and_reindex_graph_idxs\u001b[0;34m(graph_idxs, nodes_oldnew)\u001b[0m\n\u001b[1;32m      7\u001b[0m     \u001b[0;32mfor\u001b[0m \u001b[0mseqid\u001b[0m\u001b[0;34m,\u001b[0m \u001b[0mnodes\u001b[0m \u001b[0;32min\u001b[0m \u001b[0msorted\u001b[0m\u001b[0;34m(\u001b[0m\u001b[0mgraph_idxs\u001b[0m\u001b[0;34m.\u001b[0m\u001b[0mitems\u001b[0m\u001b[0;34m(\u001b[0m\u001b[0;34m)\u001b[0m\u001b[0;34m)\u001b[0m\u001b[0;34m:\u001b[0m\u001b[0;34m\u001b[0m\u001b[0m\n\u001b[1;32m      8\u001b[0m         \u001b[0;32mfor\u001b[0m \u001b[0mnode\u001b[0m \u001b[0;32min\u001b[0m \u001b[0mnodes\u001b[0m\u001b[0;34m:\u001b[0m\u001b[0;34m\u001b[0m\u001b[0m\n\u001b[0;32m----> 9\u001b[0;31m             \u001b[0;32mif\u001b[0m \u001b[0mnode\u001b[0m \u001b[0;32min\u001b[0m \u001b[0mnodes_oldnew\u001b[0m\u001b[0;34m.\u001b[0m\u001b[0mkeys\u001b[0m\u001b[0;34m(\u001b[0m\u001b[0;34m)\u001b[0m\u001b[0;34m:\u001b[0m\u001b[0;34m\u001b[0m\u001b[0m\n\u001b[0m\u001b[1;32m     10\u001b[0m                 \u001b[0mgraph_idxs_fin\u001b[0m\u001b[0;34m[\u001b[0m\u001b[0mseqid\u001b[0m\u001b[0;34m]\u001b[0m\u001b[0;34m.\u001b[0m\u001b[0mappend\u001b[0m\u001b[0;34m(\u001b[0m\u001b[0mnodes_oldnew\u001b[0m\u001b[0;34m[\u001b[0m\u001b[0mnode\u001b[0m\u001b[0;34m]\u001b[0m\u001b[0;34m)\u001b[0m\u001b[0;34m\u001b[0m\u001b[0m\n\u001b[1;32m     11\u001b[0m     \u001b[0;32mreturn\u001b[0m \u001b[0mgraph_idxs_fin\u001b[0m\u001b[0;34m\u001b[0m\u001b[0m\n",
      "\u001b[0;31mKeyboardInterrupt\u001b[0m: "
     ]
    }
   ],
   "source": [
    "wb_vect, unflattener = adam(gradfunc, wb, callback=None, num_iters=10000)"
   ]
  },
  {
   "cell_type": "code",
   "execution_count": 100,
   "metadata": {
    "collapsed": false
   },
   "outputs": [
    {
     "data": {
      "text/plain": [
       "[<matplotlib.lines.Line2D at 0x17004be48>]"
      ]
     },
     "execution_count": 100,
     "metadata": {},
     "output_type": "execute_result"
    },
    {
     "data": {
      "image/png": "[encoded data removed]",
      "text/plain": [
       "<matplotlib.figure.Figure at 0x16b288828>"
      ]
     },
     "metadata": {},
     "output_type": "display_data"
    }
   ],
   "source": [
    "# %matplotlib inline\n",
    "\n",
    "import matplotlib.pyplot as plt\n",
    "from autograd.core import getval\n",
    "\n",
    "\n",
    "\n",
    "plt.plot([getval(i) for i in train_losses])\n",
    "# plt.yscale('log')"
   ]
  },
  {
   "cell_type": "code",
   "execution_count": 111,
   "metadata": {
    "collapsed": false,
    "scrolled": true
   },
   "outputs": [
    {
     "data": {
      "text/plain": [
       "(-100, 1000)"
      ]
     },
     "execution_count": 111,
     "metadata": {},
     "output_type": "execute_result"
    },
    {
     "data": {
      "image/png": "[encoded data removed]",
      "text/plain": [
       "<matplotlib.figure.Figure at 0x17003d748>"
      ]
     },
     "metadata": {},
     "output_type": "display_data"
    }
   ],
   "source": [
    "from pprint import pprint\n",
    "\n",
    "means = []\n",
    "mins = []\n",
    "maxes = []\n",
    "for i in actual_iter:\n",
    "    means.append(np.mean(getval(i)))\n",
    "    mins.append(np.min(getval(i)))\n",
    "    maxes.append(np.max(getval(i)))\n",
    "\n",
    "# getval(preds_iter[38]).mean()\n",
    "plt.plot(means)\n",
    "plt.plot(mins)\n",
    "plt.plot(maxes)\n",
    "# plt.yscale('log')\n",
    "plt.ylim(-100, 1000)"
   ]
  },
  {
   "cell_type": "code",
   "execution_count": null,
   "metadata": {
    "collapsed": true
   },
   "outputs": [],
   "source": []
  }
 ],
 "metadata": {
  "kernelspec": {
   "display_name": "Python 3",
   "language": "python",
   "name": "python3"
  },
  "language_info": {
   "codemirror_mode": {
    "name": "ipython",
    "version": 3
   },
   "file_extension": ".py",
   "mimetype": "text/x-python",
   "name": "python",
   "nbconvert_exporter": "python",
   "pygments_lexer": "ipython3",
   "version": "3.5.1"
  },
  "widgets": {
   "state": {},
   "version": "1.1.1"
  }
 },
 "nbformat": 4,
 "nbformat_minor": 0
}
