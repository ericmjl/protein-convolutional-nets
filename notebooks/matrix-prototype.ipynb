{
 "cells": [
  {
   "cell_type": "code",
   "execution_count": 1,
   "metadata": {
    "collapsed": false
   },
   "outputs": [
    {
     "name": "stderr",
     "output_type": "stream",
     "text": [
      "/Users/ericmjl/anaconda/lib/python3.5/site-packages/IPython/kernel/__init__.py:13: ShimWarning: The `IPython.kernel` package has been deprecated. You should import from ipykernel or jupyter_client instead.\n",
      "  \"You should import from ipykernel or jupyter_client instead.\", ShimWarning)\n"
     ]
    }
   ],
   "source": [
    "from autograd import grad\n",
    "from memorytools import summarize_objects\n",
    "\n",
    "import autograd.numpy as np\n",
    "import pickle as pkl\n",
    "import json\n",
    "import pandas as pd\n",
    "import matplotlib.pyplot as plt\n",
    "import tracemalloc\n",
    "import objgraph\n",
    "\n",
    "%matplotlib inline\n",
    "%load_ext autoreload\n",
    "%autoreload 2"
   ]
  },
  {
   "cell_type": "code",
   "execution_count": 2,
   "metadata": {
    "collapsed": false
   },
   "outputs": [],
   "source": [
    "tracemalloc.start()"
   ]
  },
  {
   "cell_type": "code",
   "execution_count": 3,
   "metadata": {
    "collapsed": false
   },
   "outputs": [
    {
     "data": {
      "text/html": [
       "<div>\n",
       "<table border=\"1\" class=\"dataframe\">\n",
       "  <thead>\n",
       "    <tr style=\"text-align: right;\">\n",
       "      <th></th>\n",
       "      <th>ATV</th>\n",
       "      <th>DRV</th>\n",
       "      <th>FPV</th>\n",
       "      <th>IDV</th>\n",
       "      <th>LPV</th>\n",
       "      <th>NFV</th>\n",
       "      <th>SQV</th>\n",
       "      <th>SeqID</th>\n",
       "      <th>TPV</th>\n",
       "      <th>seqid</th>\n",
       "      <th>sequence</th>\n",
       "      <th>sequence_object</th>\n",
       "      <th>weight</th>\n",
       "    </tr>\n",
       "  </thead>\n",
       "  <tbody>\n",
       "    <tr>\n",
       "      <th>0</th>\n",
       "      <td>NaN</td>\n",
       "      <td>NaN</td>\n",
       "      <td>2.5</td>\n",
       "      <td>16.3</td>\n",
       "      <td>NaN</td>\n",
       "      <td>38.6</td>\n",
       "      <td>16.1</td>\n",
       "      <td>2996</td>\n",
       "      <td>NaN</td>\n",
       "      <td>2996-0</td>\n",
       "      <td>PQITLWQRPIVTIKIGGQLKEALLDTGADDTVLEDVNLPGRWKPKM...</td>\n",
       "      <td>ID: 2996-0\\nName: &lt;unknown name&gt;\\nDescription:...</td>\n",
       "      <td>0.50</td>\n",
       "    </tr>\n",
       "    <tr>\n",
       "      <th>1</th>\n",
       "      <td>NaN</td>\n",
       "      <td>NaN</td>\n",
       "      <td>2.5</td>\n",
       "      <td>16.3</td>\n",
       "      <td>NaN</td>\n",
       "      <td>38.6</td>\n",
       "      <td>16.1</td>\n",
       "      <td>2996</td>\n",
       "      <td>NaN</td>\n",
       "      <td>2996-1</td>\n",
       "      <td>PQITLWQRPIVTIKIGGQLKEALLDTGADDTVLEDVNLPGRWKPKM...</td>\n",
       "      <td>ID: 2996-1\\nName: &lt;unknown name&gt;\\nDescription:...</td>\n",
       "      <td>0.50</td>\n",
       "    </tr>\n",
       "    <tr>\n",
       "      <th>2</th>\n",
       "      <td>NaN</td>\n",
       "      <td>NaN</td>\n",
       "      <td>0.7</td>\n",
       "      <td>0.8</td>\n",
       "      <td>NaN</td>\n",
       "      <td>0.8</td>\n",
       "      <td>1.1</td>\n",
       "      <td>4387</td>\n",
       "      <td>NaN</td>\n",
       "      <td>4387-0</td>\n",
       "      <td>PQITLWQRPLVTIKVGGQLKEALLDTGADDTVLEDMELPGRWKPKM...</td>\n",
       "      <td>ID: 4387-0\\nName: &lt;unknown name&gt;\\nDescription:...</td>\n",
       "      <td>0.25</td>\n",
       "    </tr>\n",
       "    <tr>\n",
       "      <th>3</th>\n",
       "      <td>NaN</td>\n",
       "      <td>NaN</td>\n",
       "      <td>0.7</td>\n",
       "      <td>0.8</td>\n",
       "      <td>NaN</td>\n",
       "      <td>0.8</td>\n",
       "      <td>1.1</td>\n",
       "      <td>4387</td>\n",
       "      <td>NaN</td>\n",
       "      <td>4387-1</td>\n",
       "      <td>PQITLWQRPLVTIKVGGQLKEALLDTGADDTVLEDMELPGRWKPKM...</td>\n",
       "      <td>ID: 4387-1\\nName: &lt;unknown name&gt;\\nDescription:...</td>\n",
       "      <td>0.25</td>\n",
       "    </tr>\n",
       "    <tr>\n",
       "      <th>4</th>\n",
       "      <td>NaN</td>\n",
       "      <td>NaN</td>\n",
       "      <td>0.7</td>\n",
       "      <td>0.8</td>\n",
       "      <td>NaN</td>\n",
       "      <td>0.8</td>\n",
       "      <td>1.1</td>\n",
       "      <td>4387</td>\n",
       "      <td>NaN</td>\n",
       "      <td>4387-2</td>\n",
       "      <td>PQITLWQRPLVTIKVGGQLKEALLDTGADDTVLEDMELPGRWKPKM...</td>\n",
       "      <td>ID: 4387-2\\nName: &lt;unknown name&gt;\\nDescription:...</td>\n",
       "      <td>0.25</td>\n",
       "    </tr>\n",
       "  </tbody>\n",
       "</table>\n",
       "</div>"
      ],
      "text/plain": [
       "   ATV  DRV  FPV   IDV  LPV   NFV   SQV  SeqID  TPV   seqid  \\\n",
       "0  NaN  NaN  2.5  16.3  NaN  38.6  16.1   2996  NaN  2996-0   \n",
       "1  NaN  NaN  2.5  16.3  NaN  38.6  16.1   2996  NaN  2996-1   \n",
       "2  NaN  NaN  0.7   0.8  NaN   0.8   1.1   4387  NaN  4387-0   \n",
       "3  NaN  NaN  0.7   0.8  NaN   0.8   1.1   4387  NaN  4387-1   \n",
       "4  NaN  NaN  0.7   0.8  NaN   0.8   1.1   4387  NaN  4387-2   \n",
       "\n",
       "                                            sequence  \\\n",
       "0  PQITLWQRPIVTIKIGGQLKEALLDTGADDTVLEDVNLPGRWKPKM...   \n",
       "1  PQITLWQRPIVTIKIGGQLKEALLDTGADDTVLEDVNLPGRWKPKM...   \n",
       "2  PQITLWQRPLVTIKVGGQLKEALLDTGADDTVLEDMELPGRWKPKM...   \n",
       "3  PQITLWQRPLVTIKVGGQLKEALLDTGADDTVLEDMELPGRWKPKM...   \n",
       "4  PQITLWQRPLVTIKVGGQLKEALLDTGADDTVLEDMELPGRWKPKM...   \n",
       "\n",
       "                                     sequence_object  weight  \n",
       "0  ID: 2996-0\\nName: <unknown name>\\nDescription:...    0.50  \n",
       "1  ID: 2996-1\\nName: <unknown name>\\nDescription:...    0.50  \n",
       "2  ID: 4387-0\\nName: <unknown name>\\nDescription:...    0.25  \n",
       "3  ID: 4387-1\\nName: <unknown name>\\nDescription:...    0.25  \n",
       "4  ID: 4387-2\\nName: <unknown name>\\nDescription:...    0.25  "
      ]
     },
     "execution_count": 3,
     "metadata": {},
     "output_type": "execute_result"
    }
   ],
   "source": [
    "# Open the data file that contains the HIV protease data\n",
    "\n",
    "df = pd.read_csv('../data/hiv_data/hiv-protease-data-expanded.csv', index_col=0)\n",
    "df = df.dropna(subset=['FPV'])\n",
    "df.head()"
   ]
  },
  {
   "cell_type": "code",
   "execution_count": 4,
   "metadata": {
    "collapsed": false
   },
   "outputs": [],
   "source": [
    "# Open the numpy array of all graphs' data.\n",
    "graph_arr = np.load('../data/feat_array.npy')"
   ]
  },
  {
   "cell_type": "code",
   "execution_count": 5,
   "metadata": {
    "collapsed": false
   },
   "outputs": [],
   "source": [
    "# Open the pickles that contain the graph information and node-nbr information.\n",
    "def unpickle_data(path):\n",
    "    with open(path, 'rb') as f:\n",
    "        data = pkl.load(f)\n",
    "    return data\n",
    "\n",
    "graph_idxs = unpickle_data('../data/graph_idxs.pkl')\n",
    "graph_nodes = unpickle_data('../data/graph_nodes.pkl')\n",
    "nodes_nbrs = unpickle_data('../data/nodes_nbrs.pkl')"
   ]
  },
  {
   "cell_type": "code",
   "execution_count": 6,
   "metadata": {
    "collapsed": false,
    "scrolled": true
   },
   "outputs": [
    {
     "data": {
      "text/plain": [
       "['109452-3', '68072-3', '50656-1', '28212-1', '148081-7']"
      ]
     },
     "execution_count": 6,
     "metadata": {},
     "output_type": "execute_result"
    }
   ],
   "source": [
    "list(graph_idxs.keys())[0:5]\n",
    "# len(graph_idxs.keys())"
   ]
  },
  {
   "cell_type": "code",
   "execution_count": 7,
   "metadata": {
    "collapsed": false
   },
   "outputs": [
    {
     "data": {
      "text/plain": [
       "('109452-3',\n",
       " {277190: 'A70LYS',\n",
       "  277191: 'A34GLU',\n",
       "  277192: 'B73GLY',\n",
       "  277193: 'A36MET',\n",
       "  277194: 'B49GLY',\n",
       "  277195: 'A12THR',\n",
       "  277196: 'A24LEU',\n",
       "  277197: 'B68GLY',\n",
       "  277198: 'B4THR',\n",
       "  277199: 'A88ASN',\n",
       "  277200: 'A63LEU',\n",
       "  277201: 'B2GLN',\n",
       "  277202: 'A29ASP',\n",
       "  277203: 'B90LEU',\n",
       "  277204: 'A6TRP',\n",
       "  277205: 'B93LEU',\n",
       "  277206: 'A32VAL',\n",
       "  277207: 'A3ILE',\n",
       "  277208: 'B16GLY',\n",
       "  277209: 'B75VAL',\n",
       "  277210: 'A42TRP',\n",
       "  277211: 'B48GLY',\n",
       "  277212: 'A53PHE',\n",
       "  277213: 'A85ILE',\n",
       "  277214: 'B6TRP',\n",
       "  277215: 'A94GLY',\n",
       "  277216: 'B30ASP',\n",
       "  277217: 'A52GLY',\n",
       "  277218: 'B66ILE',\n",
       "  277219: 'B63LEU',\n",
       "  277220: 'B98ASN',\n",
       "  277221: 'B70LYS',\n",
       "  277222: 'B32VAL',\n",
       "  277223: 'A2GLN',\n",
       "  277224: 'B79PRO',\n",
       "  277225: 'A44PRO',\n",
       "  277226: 'A22ALA',\n",
       "  277227: 'A82VAL',\n",
       "  277228: 'B28ALA',\n",
       "  277229: 'B94GLY',\n",
       "  277230: 'B45ARG',\n",
       "  277231: 'B22ALA',\n",
       "  277232: 'B40GLY',\n",
       "  277233: 'A19ILE',\n",
       "  277234: 'A33VAL',\n",
       "  277235: 'B76LEU',\n",
       "  277236: 'B15ILE',\n",
       "  277237: 'A28ALA',\n",
       "  277238: 'A71VAL',\n",
       "  277239: 'B57ARG',\n",
       "  277240: 'B71VAL',\n",
       "  277241: 'B78GLY',\n",
       "  277242: 'A65LYS',\n",
       "  277243: 'A20LYS',\n",
       "  277244: 'A59TYR',\n",
       "  277245: 'B14GLU',\n",
       "  277246: 'A13ILE',\n",
       "  277247: 'B18GLN',\n",
       "  277248: 'A21GLU',\n",
       "  277249: 'A96THR',\n",
       "  277250: 'B13ILE',\n",
       "  277251: 'A39PRO',\n",
       "  277252: 'B55LYS',\n",
       "  277253: 'A25ASP',\n",
       "  277254: 'B64VAL',\n",
       "  277255: 'A90LEU',\n",
       "  277256: 'B9PRO',\n",
       "  277257: 'A55LYS',\n",
       "  277258: 'B7GLN',\n",
       "  277259: 'B10LEU',\n",
       "  277260: 'B38LEU',\n",
       "  277261: 'A17GLY',\n",
       "  277262: 'B42TRP',\n",
       "  277263: 'B54ILE',\n",
       "  277264: 'A43LYS',\n",
       "  277265: 'A5LEU',\n",
       "  277266: 'B58GLN',\n",
       "  277267: 'A64VAL',\n",
       "  277268: 'A73GLY',\n",
       "  277269: 'B24LEU',\n",
       "  277270: 'B21GLU',\n",
       "  277271: 'A35GLU',\n",
       "  277272: 'B19ILE',\n",
       "  277273: 'A66ILE',\n",
       "  277274: 'B51GLY',\n",
       "  277275: 'B84ILE',\n",
       "  277276: 'A46MET',\n",
       "  277277: 'A18GLN',\n",
       "  277278: 'B81PRO',\n",
       "  277279: 'A89LEU',\n",
       "  277280: 'A56VAL',\n",
       "  277281: 'A78GLY',\n",
       "  277282: 'B89LEU',\n",
       "  277283: 'A77VAL',\n",
       "  277284: 'B61GLN',\n",
       "  277285: 'B17GLY',\n",
       "  277286: 'B41LYS',\n",
       "  277287: 'A60ASP',\n",
       "  277288: 'B74THR',\n",
       "  277289: 'B43LYS',\n",
       "  277290: 'B65LYS',\n",
       "  277291: 'B72ILE',\n",
       "  277292: 'B3ILE',\n",
       "  277293: 'A23LEU',\n",
       "  277294: 'A68GLY',\n",
       "  277295: 'B39PRO',\n",
       "  277296: 'A9PRO',\n",
       "  277297: 'B96THR',\n",
       "  277298: 'A61GLN',\n",
       "  277299: 'A1PRO',\n",
       "  277300: 'A83ASN',\n",
       "  277301: 'A11VAL',\n",
       "  277302: 'A27GLY',\n",
       "  277303: 'A10LEU',\n",
       "  277304: 'B23LEU',\n",
       "  277305: 'B77VAL',\n",
       "  277306: 'B44PRO',\n",
       "  277307: 'A7GLN',\n",
       "  277308: 'A45ARG',\n",
       "  277309: 'B95CYS',\n",
       "  277310: 'A62VAL',\n",
       "  277311: 'B67CYS',\n",
       "  277312: 'A91THR',\n",
       "  277313: 'A92GLN',\n",
       "  277314: 'A8ARG',\n",
       "  277315: 'A79PRO',\n",
       "  277316: 'A69TYR',\n",
       "  277317: 'B86GLY',\n",
       "  277318: 'A47ILE',\n",
       "  277319: 'A84ILE',\n",
       "  277320: 'B37CYS',\n",
       "  277321: 'A75VAL',\n",
       "  277322: 'A50ILE',\n",
       "  277323: 'B36MET',\n",
       "  277324: 'A16GLY',\n",
       "  277325: 'B34GLU',\n",
       "  277326: 'A93LEU',\n",
       "  277327: 'A87ARG',\n",
       "  277328: 'A98ASN',\n",
       "  277329: 'B47ILE',\n",
       "  277330: 'B11VAL',\n",
       "  277331: 'B87ARG',\n",
       "  277332: 'A67CYS',\n",
       "  277333: 'A72ILE',\n",
       "  277334: 'A14GLU',\n",
       "  277335: 'B80THR',\n",
       "  277336: 'A57ARG',\n",
       "  277337: 'B97LEU',\n",
       "  277338: 'B60ASP',\n",
       "  277339: 'B82VAL',\n",
       "  277340: 'A31THR',\n",
       "  277341: 'A99PHE',\n",
       "  277342: 'B69TYR',\n",
       "  277343: 'B83ASN',\n",
       "  277344: 'B33VAL',\n",
       "  277345: 'B46MET',\n",
       "  277346: 'A74THR',\n",
       "  277347: 'B20LYS',\n",
       "  277348: 'B35GLU',\n",
       "  277349: 'B12THR',\n",
       "  277350: 'A37CYS',\n",
       "  277351: 'A54ILE',\n",
       "  277352: 'B53PHE',\n",
       "  277353: 'A4THR',\n",
       "  277354: 'B85ILE',\n",
       "  277355: 'A76LEU',\n",
       "  277356: 'B59TYR',\n",
       "  277357: 'A58GLN',\n",
       "  277358: 'B27GLY',\n",
       "  277359: 'A49GLY',\n",
       "  277360: 'B52GLY',\n",
       "  277361: 'A41LYS',\n",
       "  277362: 'A26THR',\n",
       "  277363: 'A15ILE',\n",
       "  277364: 'B62VAL',\n",
       "  277365: 'B31THR',\n",
       "  277366: 'B1PRO',\n",
       "  277367: 'A95CYS',\n",
       "  277368: 'B26THR',\n",
       "  277369: 'A40GLY',\n",
       "  277370: 'A30ASP',\n",
       "  277371: 'B29ASP',\n",
       "  277372: 'B99PHE',\n",
       "  277373: 'A51GLY',\n",
       "  277374: 'A80THR',\n",
       "  277375: 'A86GLY',\n",
       "  277376: 'A38LEU',\n",
       "  277377: 'B5LEU',\n",
       "  277378: 'A81PRO',\n",
       "  277379: 'B92GLN',\n",
       "  277380: 'B91THR',\n",
       "  277381: 'B25ASP',\n",
       "  277382: 'A97LEU',\n",
       "  277383: 'B88ASN',\n",
       "  277384: 'B50ILE',\n",
       "  277385: 'A48GLY',\n",
       "  277386: 'B56VAL',\n",
       "  277387: 'B8ARG'})"
      ]
     },
     "execution_count": 7,
     "metadata": {},
     "output_type": "execute_result"
    }
   ],
   "source": [
    "list(graph_nodes.items())[0]"
   ]
  },
  {
   "cell_type": "code",
   "execution_count": 8,
   "metadata": {
    "collapsed": false
   },
   "outputs": [
    {
     "ename": "TypeError",
     "evalue": "must be type, not FrozenList",
     "output_type": "error",
     "traceback": [
      "\u001b[0;31m---------------------------------------------------------------------------\u001b[0m",
      "\u001b[0;31mTypeError\u001b[0m                                 Traceback (most recent call last)",
      "\u001b[0;32m<ipython-input-8-c46dbac041c7>\u001b[0m in \u001b[0;36m<module>\u001b[0;34m()\u001b[0m\n\u001b[0;32m----> 1\u001b[0;31m \u001b[0msummarize_objects\u001b[0m\u001b[0;34m(\u001b[0m\u001b[0;34m)\u001b[0m\u001b[0;34m\u001b[0m\u001b[0m\n\u001b[0m",
      "\u001b[0;32m/Users/ericmjl/Documents/github/memory-tools/src/memorytools/__init__.py\u001b[0m in \u001b[0;36msummarize_objects\u001b[0;34m(objs, echo, limit)\u001b[0m\n\u001b[1;32m     90\u001b[0m     \u001b[0mobjs\u001b[0m \u001b[0;34m=\u001b[0m \u001b[0mgc\u001b[0m\u001b[0;34m.\u001b[0m\u001b[0mget_objects\u001b[0m\u001b[0;34m(\u001b[0m\u001b[0;34m)\u001b[0m\u001b[0;34m\u001b[0m\u001b[0m\n\u001b[1;32m     91\u001b[0m \u001b[0;34m\u001b[0m\u001b[0m\n\u001b[0;32m---> 92\u001b[0;31m   \u001b[0mobjs_dict\u001b[0m \u001b[0;34m=\u001b[0m \u001b[0m_summarize_objects\u001b[0m\u001b[0;34m(\u001b[0m\u001b[0mobjs\u001b[0m\u001b[0;34m)\u001b[0m\u001b[0;34m\u001b[0m\u001b[0m\n\u001b[0m\u001b[1;32m     93\u001b[0m   \u001b[0msize_summary\u001b[0m \u001b[0;34m=\u001b[0m \u001b[0;34m[\u001b[0m\u001b[0;34m'{0:>10s} {1:>5s} {2}'\u001b[0m\u001b[0;34m.\u001b[0m\u001b[0mformat\u001b[0m\u001b[0;34m(\u001b[0m\u001b[0;34m'Size'\u001b[0m\u001b[0;34m,\u001b[0m \u001b[0;34m'Count'\u001b[0m\u001b[0;34m,\u001b[0m \u001b[0;34m'Type'\u001b[0m\u001b[0;34m)\u001b[0m\u001b[0;34m]\u001b[0m\u001b[0;34m\u001b[0m\u001b[0m\n\u001b[1;32m     94\u001b[0m   \u001b[0mcount_summary\u001b[0m \u001b[0;34m=\u001b[0m \u001b[0;34m[\u001b[0m\u001b[0;34m'{0:>5s} {1:>10s} {2}'\u001b[0m\u001b[0;34m.\u001b[0m\u001b[0mformat\u001b[0m\u001b[0;34m(\u001b[0m\u001b[0;34m'Count'\u001b[0m\u001b[0;34m,\u001b[0m \u001b[0;34m'Size'\u001b[0m\u001b[0;34m,\u001b[0m \u001b[0;34m'Type'\u001b[0m\u001b[0;34m)\u001b[0m\u001b[0;34m]\u001b[0m\u001b[0;34m\u001b[0m\u001b[0m\n",
      "\u001b[0;32m/Users/ericmjl/Documents/github/memory-tools/src/memorytools/__init__.py\u001b[0m in \u001b[0;36m_summarize_objects\u001b[0;34m(objs)\u001b[0m\n\u001b[1;32m    133\u001b[0m   \u001b[0;32mfor\u001b[0m \u001b[0mobj\u001b[0m \u001b[0;32min\u001b[0m \u001b[0mobjs\u001b[0m\u001b[0;34m:\u001b[0m\u001b[0;34m\u001b[0m\u001b[0m\n\u001b[1;32m    134\u001b[0m     \u001b[0m_incr\u001b[0m\u001b[0;34m(\u001b[0m\u001b[0mobjs_dict\u001b[0m\u001b[0;34m,\u001b[0m \u001b[0mtype\u001b[0m\u001b[0;34m(\u001b[0m\u001b[0mobj\u001b[0m\u001b[0;34m)\u001b[0m\u001b[0;34m,\u001b[0m \u001b[0;34m'count'\u001b[0m\u001b[0;34m)\u001b[0m\u001b[0;34m\u001b[0m\u001b[0m\n\u001b[0;32m--> 135\u001b[0;31m     \u001b[0m_incr\u001b[0m\u001b[0;34m(\u001b[0m\u001b[0mobjs_dict\u001b[0m\u001b[0;34m,\u001b[0m \u001b[0mtype\u001b[0m\u001b[0;34m(\u001b[0m\u001b[0mobj\u001b[0m\u001b[0;34m)\u001b[0m\u001b[0;34m,\u001b[0m \u001b[0;34m'size'\u001b[0m\u001b[0;34m,\u001b[0m \u001b[0msys\u001b[0m\u001b[0;34m.\u001b[0m\u001b[0mgetsizeof\u001b[0m\u001b[0;34m(\u001b[0m\u001b[0mobj\u001b[0m\u001b[0;34m)\u001b[0m\u001b[0;34m)\u001b[0m\u001b[0;34m\u001b[0m\u001b[0m\n\u001b[0m\u001b[1;32m    136\u001b[0m \u001b[0;34m\u001b[0m\u001b[0m\n\u001b[1;32m    137\u001b[0m   \u001b[0;32mreturn\u001b[0m \u001b[0mobjs_dict\u001b[0m\u001b[0;34m\u001b[0m\u001b[0m\n",
      "\u001b[0;32m/Users/ericmjl/anaconda/lib/python3.5/site-packages/pandas/core/base.py\u001b[0m in \u001b[0;36m__sizeof__\u001b[0;34m(self)\u001b[0m\n\u001b[1;32m    128\u001b[0m         \u001b[0;31m# no memory_usage attribute, so fall back to\u001b[0m\u001b[0;34m\u001b[0m\u001b[0;34m\u001b[0m\u001b[0m\n\u001b[1;32m    129\u001b[0m         \u001b[0;31m# object's 'sizeof'\u001b[0m\u001b[0;34m\u001b[0m\u001b[0;34m\u001b[0m\u001b[0m\n\u001b[0;32m--> 130\u001b[0;31m         \u001b[0;32mreturn\u001b[0m \u001b[0msuper\u001b[0m\u001b[0;34m(\u001b[0m\u001b[0mself\u001b[0m\u001b[0;34m,\u001b[0m \u001b[0mPandasObject\u001b[0m\u001b[0;34m)\u001b[0m\u001b[0;34m.\u001b[0m\u001b[0m__sizeof__\u001b[0m\u001b[0;34m(\u001b[0m\u001b[0;34m)\u001b[0m\u001b[0;34m\u001b[0m\u001b[0m\n\u001b[0m\u001b[1;32m    131\u001b[0m \u001b[0;34m\u001b[0m\u001b[0m\n\u001b[1;32m    132\u001b[0m \u001b[0;34m\u001b[0m\u001b[0m\n",
      "\u001b[0;31mTypeError\u001b[0m: must be type, not FrozenList"
     ]
    }
   ],
   "source": [
    "summarize_objects()"
   ]
  },
  {
   "cell_type": "code",
   "execution_count": 10,
   "metadata": {
    "collapsed": false
   },
   "outputs": [
    {
     "data": {
      "text/plain": [
       "(0, [0, 23, 46])"
      ]
     },
     "execution_count": 10,
     "metadata": {},
     "output_type": "execute_result"
    }
   ],
   "source": [
    "list(nodes_nbrs.items())[0]"
   ]
  },
  {
   "cell_type": "code",
   "execution_count": 11,
   "metadata": {
    "collapsed": false
   },
   "outputs": [
    {
     "data": {
      "text/plain": [
       "3200"
      ]
     },
     "execution_count": 11,
     "metadata": {},
     "output_type": "execute_result"
    }
   ],
   "source": [
    "# Keep track of only those that are in both the graph_idxs and in the df['seqid']\n",
    "intersect = set(df['seqid'].values).intersection(graph_idxs.keys())\n",
    "len(intersect)"
   ]
  },
  {
   "cell_type": "code",
   "execution_count": 12,
   "metadata": {
    "collapsed": false
   },
   "outputs": [],
   "source": [
    "# Get a reduced list of graph_idxs.\n",
    "graph_idxs_red = dict()\n",
    "graph_nodes_red = dict()\n",
    "for g in intersect:\n",
    "    graph_idxs_red[g] = graph_idxs[g]\n",
    "    graph_nodes_red[g] = graph_nodes[g]"
   ]
  },
  {
   "cell_type": "code",
   "execution_count": 13,
   "metadata": {
    "collapsed": false
   },
   "outputs": [
    {
     "data": {
      "text/plain": [
       "[535066,\n",
       " 535067,\n",
       " 535068,\n",
       " 535069,\n",
       " 535070,\n",
       " 535071,\n",
       " 535072,\n",
       " 535073,\n",
       " 535074,\n",
       " 535075,\n",
       " 535076,\n",
       " 535077,\n",
       " 535078,\n",
       " 535079,\n",
       " 535080,\n",
       " 535081,\n",
       " 535082,\n",
       " 535083,\n",
       " 535084,\n",
       " 535085,\n",
       " 535086,\n",
       " 535087,\n",
       " 535088,\n",
       " 535089,\n",
       " 535090,\n",
       " 535091,\n",
       " 535092,\n",
       " 535093,\n",
       " 535094,\n",
       " 535095,\n",
       " 535096,\n",
       " 535097,\n",
       " 535098,\n",
       " 535099,\n",
       " 535100,\n",
       " 535101,\n",
       " 535102,\n",
       " 535103,\n",
       " 535104,\n",
       " 535105,\n",
       " 535106,\n",
       " 535107,\n",
       " 535108,\n",
       " 535109,\n",
       " 535110,\n",
       " 535111,\n",
       " 535112,\n",
       " 535113,\n",
       " 535114,\n",
       " 535115,\n",
       " 535116,\n",
       " 535117,\n",
       " 535118,\n",
       " 535119,\n",
       " 535120,\n",
       " 535121,\n",
       " 535122,\n",
       " 535123,\n",
       " 535124,\n",
       " 535125,\n",
       " 535126,\n",
       " 535127,\n",
       " 535128,\n",
       " 535129,\n",
       " 535130,\n",
       " 535131,\n",
       " 535132,\n",
       " 535133,\n",
       " 535134,\n",
       " 535135,\n",
       " 535136,\n",
       " 535137,\n",
       " 535138,\n",
       " 535139,\n",
       " 535140,\n",
       " 535141,\n",
       " 535142,\n",
       " 535143,\n",
       " 535144,\n",
       " 535145,\n",
       " 535146,\n",
       " 535147,\n",
       " 535148,\n",
       " 535149,\n",
       " 535150,\n",
       " 535151,\n",
       " 535152,\n",
       " 535153,\n",
       " 535154,\n",
       " 535155,\n",
       " 535156,\n",
       " 535157,\n",
       " 535158,\n",
       " 535159,\n",
       " 535160,\n",
       " 535161,\n",
       " 535162,\n",
       " 535163,\n",
       " 535164,\n",
       " 535165,\n",
       " 535166,\n",
       " 535167,\n",
       " 535168,\n",
       " 535169,\n",
       " 535170,\n",
       " 535171,\n",
       " 535172,\n",
       " 535173,\n",
       " 535174,\n",
       " 535175,\n",
       " 535176,\n",
       " 535177,\n",
       " 535178,\n",
       " 535179,\n",
       " 535180,\n",
       " 535181,\n",
       " 535182,\n",
       " 535183,\n",
       " 535184,\n",
       " 535185,\n",
       " 535186,\n",
       " 535187,\n",
       " 535188,\n",
       " 535189,\n",
       " 535190,\n",
       " 535191,\n",
       " 535192,\n",
       " 535193,\n",
       " 535194,\n",
       " 535195,\n",
       " 535196,\n",
       " 535197,\n",
       " 535198,\n",
       " 535199,\n",
       " 535200,\n",
       " 535201,\n",
       " 535202,\n",
       " 535203,\n",
       " 535204,\n",
       " 535205,\n",
       " 535206,\n",
       " 535207,\n",
       " 535208,\n",
       " 535209,\n",
       " 535210,\n",
       " 535211,\n",
       " 535212,\n",
       " 535213,\n",
       " 535214,\n",
       " 535215,\n",
       " 535216,\n",
       " 535217,\n",
       " 535218,\n",
       " 535219,\n",
       " 535220,\n",
       " 535221,\n",
       " 535222,\n",
       " 535223,\n",
       " 535224,\n",
       " 535225,\n",
       " 535226,\n",
       " 535227,\n",
       " 535228,\n",
       " 535229,\n",
       " 535230,\n",
       " 535231,\n",
       " 535232,\n",
       " 535233,\n",
       " 535234,\n",
       " 535235,\n",
       " 535236,\n",
       " 535237,\n",
       " 535238,\n",
       " 535239,\n",
       " 535240,\n",
       " 535241,\n",
       " 535242,\n",
       " 535243,\n",
       " 535244,\n",
       " 535245,\n",
       " 535246,\n",
       " 535247,\n",
       " 535248,\n",
       " 535249,\n",
       " 535250,\n",
       " 535251,\n",
       " 535252,\n",
       " 535253,\n",
       " 535254,\n",
       " 535255,\n",
       " 535256,\n",
       " 535257,\n",
       " 535258,\n",
       " 535259,\n",
       " 535260,\n",
       " 535261,\n",
       " 535262,\n",
       " 535263]"
      ]
     },
     "execution_count": 13,
     "metadata": {},
     "output_type": "execute_result"
    }
   ],
   "source": [
    "graph_idxs_red['46213-0']"
   ]
  },
  {
   "cell_type": "code",
   "execution_count": 14,
   "metadata": {
    "collapsed": false,
    "scrolled": true
   },
   "outputs": [
    {
     "data": {
      "text/plain": [
       "(659895, 36)"
      ]
     },
     "execution_count": 14,
     "metadata": {},
     "output_type": "execute_result"
    }
   ],
   "source": [
    "graph_arr.shape"
   ]
  },
  {
   "cell_type": "code",
   "execution_count": 15,
   "metadata": {
    "collapsed": false,
    "scrolled": true
   },
   "outputs": [],
   "source": [
    "# Make one pass over the data to get the old/new index mapping, and\n",
    "# make the final graph_array that gets passed in as an input.\n",
    "\n",
    "def reindex_data_matrix(graph_idxs_red, graph_arr):\n",
    "    \"\"\"\n",
    "    Parameters:\n",
    "    ===========\n",
    "    - graph_idxs_red: reduced graph indices\n",
    "    - graph_arr: the original matrix of (nodes by node_features)\n",
    "    \n",
    "    Returns:\n",
    "    ========\n",
    "    - graph_arr_fin: a reduced matrix of (nodes by node_features)\n",
    "    - nodes_oldnew, nodes_newold: mapping of new and old indices.\n",
    "    \"\"\"\n",
    "    # Initialize a zero-matrix. \n",
    "    idxs = np.concatenate([i for i in graph_idxs_red.values()])\n",
    "    graph_arr_fin = np.zeros(shape=graph_arr[idxs].shape)\n",
    "\n",
    "    # Initialize empty maps of graph indices from the old to the new.\n",
    "    nodes_oldnew = dict()  # {old_idx: new_idx}.\n",
    "    nodes_newold = dict()  # {new_idx: old_idx}\n",
    "\n",
    "    # Re-assign reduced graphs to the zero-matrix.\n",
    "    curr_idx = 0\n",
    "    for seqid, idxs in sorted(graph_idxs_red.items()):\n",
    "        for idx in idxs:\n",
    "            nodes_oldnew[idx] = curr_idx\n",
    "            nodes_newold[curr_idx] = idx\n",
    "            graph_arr_fin[curr_idx] = graph_arr[idx]\n",
    "            curr_idx += 1\n",
    "    return graph_arr_fin, nodes_oldnew, nodes_newold\n",
    "\n",
    "graph_arr_fin, nodes_oldnew, nodes_newold = reindex_data_matrix(graph_idxs_red, graph_arr)"
   ]
  },
  {
   "cell_type": "code",
   "execution_count": 16,
   "metadata": {
    "collapsed": false
   },
   "outputs": [
    {
     "data": {
      "text/plain": [
       "(622671, 36)"
      ]
     },
     "execution_count": 16,
     "metadata": {},
     "output_type": "execute_result"
    }
   ],
   "source": [
    "graph_arr_fin.shape"
   ]
  },
  {
   "cell_type": "code",
   "execution_count": 17,
   "metadata": {
    "collapsed": false
   },
   "outputs": [
    {
     "data": {
      "text/plain": [
       "622671"
      ]
     },
     "execution_count": 17,
     "metadata": {},
     "output_type": "execute_result"
    }
   ],
   "source": [
    "len(nodes_oldnew)"
   ]
  },
  {
   "cell_type": "code",
   "execution_count": 18,
   "metadata": {
    "collapsed": false
   },
   "outputs": [
    {
     "data": {
      "text/plain": [
       "622671"
      ]
     },
     "execution_count": 18,
     "metadata": {},
     "output_type": "execute_result"
    }
   ],
   "source": [
    "len(nodes_newold)"
   ]
  },
  {
   "cell_type": "code",
   "execution_count": 19,
   "metadata": {
    "collapsed": false,
    "scrolled": true
   },
   "outputs": [],
   "source": [
    "# Check a random sample of the indices to make sure that they are sampled correctly.\n",
    "from random import sample\n",
    "\n",
    "n_samples = 10000\n",
    "rnd_idxs = sample([i for i in range(graph_arr_fin.shape[0])], n_samples)\n",
    "for new_idx in rnd_idxs:\n",
    "    assert np.all(np.equal(graph_arr_fin[new_idx], graph_arr[nodes_newold[new_idx]]))"
   ]
  },
  {
   "cell_type": "code",
   "execution_count": 20,
   "metadata": {
    "collapsed": false
   },
   "outputs": [
    {
     "data": {
      "text/plain": [
       "[('list', 666814),\n",
       " ('function', 26707),\n",
       " ('dict', 10797),\n",
       " ('tuple', 9310),\n",
       " ('weakref', 4117)]"
      ]
     },
     "execution_count": 20,
     "metadata": {},
     "output_type": "execute_result"
    }
   ],
   "source": [
    "objgraph.most_common_types(limit=5)"
   ]
  },
  {
   "cell_type": "code",
   "execution_count": 21,
   "metadata": {
    "collapsed": false
   },
   "outputs": [
    {
     "data": {
      "text/plain": [
       "(622671, 36)"
      ]
     },
     "execution_count": 21,
     "metadata": {},
     "output_type": "execute_result"
    }
   ],
   "source": [
    "graph_arr_fin.shape"
   ]
  },
  {
   "cell_type": "code",
   "execution_count": 22,
   "metadata": {
    "collapsed": false
   },
   "outputs": [],
   "source": [
    "# Finally, rework the nodes_nbrs, graph_idxs, and graph_nodes dictionaries with the corrected idxs.\n",
    "# THIS IS THE KEY STEP! MUST ENCAPSULATE IN A FUNCTION!\n",
    "from collections import defaultdict\n",
    "\n",
    "def filter_and_reindex_nodes_and_neighbors(nodes_nbrs, nodes_oldnew):\n",
    "    \"\"\"\n",
    "    - nodes_nbrs: a dictionary of nodes and their neighbors.\n",
    "    - nodes_oldnew: a dictionary mapping old node indices to their new node indices.\n",
    "    \"\"\"\n",
    "    nodes_nbrs_fin = defaultdict(list)\n",
    "    \n",
    "    for node, nbrs in sorted(nodes_nbrs.items()):\n",
    "        if node in nodes_oldnew.keys():  # \n",
    "            for nbr in nbrs:\n",
    "                nodes_nbrs_fin[nodes_oldnew[node]].append(nodes_oldnew[nbr])\n",
    "    return nodes_nbrs_fin\n",
    "\n",
    "nodes_nbrs_fin = filter_and_reindex_nodes_and_neighbors(nodes_nbrs, nodes_oldnew)"
   ]
  },
  {
   "cell_type": "code",
   "execution_count": 23,
   "metadata": {
    "collapsed": false
   },
   "outputs": [
    {
     "data": {
      "text/plain": [
       "[('list', 1289467),\n",
       " ('function', 26706),\n",
       " ('dict', 10751),\n",
       " ('tuple', 9283),\n",
       " ('weakref', 4121)]"
      ]
     },
     "execution_count": 23,
     "metadata": {},
     "output_type": "execute_result"
    }
   ],
   "source": [
    "objgraph.most_common_types(limit=5)"
   ]
  },
  {
   "cell_type": "code",
   "execution_count": 24,
   "metadata": {
    "collapsed": false
   },
   "outputs": [],
   "source": [
    "def filter_and_reindex_graph_idxs(graph_idxs, nodes_oldnew):\n",
    "    \"\"\"\n",
    "    - graph_idxs: a dictionary of graphs and their original indices.\n",
    "    - nodes_oldnew: a dictionary mapping old node indices to their new node indices.\n",
    "    \"\"\"\n",
    "    graph_idxs_fin = defaultdict(list)\n",
    "    for seqid, nodes in sorted(graph_idxs.items()):\n",
    "        for node in nodes:\n",
    "            if node in nodes_oldnew.keys():\n",
    "                graph_idxs_fin[seqid].append(nodes_oldnew[node])\n",
    "    return graph_idxs_fin\n",
    "\n",
    "graph_idxs_fin = filter_and_reindex_graph_idxs(graph_idxs, nodes_oldnew)"
   ]
  },
  {
   "cell_type": "code",
   "execution_count": 25,
   "metadata": {
    "collapsed": false
   },
   "outputs": [],
   "source": [
    "def filter_and_reindex_graph_nodes(graph_nodes, nodes_oldnew):\n",
    "    \"\"\"\n",
    "    - graph_nodes: a dictionary mapping graphs to their dictionary mapping indices to node names.\n",
    "    - nodes_oldnew: a dictionary mapping old node indices to their new node indices.\n",
    "    \"\"\"    \n",
    "    graph_nodes_fin = defaultdict(dict)\n",
    "    for seqid, idx_node in sorted(graph_nodes.items()):\n",
    "        for old_idx, node_name in idx_node.items():\n",
    "            if old_idx in nodes_oldnew.keys():\n",
    "                graph_nodes_fin[seqid][nodes_oldnew[old_idx]] = node_name\n",
    "    return graph_nodes_fin\n",
    "\n",
    "graph_nodes_fin = filter_and_reindex_graph_nodes(graph_nodes, nodes_oldnew)"
   ]
  },
  {
   "cell_type": "code",
   "execution_count": 26,
   "metadata": {
    "collapsed": false
   },
   "outputs": [
    {
     "data": {
      "text/plain": [
       "[('list', 1292671),\n",
       " ('function', 26708),\n",
       " ('dict', 10751),\n",
       " ('tuple', 9286),\n",
       " ('weakref', 4124)]"
      ]
     },
     "execution_count": 26,
     "metadata": {},
     "output_type": "execute_result"
    }
   ],
   "source": [
    "objgraph.most_common_types(limit=5)"
   ]
  },
  {
   "cell_type": "code",
   "execution_count": 27,
   "metadata": {
    "collapsed": false
   },
   "outputs": [],
   "source": [
    "from graphfp.layers import FingerprintLayer, LinearRegressionLayer, GraphConvLayer\n",
    "from graphfp.utils import initialize_network\n",
    "from pyflatten import flatten\n",
    "\n",
    "layers = [GraphConvLayer(weights_shape=(36, 36), biases_shape=(1, 36)),\n",
    "          FingerprintLayer(weights_shape=(36, 36), biases_shape=(1, 36)),\n",
    "          LinearRegressionLayer(weights_shape=(36, 1), biases_shape=(1, 1)),\n",
    "]\n",
    "\n",
    "wb = initialize_network(layers_spec=layers)\n",
    "wb_vect, unflattener = flatten(wb)"
   ]
  },
  {
   "cell_type": "code",
   "execution_count": 28,
   "metadata": {
    "collapsed": false
   },
   "outputs": [
    {
     "data": {
      "text/plain": [
       "[('list', 1293151),\n",
       " ('function', 30607),\n",
       " ('dict', 12794),\n",
       " ('tuple', 10839),\n",
       " ('weakref', 4550)]"
      ]
     },
     "execution_count": 28,
     "metadata": {},
     "output_type": "execute_result"
    }
   ],
   "source": [
    "objgraph.most_common_types(limit=5)"
   ]
  },
  {
   "cell_type": "code",
   "execution_count": 29,
   "metadata": {
    "collapsed": false
   },
   "outputs": [],
   "source": [
    "# from random import sample\n",
    "\n",
    "# def batch_sample(inputs, nodes_nbrs, graph_idxs, n_graphs):\n",
    "#     \"\"\"\n",
    "#     Randomly samples n_graphs from all of the graphs, returns new inputs,\n",
    "#     node_nbr dictionary, and graph_idx dictionary.\n",
    "#     \"\"\"\n",
    "#     samp_graph_idxs = dict(sample(graph_idxs.items(), n_graphs))\n",
    "#     assert len(samp_graph_idxs) == n_graphs, \"There was an error in sampling.\"\n",
    "#     concat_samp_idxs = np.concatenate([v for k, v in sorted(samp_graph_idxs.items())])\n",
    "#     # print('Samp Idxs Shape')\n",
    "#     # print(concat_samp_idxs.shape)\n",
    "#     samp_nodes_nbrs = {i: nodes_nbrs[i] for i in concat_samp_idxs}\n",
    "#     assert len(samp_nodes_nbrs) == len(concat_samp_idxs)\n",
    "\n",
    "#     samp_inputs, samp_nodes_oldnew, samp_nodes_newold = reindex_data_matrix(samp_graph_idxs, inputs)\n",
    "    \n",
    "#     samp_nodes_nbrs = filter_and_reindex_nodes_and_neighbors(samp_nodes_nbrs, samp_nodes_oldnew)\n",
    "#     samp_graph_idxs = filter_and_reindex_graph_idxs(samp_graph_idxs, samp_nodes_oldnew)\n",
    "    \n",
    "#     return samp_inputs, samp_nodes_nbrs, samp_graph_idxs\n",
    "\n",
    "# n_sampled_graphs = 100\n",
    "# samp_inputs, samp_nodes_nbrs, samp_graph_idxs = batch_sample(graph_arr_fin, nodes_nbrs_fin, graph_idxs_fin, n_sampled_graphs)\n",
    "\n",
    "# assert samp_inputs.shape[1] == 36\n",
    "# assert len(samp_nodes_nbrs) == samp_inputs.shape[0]\n",
    "# assert len(samp_graph_idxs) == n_sampled_graphs"
   ]
  },
  {
   "cell_type": "code",
   "execution_count": 30,
   "metadata": {
    "collapsed": false
   },
   "outputs": [],
   "source": [
    "# # Scratchpad cell\n",
    "# samp_graph_idxs = dict(sample(graph_idxs.items(), 10))\n",
    "# assert len(samp_graph_idxs) == 10\n",
    "# concat_samp_idxs = np.concatenate([i for i in samp_graph_idxs.values()])\n",
    "# samp_nodes_nbrs = {i: nodes_nbrs[i] for i in concat_samp_idxs}\n",
    "# assert len(samp_nodes_nbrs) == len(concat_samp_idxs)"
   ]
  },
  {
   "cell_type": "code",
   "execution_count": 31,
   "metadata": {
    "collapsed": false
   },
   "outputs": [],
   "source": [
    "# Used in conjunction with train_loss function in cell below.\n",
    "from graphfp.binary_matrix_utils import to_sparse_format, to_scipy_csr_matrix\n",
    "# samp_graph_arr, samp_node_nbrs, samp_graph_idx = batch_sample(graph_arr_fin, nodes_nbrs_fin, graph_idxs_fin, 10)\n",
    "node_rows, node_cols, ones = to_sparse_format(nodes_nbrs_fin)\n",
    "# nodes_nbrs_sparse = to_scipy_csr_matrix(nodes_nbrs_fin)"
   ]
  },
  {
   "cell_type": "code",
   "execution_count": 32,
   "metadata": {
    "collapsed": false
   },
   "outputs": [
    {
     "data": {
      "text/plain": [
       "[('list', 1293156),\n",
       " ('function', 30612),\n",
       " ('dict', 12781),\n",
       " ('tuple', 10676),\n",
       " ('weakref', 4554)]"
      ]
     },
     "execution_count": 32,
     "metadata": {},
     "output_type": "execute_result"
    }
   ],
   "source": [
    "objgraph.most_common_types(limit=5)"
   ]
  },
  {
   "cell_type": "code",
   "execution_count": 33,
   "metadata": {
    "collapsed": false
   },
   "outputs": [
    {
     "data": {
      "text/plain": [
       "622671"
      ]
     },
     "execution_count": 33,
     "metadata": {},
     "output_type": "execute_result"
    }
   ],
   "source": [
    "len(nodes_nbrs_fin)"
   ]
  },
  {
   "cell_type": "code",
   "execution_count": 34,
   "metadata": {
    "collapsed": false
   },
   "outputs": [
    {
     "data": {
      "text/plain": [
       "<622671x622671 sparse matrix of type '<class 'numpy.int32'>'\n",
       "\twith 2990113 stored elements in Compressed Sparse Row format>"
      ]
     },
     "execution_count": 34,
     "metadata": {},
     "output_type": "execute_result"
    }
   ],
   "source": [
    "from scipy.sparse import csr_matrix \n",
    "nodes_nbrs_compressed = csr_matrix((ones, (node_rows, node_cols)), shape=(len(nodes_nbrs_fin), len(nodes_nbrs_fin)))\n",
    "nodes_nbrs_compressed"
   ]
  },
  {
   "cell_type": "code",
   "execution_count": 35,
   "metadata": {
    "collapsed": false
   },
   "outputs": [
    {
     "data": {
      "text/plain": [
       "[('list', 1293160),\n",
       " ('function', 30612),\n",
       " ('dict', 12782),\n",
       " ('tuple', 10685),\n",
       " ('weakref', 4557)]"
      ]
     },
     "execution_count": 35,
     "metadata": {},
     "output_type": "execute_result"
    }
   ],
   "source": [
    "objgraph.most_common_types(limit=5)"
   ]
  },
  {
   "cell_type": "code",
   "execution_count": 36,
   "metadata": {
    "collapsed": false
   },
   "outputs": [
    {
     "data": {
      "text/plain": [
       "(3200, 1)"
      ]
     },
     "execution_count": 36,
     "metadata": {},
     "output_type": "execute_result"
    }
   ],
   "source": [
    "# %%prun\n",
    "def predict(wb_struct, inputs, nodes_nbrs_compressed, graph_idxs, layers):\n",
    "    curr_inputs = inputs\n",
    "    \n",
    "    for i, layer in enumerate(layers):\n",
    "        wb = wb_struct['layer{0}_{1}'.format(i, layer)]\n",
    "        curr_inputs = layer.forward_pass(wb, curr_inputs, nodes_nbrs_compressed, graph_idxs)\n",
    "    return curr_inputs\n",
    "\n",
    "\n",
    "predict(wb, graph_arr_fin, nodes_nbrs_compressed, graph_idxs_fin, layers).shape"
   ]
  },
  {
   "cell_type": "code",
   "execution_count": 37,
   "metadata": {
    "collapsed": false
   },
   "outputs": [
    {
     "data": {
      "text/plain": [
       "2372.9289541595585"
      ]
     },
     "execution_count": 37,
     "metadata": {},
     "output_type": "execute_result"
    }
   ],
   "source": [
    "# %%prun\n",
    "\n",
    "# Prototype train_loss function\n",
    "wb_vect, unflattener = flatten(wb)\n",
    "\n",
    "def get_actual(graph_idxs, df, preds):\n",
    "    sorted_graphs = sorted(graph_idxs.keys())\n",
    "    # print(sorted_graphs)\n",
    "    sorted_resistances = df[df['seqid'].isin(sorted_graphs)].set_index('seqid').ix[sorted_graphs]['FPV'].values\n",
    "    # print(sorted_resistances)\n",
    "    actual = sorted_resistances.reshape(preds.shape)\n",
    "    \n",
    "    return actual\n",
    "\n",
    "train_losses = []\n",
    "preds_iter = []\n",
    "actual_iter = []\n",
    "\n",
    "def train_loss(wb_vect, unflattener):\n",
    "    \n",
    "    # Old version - sample one random one each time.\n",
    "    # ----------------------------------------------\n",
    "    # samp_graph_arr, samp_nodes_nbrs, samp_graph_idxs = batch_sample(graph_arr_fin, nodes_nbrs_fin, graph_idxs_fin, 1)\n",
    "    # wb_struct = unflattener(wb_vect)\n",
    "    # preds = predict(wb_struct, samp_graph_arr, samp_nodes_nbrs, samp_graph_idxs, layers)\n",
    "    \n",
    "    # New version - train on just one sample.\n",
    "    # Uses code in cell above.\n",
    "    # ---------------------------------------\n",
    "    wb_struct = unflattener(wb_vect)\n",
    "    preds = predict(wb_struct, graph_arr_fin, nodes_nbrs_compressed, graph_idxs_fin, layers)\n",
    "    graph_scores = get_actual(graph_idxs_fin, df, preds)\n",
    "    mse = np.mean(np.power(preds - graph_scores, 2))\n",
    "    \n",
    "#     train_losses.append(mse)\n",
    "#     preds_iter.append(preds)\n",
    "#     actual_iter.append(graph_scores)\n",
    "    # print(mse)\n",
    "    return mse\n",
    "\n",
    "train_loss(wb_vect, unflattener)"
   ]
  },
  {
   "cell_type": "code",
   "execution_count": 38,
   "metadata": {
    "collapsed": false
   },
   "outputs": [
    {
     "data": {
      "text/plain": [
       "[('list', 1293173),\n",
       " ('function', 30619),\n",
       " ('dict', 12794),\n",
       " ('tuple', 10687),\n",
       " ('weakref', 4560)]"
      ]
     },
     "execution_count": 38,
     "metadata": {},
     "output_type": "execute_result"
    }
   ],
   "source": [
    "objgraph.most_common_types(limit=5)"
   ]
  },
  {
   "cell_type": "code",
   "execution_count": 39,
   "metadata": {
    "collapsed": false
   },
   "outputs": [],
   "source": [
    "gradfunc = grad(train_loss)"
   ]
  },
  {
   "cell_type": "code",
   "execution_count": 40,
   "metadata": {
    "collapsed": false
   },
   "outputs": [
    {
     "data": {
      "text/plain": [
       "array([ -1.99004175e+00,  -9.95647841e-03,   4.87130438e-01, ...,\n",
       "        -5.24873985e+02,  -7.65882729e+02,  -1.23648463e-01])"
      ]
     },
     "execution_count": 40,
     "metadata": {},
     "output_type": "execute_result"
    }
   ],
   "source": [
    "gradfunc(wb_vect, unflattener)"
   ]
  },
  {
   "cell_type": "code",
   "execution_count": 41,
   "metadata": {
    "collapsed": false
   },
   "outputs": [
    {
     "data": {
      "text/plain": [
       "[('list', 1315651),\n",
       " ('function', 43455),\n",
       " ('tuple', 36361),\n",
       " ('cell', 23731),\n",
       " ('dict', 15995)]"
      ]
     },
     "execution_count": 41,
     "metadata": {},
     "output_type": "execute_result"
    }
   ],
   "source": [
    "objgraph.most_common_types(limit=5)"
   ]
  },
  {
   "cell_type": "code",
   "execution_count": 44,
   "metadata": {
    "collapsed": true
   },
   "outputs": [],
   "source": [
    "from pympler import muppy, summary"
   ]
  },
  {
   "cell_type": "code",
   "execution_count": 43,
   "metadata": {
    "collapsed": true
   },
   "outputs": [],
   "source": [
    "all_objects = muppy.get_objects()"
   ]
  },
  {
   "cell_type": "code",
   "execution_count": 45,
   "metadata": {
    "collapsed": false
   },
   "outputs": [
    {
     "ename": "TypeError",
     "evalue": "must be type, not FrozenList",
     "output_type": "error",
     "traceback": [
      "\u001b[0;31m---------------------------------------------------------------------------\u001b[0m",
      "\u001b[0;31mTypeError\u001b[0m                                 Traceback (most recent call last)",
      "\u001b[0;32m<ipython-input-45-9ac36a350e08>\u001b[0m in \u001b[0;36m<module>\u001b[0;34m()\u001b[0m\n\u001b[0;32m----> 1\u001b[0;31m \u001b[0msum1\u001b[0m \u001b[0;34m=\u001b[0m \u001b[0msummary\u001b[0m\u001b[0;34m.\u001b[0m\u001b[0msummarize\u001b[0m\u001b[0;34m(\u001b[0m\u001b[0mall_objects\u001b[0m\u001b[0;34m)\u001b[0m\u001b[0;34m\u001b[0m\u001b[0m\n\u001b[0m\u001b[1;32m      2\u001b[0m \u001b[0msummary\u001b[0m\u001b[0;34m.\u001b[0m\u001b[0mprint_\u001b[0m\u001b[0;34m(\u001b[0m\u001b[0msum1\u001b[0m\u001b[0;34m)\u001b[0m\u001b[0;34m\u001b[0m\u001b[0m\n",
      "\u001b[0;32m/Users/ericmjl/anaconda/lib/python3.5/site-packages/pympler/summary.py\u001b[0m in \u001b[0;36msummarize\u001b[0;34m(objects)\u001b[0m\n\u001b[1;32m    129\u001b[0m         \u001b[0;32melse\u001b[0m\u001b[0;34m:\u001b[0m\u001b[0;34m\u001b[0m\u001b[0m\n\u001b[1;32m    130\u001b[0m             \u001b[0mcount\u001b[0m\u001b[0;34m[\u001b[0m\u001b[0motype\u001b[0m\u001b[0;34m]\u001b[0m \u001b[0;34m=\u001b[0m \u001b[0;36m1\u001b[0m\u001b[0;34m\u001b[0m\u001b[0m\n\u001b[0;32m--> 131\u001b[0;31m             \u001b[0mtotal_size\u001b[0m\u001b[0;34m[\u001b[0m\u001b[0motype\u001b[0m\u001b[0;34m]\u001b[0m \u001b[0;34m=\u001b[0m \u001b[0m_getsizeof\u001b[0m\u001b[0;34m(\u001b[0m\u001b[0mo\u001b[0m\u001b[0;34m)\u001b[0m\u001b[0;34m\u001b[0m\u001b[0m\n\u001b[0m\u001b[1;32m    132\u001b[0m     \u001b[0mrows\u001b[0m \u001b[0;34m=\u001b[0m \u001b[0;34m[\u001b[0m\u001b[0;34m]\u001b[0m\u001b[0;34m\u001b[0m\u001b[0m\n\u001b[1;32m    133\u001b[0m     \u001b[0;32mfor\u001b[0m \u001b[0motype\u001b[0m \u001b[0;32min\u001b[0m \u001b[0mcount\u001b[0m\u001b[0;34m:\u001b[0m\u001b[0;34m\u001b[0m\u001b[0m\n",
      "\u001b[0;32m/Users/ericmjl/anaconda/lib/python3.5/site-packages/pandas/core/base.py\u001b[0m in \u001b[0;36m__sizeof__\u001b[0;34m(self)\u001b[0m\n\u001b[1;32m    128\u001b[0m         \u001b[0;31m# no memory_usage attribute, so fall back to\u001b[0m\u001b[0;34m\u001b[0m\u001b[0;34m\u001b[0m\u001b[0m\n\u001b[1;32m    129\u001b[0m         \u001b[0;31m# object's 'sizeof'\u001b[0m\u001b[0;34m\u001b[0m\u001b[0;34m\u001b[0m\u001b[0m\n\u001b[0;32m--> 130\u001b[0;31m         \u001b[0;32mreturn\u001b[0m \u001b[0msuper\u001b[0m\u001b[0;34m(\u001b[0m\u001b[0mself\u001b[0m\u001b[0;34m,\u001b[0m \u001b[0mPandasObject\u001b[0m\u001b[0;34m)\u001b[0m\u001b[0;34m.\u001b[0m\u001b[0m__sizeof__\u001b[0m\u001b[0;34m(\u001b[0m\u001b[0;34m)\u001b[0m\u001b[0;34m\u001b[0m\u001b[0m\n\u001b[0m\u001b[1;32m    131\u001b[0m \u001b[0;34m\u001b[0m\u001b[0m\n\u001b[1;32m    132\u001b[0m \u001b[0;34m\u001b[0m\u001b[0m\n",
      "\u001b[0;31mTypeError\u001b[0m: must be type, not FrozenList"
     ]
    }
   ],
   "source": [
    "sum1 = summary.summarize(all_objects)\n",
    "summary.print_(sum1)"
   ]
  },
  {
   "cell_type": "code",
   "execution_count": 44,
   "metadata": {
    "collapsed": false
   },
   "outputs": [],
   "source": [
    "top_stats = post_grad.compare_to(pre_grad, 'traceback')"
   ]
  },
  {
   "cell_type": "code",
   "execution_count": 45,
   "metadata": {
    "collapsed": false
   },
   "outputs": [
    {
     "name": "stdout",
     "output_type": "stream",
     "text": [
      "[ Top 10 differences ]\n",
      "/Users/ericmjl/Documents/github/autograd/autograd/core.py:121: size=808 KiB (+806 KiB), count=12928 (+12892), average=64 B\n",
      "/Users/ericmjl/Documents/github/autograd/autograd/numpy/numpy_extra.py:11: size=700 KiB (+700 KiB), count=12798 (+12798), average=56 B\n",
      "/Users/ericmjl/Documents/github/autograd/autograd/core.py:226: size=677 KiB (+677 KiB), count=9634 (+9634), average=72 B\n",
      "/Users/ericmjl/Documents/github/autograd/autograd/numpy/numpy_extra.py:154: size=487 KiB (+487 KiB), count=6399 (+6399), average=78 B\n",
      "/Users/ericmjl/Documents/github/autograd/autograd/core.py:99: size=459 KiB (+459 KiB), count=9657 (+9657), average=49 B\n",
      "/Users/ericmjl/Documents/github/autograd/autograd/numpy/numpy_grads.py:442: size=425 KiB (+425 KiB), count=3200 (+3200), average=136 B\n",
      "/Users/ericmjl/Documents/github/autograd/autograd/numpy/numpy_grads.py:402: size=425 KiB (+425 KiB), count=3200 (+3200), average=136 B\n",
      "/Users/ericmjl/Documents/github/autograd/autograd/numpy/numpy_grads.py:263: size=425 KiB (+425 KiB), count=3200 (+3200), average=136 B\n",
      "/Users/ericmjl/Documents/github/autograd/autograd/numpy/numpy_extra.py:13: size=425 KiB (+425 KiB), count=3200 (+3200), average=136 B\n",
      "/Users/ericmjl/Documents/github/autograd/autograd/core.py:211: size=401 KiB (+401 KiB), count=6414 (+6414), average=64 B\n"
     ]
    }
   ],
   "source": [
    "print(\"[ Top 10 differences ]\")\n",
    "for stat in top_stats[:10]:\n",
    "    print(stat)"
   ]
  },
  {
   "cell_type": "code",
   "execution_count": 31,
   "metadata": {
    "collapsed": true
   },
   "outputs": [],
   "source": [
    "from graphfp.optimizers import adam"
   ]
  },
  {
   "cell_type": "code",
   "execution_count": 32,
   "metadata": {
    "collapsed": false
   },
   "outputs": [],
   "source": [
    "import gc\n",
    "from time import time\n",
    "training_losses = []\n",
    "def callback(wb, i):\n",
    "    start = time()\n",
    "    tl = train_loss(*flatten(wb))\n",
    "    if i % 1 == 0:\n",
    "        print(tl, time() - start)\n",
    "    training_losses.append(tl)\n",
    "    gc.collect()"
   ]
  },
  {
   "cell_type": "code",
   "execution_count": null,
   "metadata": {
    "collapsed": false,
    "scrolled": true
   },
   "outputs": [],
   "source": [
    "# adam(gradfunc, wb, callback=callback, num_iters=10)\n",
    "wb_vect, unflattener = adam(gradfunc, wb, callback=callback, num_iters=5)"
   ]
  },
  {
   "cell_type": "code",
   "execution_count": null,
   "metadata": {
    "collapsed": false
   },
   "outputs": [],
   "source": [
    "# %matplotlib inline\n",
    "\n",
    "import matplotlib.pyplot as plt\n",
    "from autograd.core import getval\n",
    "\n",
    "plt.plot([getval(i) for i in train_losses])\n",
    "plt.yscale('log')"
   ]
  },
  {
   "cell_type": "code",
   "execution_count": null,
   "metadata": {
    "collapsed": false,
    "scrolled": true
   },
   "outputs": [],
   "source": []
  },
  {
   "cell_type": "code",
   "execution_count": null,
   "metadata": {
    "collapsed": true
   },
   "outputs": [],
   "source": []
  },
  {
   "cell_type": "code",
   "execution_count": null,
   "metadata": {
    "collapsed": true
   },
   "outputs": [],
   "source": []
  },
  {
   "cell_type": "code",
   "execution_count": null,
   "metadata": {
    "collapsed": true
   },
   "outputs": [],
   "source": []
  },
  {
   "cell_type": "code",
   "execution_count": null,
   "metadata": {
    "collapsed": true
   },
   "outputs": [],
   "source": []
  }
 ],
 "metadata": {
  "kernelspec": {
   "display_name": "Python 3",
   "language": "python",
   "name": "python3"
  },
  "language_info": {
   "codemirror_mode": {
    "name": "ipython",
    "version": 3
   },
   "file_extension": ".py",
   "mimetype": "text/x-python",
   "name": "python",
   "nbconvert_exporter": "python",
   "pygments_lexer": "ipython3",
   "version": "3.5.1"
  },
  "widgets": {
   "state": {},
   "version": "1.1.1"
  }
 },
 "nbformat": 4,
 "nbformat_minor": 0
}
